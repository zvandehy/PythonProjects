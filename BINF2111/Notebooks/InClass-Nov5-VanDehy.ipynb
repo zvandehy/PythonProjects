{
 "cells": [
  {
   "cell_type": "code",
   "execution_count": null,
   "metadata": {},
   "outputs": [],
   "source": [
    "# Filtering and Iterating over Dictionaries -- In Class Oct 17\n",
    "# Zeke Van Dehy\n",
    "# Nov 5, 2020"
   ]
  },
  {
   "cell_type": "markdown",
   "metadata": {},
   "source": [
    "# Let's make an example #\n",
    "\n",
    "In the cell below, create a dictionary called aamws from the file aamw.txt, as we did last time. We'll use this file in our subsequent examples. MAKE SURE THAT YOU PUT THE MOLECULAR WEIGHTS INTO YOUR DICT AS FLOATS and not as strings. It'll make life easier later."
   ]
  },
  {
   "cell_type": "code",
   "execution_count": 3,
   "metadata": {},
   "outputs": [
    {
     "name": "stdout",
     "output_type": "stream",
     "text": [
      "{'I': 131.1736, 'L': 131.1736, 'K': 146.1882, 'M': 149.2124, 'F': 165.19, 'T': 119.1197, 'W': 204.2262, 'V': 117.1469, 'R': 174.2017, 'H': 155.1552, 'A': 89.0935, 'N': 132.1184, 'D': 133.1032, 'C': 121.159, 'E': 147.1299, 'Q': 146.1451, 'G': 75.0669, 'P': 115.131, 'S': 105.093, 'Y': 181.1894}\n"
     ]
    }
   ],
   "source": [
    "with open(\"aamw.txt\") as fo:\n",
    "    aamws = {line.strip().split()[0]:float(line.strip().split()[1]) for line in fo.readlines() if line[0] != \"#\"}\n",
    "print(aamws)"
   ]
  },
  {
   "cell_type": "markdown",
   "metadata": {},
   "source": [
    "# Checking to see if a key is in the dictionary #\n",
    "\n",
    "The in operator is the python3 way of checking to see if a key is in a dictionary. "
   ]
  },
  {
   "cell_type": "code",
   "execution_count": 5,
   "metadata": {},
   "outputs": [
    {
     "name": "stdout",
     "output_type": "stream",
     "text": [
      "True\n",
      "False\n"
     ]
    }
   ],
   "source": [
    "print(\"I\" in aamws)\n",
    "print(\"X\" in aamws)"
   ]
  },
  {
   "cell_type": "markdown",
   "metadata": {},
   "source": [
    "# .keys() gets the keys #\n",
    "\n",
    "If you want to access a dictionary via its keys, you can extract just the keys with .keys()\n",
    "\n",
    "print(my_dict.keys())\n",
    "\n",
    "Print the list of keys for your amino acid molecular weights dictionary in the cell below."
   ]
  },
  {
   "cell_type": "code",
   "execution_count": 6,
   "metadata": {},
   "outputs": [
    {
     "name": "stdout",
     "output_type": "stream",
     "text": [
      "dict_keys(['I', 'L', 'K', 'M', 'F', 'T', 'W', 'V', 'R', 'H', 'A', 'N', 'D', 'C', 'E', 'Q', 'G', 'P', 'S', 'Y'])\n"
     ]
    }
   ],
   "source": [
    "print(aamws.keys())"
   ]
  },
  {
   "cell_type": "markdown",
   "metadata": {},
   "source": [
    "# .values() gets the values #\n",
    "\n",
    "Just like .keys(), .values() gets just the values for your dictionary.\n",
    "\n",
    "Do this below for your amino acid molecular weights dictionary."
   ]
  },
  {
   "cell_type": "code",
   "execution_count": 7,
   "metadata": {},
   "outputs": [
    {
     "name": "stdout",
     "output_type": "stream",
     "text": [
      "dict_values([131.1736, 131.1736, 146.1882, 149.2124, 165.19, 119.1197, 204.2262, 117.1469, 174.2017, 155.1552, 89.0935, 132.1184, 133.1032, 121.159, 147.1299, 146.1451, 75.0669, 115.131, 105.093, 181.1894])\n"
     ]
    }
   ],
   "source": [
    "print(aamws.values())"
   ]
  },
  {
   "cell_type": "markdown",
   "metadata": {},
   "source": [
    "# .items() gets the key:value pairs #\n",
    "\n",
    ".items() works the same way as the other two methods -- but it gets a list of the paired key/value items in your dictionary. Try this below."
   ]
  },
  {
   "cell_type": "code",
   "execution_count": 8,
   "metadata": {},
   "outputs": [
    {
     "name": "stdout",
     "output_type": "stream",
     "text": [
      "dict_items([('I', 131.1736), ('L', 131.1736), ('K', 146.1882), ('M', 149.2124), ('F', 165.19), ('T', 119.1197), ('W', 204.2262), ('V', 117.1469), ('R', 174.2017), ('H', 155.1552), ('A', 89.0935), ('N', 132.1184), ('D', 133.1032), ('C', 121.159), ('E', 147.1299), ('Q', 146.1451), ('G', 75.0669), ('P', 115.131), ('S', 105.093), ('Y', 181.1894)])\n"
     ]
    }
   ],
   "source": [
    "print(aamws.items())"
   ]
  },
  {
   "cell_type": "markdown",
   "metadata": {},
   "source": [
    "# Answer this question #\n",
    "\n",
    "What is the list that .items() returns a list of? list of tuples"
   ]
  },
  {
   "cell_type": "markdown",
   "metadata": {},
   "source": [
    "# What can you do with these objects? #\n",
    "\n",
    "The returned objects from .keys(), .values() and .items() look a lot like lists. But are they? To see what I mean, try to use one of the list methods that we used to change a list in place.  .sort(), or .reverse.\n",
    "\n",
    "Try out dict.keys().sort() on your aamws dictionary. What happens? Are these items actually standard lists? Use type() to find out."
   ]
  },
  {
   "cell_type": "code",
   "execution_count": 14,
   "metadata": {},
   "outputs": [
    {
     "name": "stdout",
     "output_type": "stream",
     "text": [
      "['A', 'C', 'D', 'E', 'F', 'G', 'H', 'I', 'K', 'L', 'M', 'N', 'P', 'Q', 'R', 'S', 'T', 'V', 'W', 'Y']\n"
     ]
    },
    {
     "ename": "AttributeError",
     "evalue": "'dict_keys' object has no attribute 'sort'",
     "output_type": "error",
     "traceback": [
      "\u001b[0;31m---------------------------------------------------------------------------\u001b[0m",
      "\u001b[0;31mAttributeError\u001b[0m                            Traceback (most recent call last)",
      "\u001b[0;32m<ipython-input-14-4a2a423a878f>\u001b[0m in \u001b[0;36m<module>\u001b[0;34m\u001b[0m\n\u001b[1;32m      2\u001b[0m \u001b[0mk\u001b[0m\u001b[0;34m.\u001b[0m\u001b[0msort\u001b[0m\u001b[0;34m(\u001b[0m\u001b[0;34m)\u001b[0m\u001b[0;34m\u001b[0m\u001b[0;34m\u001b[0m\u001b[0m\n\u001b[1;32m      3\u001b[0m \u001b[0mprint\u001b[0m\u001b[0;34m(\u001b[0m\u001b[0mk\u001b[0m\u001b[0;34m)\u001b[0m\u001b[0;34m\u001b[0m\u001b[0;34m\u001b[0m\u001b[0m\n\u001b[0;32m----> 4\u001b[0;31m \u001b[0maamws\u001b[0m\u001b[0;34m.\u001b[0m\u001b[0mkeys\u001b[0m\u001b[0;34m(\u001b[0m\u001b[0;34m)\u001b[0m\u001b[0;34m.\u001b[0m\u001b[0msort\u001b[0m\u001b[0;34m(\u001b[0m\u001b[0;34m)\u001b[0m\u001b[0;34m\u001b[0m\u001b[0;34m\u001b[0m\u001b[0m\n\u001b[0m",
      "\u001b[0;31mAttributeError\u001b[0m: 'dict_keys' object has no attribute 'sort'"
     ]
    }
   ],
   "source": [
    "k = list(aamws.keys())\n",
    "k.sort()\n",
    "print(k)\n",
    "aamws.keys().sort()"
   ]
  },
  {
   "cell_type": "code",
   "execution_count": 11,
   "metadata": {},
   "outputs": [
    {
     "data": {
      "text/plain": [
       "dict_keys"
      ]
     },
     "execution_count": 11,
     "metadata": {},
     "output_type": "execute_result"
    }
   ],
   "source": [
    "type(aamws.keys())"
   ]
  },
  {
   "cell_type": "markdown",
   "metadata": {},
   "source": [
    "They are not standards lists, they are dict_keys which is an object/view of the dict that allows for iteration, multiple iteration, and set operations."
   ]
  },
  {
   "cell_type": "markdown",
   "metadata": {},
   "source": [
    "# Dict objects #\n",
    "\n",
    "Even though you can't use standard list methods on these objects, you can use some of the built-in functions that we know and love.\n",
    "\n",
    "In the cell below, try the following:\n",
    "\n",
    "sorted() on dict.keys()\n",
    "reversed(sorted()) on dict.keys()\n",
    "sum() on dict.values()\n",
    "len() on dict.items()\n",
    "min() on dict.values()\n",
    "max() on dict.values()\n",
    "set() on dict.values()"
   ]
  },
  {
   "cell_type": "code",
   "execution_count": 13,
   "metadata": {},
   "outputs": [
    {
     "name": "stdout",
     "output_type": "stream",
     "text": [
      "['A', 'C', 'D', 'E', 'F', 'G', 'H', 'I', 'K', 'L', 'M', 'N', 'P', 'Q', 'R', 'S', 'T', 'V', 'W', 'Y']\n",
      "<list_reverseiterator object at 0x7f9a329dddf0>\n",
      "2738.0169\n",
      "20\n",
      "75.0669\n",
      "{131.1736, 132.1184, 133.1032, 146.1882, 147.1299, 146.1451, 149.2124, 155.1552, 165.19, 174.2017, 181.1894, 75.0669, 204.2262, 89.0935, 105.093, 115.131, 117.1469, 119.1197, 121.159}\n"
     ]
    }
   ],
   "source": [
    "print(sorted(aamws.keys()))\n",
    "print(reversed(sorted(aamws.keys())))\n",
    "print(sum(aamws.values()))\n",
    "print(len(aamws.items()))\n",
    "print(min(aamws.values()))\n",
    "print(set(aamws.values()))"
   ]
  },
  {
   "cell_type": "markdown",
   "metadata": {},
   "source": [
    "# Change dict objects to lists #\n",
    "\n",
    "Using a function we've seen previously, how would you change a dict keys or dict values object to a regular list, if you needed to? Try it out in the cell below."
   ]
  },
  {
   "cell_type": "code",
   "execution_count": 15,
   "metadata": {},
   "outputs": [
    {
     "data": {
      "text/plain": [
       "['I',\n",
       " 'L',\n",
       " 'K',\n",
       " 'M',\n",
       " 'F',\n",
       " 'T',\n",
       " 'W',\n",
       " 'V',\n",
       " 'R',\n",
       " 'H',\n",
       " 'A',\n",
       " 'N',\n",
       " 'D',\n",
       " 'C',\n",
       " 'E',\n",
       " 'Q',\n",
       " 'G',\n",
       " 'P',\n",
       " 'S',\n",
       " 'Y']"
      ]
     },
     "execution_count": 15,
     "metadata": {},
     "output_type": "execute_result"
    }
   ],
   "source": [
    "list(aamws.keys())"
   ]
  },
  {
   "cell_type": "markdown",
   "metadata": {},
   "source": [
    "# Getting a value when you have a key #\n",
    "\n",
    "Last time we saw how to use .get() to get the value associated with a key. Use .get() to get the value associated with the amino acid cysteine (C) in the cell below."
   ]
  },
  {
   "cell_type": "code",
   "execution_count": 16,
   "metadata": {},
   "outputs": [
    {
     "data": {
      "text/plain": [
       "121.159"
      ]
     },
     "execution_count": 16,
     "metadata": {},
     "output_type": "execute_result"
    }
   ],
   "source": [
    "aamws.get(\"C\")"
   ]
  },
  {
   "cell_type": "markdown",
   "metadata": {},
   "source": [
    "# Getting a key when you have a value #\n",
    "\n",
    "We can also get a key when we know a value. This can be fraught with danger because sometimes we have values that are non-unique. But if we do something like, say, getting the min() or max() of a list of values, then we can go back and get the corresponding key by iterating over the items.\n",
    "\n",
    "# Iterating over .items() #\n",
    "\n",
    ".items() returns a tuple-like object, so you need to iterate over it with a statement that has a variable for each value in the tuple:\n",
    "\n",
    "```for aa,mw in aamws.items():\n",
    "    if mw == the_value_i_want:\n",
    "        the_answer = aa```"
   ]
  },
  {
   "cell_type": "code",
   "execution_count": 18,
   "metadata": {},
   "outputs": [
    {
     "name": "stdout",
     "output_type": "stream",
     "text": [
      "G\n"
     ]
    }
   ],
   "source": [
    "for aa,mw in aamws.items():\n",
    "    if mw == min(aamws.values()):\n",
    "        min_key = aa\n",
    "print(min_key)"
   ]
  },
  {
   "cell_type": "markdown",
   "metadata": {},
   "source": [
    "# Iterating over .keys() #\n",
    "\n",
    "To iterate over only the keys in your dictionary and get the associated values, you would use a loop like:\n",
    "\n",
    "```for aa in aamws.keys():\n",
    "    print(aamws[aa])```"
   ]
  },
  {
   "cell_type": "code",
   "execution_count": 25,
   "metadata": {},
   "outputs": [
    {
     "name": "stdout",
     "output_type": "stream",
     "text": [
      "I 131.1736\n",
      "L 131.1736\n",
      "K 146.1882\n",
      "M 149.2124\n",
      "F 165.19\n",
      "T 119.1197\n",
      "W 204.2262\n",
      "V 117.1469\n",
      "R 174.2017\n",
      "H 155.1552\n",
      "A 89.0935\n",
      "N 132.1184\n",
      "D 133.1032\n",
      "C 121.159\n",
      "E 147.1299\n",
      "Q 146.1451\n",
      "G 75.0669\n",
      "P 115.131\n",
      "S 105.093\n",
      "Y 181.1894\n"
     ]
    }
   ],
   "source": [
    "for aa in aamws.keys():\n",
    "    print(aa, aamws[aa])"
   ]
  },
  {
   "cell_type": "markdown",
   "metadata": {},
   "source": [
    "# Sorting .keys() #\n",
    "\n",
    "You can use sorted() and reversed() with dict object types. In the cell below, access your keys in sorted() and reversed(sorted()) order to print out the amino acid molecular weight list in alphabetical and reverse alphabetical order."
   ]
  },
  {
   "cell_type": "code",
   "execution_count": 24,
   "metadata": {},
   "outputs": [
    {
     "name": "stdout",
     "output_type": "stream",
     "text": [
      "Y : 181.1894\n",
      "W : 204.2262\n",
      "V : 117.1469\n",
      "T : 119.1197\n",
      "S : 105.093\n",
      "R : 174.2017\n",
      "Q : 146.1451\n",
      "P : 115.131\n",
      "N : 132.1184\n",
      "M : 149.2124\n",
      "L : 131.1736\n",
      "K : 146.1882\n",
      "I : 131.1736\n",
      "H : 155.1552\n",
      "G : 75.0669\n",
      "F : 165.19\n",
      "E : 147.1299\n",
      "D : 133.1032\n",
      "C : 121.159\n",
      "A : 89.0935\n"
     ]
    }
   ],
   "source": [
    "for aa in reversed(sorted(aamws.keys())):\n",
    "    print(aa,\":\",aamws[aa])"
   ]
  },
  {
   "cell_type": "markdown",
   "metadata": {},
   "source": [
    "# Iterating over .values() #\n",
    "\n",
    "You can, but should you? Let's try.\n",
    "\n",
    "```for mw in aamws.values():```\n",
    "\n",
    "Starting from this point, and with what we learned above, would you have to do to go back and get the keys for each value in the list?\n",
    "\n",
    "Would it be a good idea to get set(dict.values()) and iterate over that instead? Why? "
   ]
  },
  {
   "cell_type": "code",
   "execution_count": 27,
   "metadata": {},
   "outputs": [
    {
     "name": "stdout",
     "output_type": "stream",
     "text": [
      "131.1736\n",
      "['I', 'L']\n",
      "131.1736\n",
      "['I', 'L']\n",
      "146.1882\n",
      "['K']\n",
      "149.2124\n",
      "['M']\n",
      "165.19\n",
      "['F']\n",
      "119.1197\n",
      "['T']\n",
      "204.2262\n",
      "['W']\n",
      "117.1469\n",
      "['V']\n",
      "174.2017\n",
      "['R']\n",
      "155.1552\n",
      "['H']\n",
      "89.0935\n",
      "['A']\n",
      "132.1184\n",
      "['N']\n",
      "133.1032\n",
      "['D']\n",
      "121.159\n",
      "['C']\n",
      "147.1299\n",
      "['E']\n",
      "146.1451\n",
      "['Q']\n",
      "75.0669\n",
      "['G']\n",
      "115.131\n",
      "['P']\n",
      "105.093\n",
      "['S']\n",
      "181.1894\n",
      "['Y']\n"
     ]
    }
   ],
   "source": [
    "for mw in aamws.values():\n",
    "    print(mw)\n",
    "    print( [aa for aa,mw2 in aamws.items() if mw2 == mw] )\n",
    "#not a good idea to get the set because the values are not unique, so you might lose some keys"
   ]
  },
  {
   "cell_type": "markdown",
   "metadata": {},
   "source": [
    "#not a good idea to get the set because the values are not unique, so you might lose some keys"
   ]
  },
  {
   "cell_type": "code",
   "execution_count": 3,
   "metadata": {},
   "outputs": [],
   "source": [
    "def gc_content(sequence):\n",
    "    count = sequence.count(\"G\") + sequence.count(\"C\")\n",
    "    prob = count/len(sequence)\n",
    "    return prob\n",
    "\n",
    "assert gc_content(\"AAATTT\") == 0.0\n",
    "assert gc_content(\"GGGCCC\") == 1.0\n",
    "assert gc_content(\"AAAGGG\") == .50\n",
    "assert gc_content(\"GGCCAA\") == 2/3\n"
   ]
  },
  {
   "cell_type": "code",
   "execution_count": 5,
   "metadata": {},
   "outputs": [
    {
     "name": "stdout",
     "output_type": "stream",
     "text": [
      "[9, 5, 14, 12, 21, 18, 1]\n"
     ]
    }
   ],
   "source": [
    "import random\n",
    "def powerball():\n",
    "    winning_numbers = []\n",
    "    for i in range(0,6):\n",
    "        winning_numbers.append(random.randint(1,40))\n",
    "    winning_numbers.append(random.randint(1,15))\n",
    "    return winning_numbers\n",
    "\n",
    "pb = powerball()\n",
    "print(pb)"
   ]
  },
  {
   "cell_type": "code",
   "execution_count": 7,
   "metadata": {},
   "outputs": [
    {
     "name": "stdout",
     "output_type": "stream",
     "text": [
      "ABC\n",
      "DEF\n",
      "GHI\n",
      "JKL\n",
      "MNO\n",
      "PQR\n",
      "STU\n",
      "VWX\n",
      "YZ\n"
     ]
    }
   ],
   "source": [
    "abc = \"ABCDEFGHIJKLMNOPQRSTUVWXYZ\"\n",
    "for i in range(0,len(abc),3):\n",
    "    print(abc[i:i+3])"
   ]
  },
  {
   "cell_type": "code",
   "execution_count": 8,
   "metadata": {},
   "outputs": [
    {
     "name": "stdout",
     "output_type": "stream",
     "text": [
      "1 False\n",
      "2 False\n",
      "5 False\n",
      "7 False\n",
      "10 False\n",
      "13 False\n",
      "22 False\n",
      "24 True\n",
      "35 False\n",
      "54 True\n",
      "81 True\n",
      "94 False\n"
     ]
    }
   ],
   "source": [
    "nums = [1,2,5,7,10,13,22,24,35,54,81,94]\n",
    "for i in nums:\n",
    "    print(i,i%3==0)"
   ]
  },
  {
   "cell_type": "code",
   "execution_count": 11,
   "metadata": {},
   "outputs": [
    {
     "name": "stdout",
     "output_type": "stream",
     "text": [
      "{'CCC', 'BBB', 'AAA'}\n",
      "CCC 1\n",
      "BBB 1\n",
      "AAA 2\n"
     ]
    }
   ],
   "source": [
    "codons = [\"AAA\",\"AAA\",\"BBB\",\"CCC\"]\n",
    "unique = set(codons)\n",
    "print(unique)\n",
    "for i in unique:\n",
    "    print(i,codons.count(i))"
   ]
  },
  {
   "cell_type": "code",
   "execution_count": 12,
   "metadata": {},
   "outputs": [
    {
     "name": "stdout",
     "output_type": "stream",
     "text": [
      "['131.1736', '131.1736', '146.1882', '149.2124', '165.1900', '119.1197', '204.2262', '117.1469', '174.2017', '155.1552', '89.0935', '132.1184', '133.1032', '121.1590', '147.1299', '146.1451', '75.0669', '115.1310', '105.0930', '181.1894']\n"
     ]
    }
   ],
   "source": [
    "with open(\"aamw.txt\") as fo:\n",
    "    molweights = []\n",
    "    for line in fo.readlines():\n",
    "        if line[0] != \"#\":\n",
    "            molweights.append(line.split()[1])\n",
    "print(molweights)"
   ]
  },
  {
   "cell_type": "code",
   "execution_count": 14,
   "metadata": {},
   "outputs": [
    {
     "name": "stdout",
     "output_type": "stream",
     "text": [
      "black\n"
     ]
    }
   ],
   "source": [
    "import random\n",
    "colors = [\"red\", \"yellow\", \"blue\", \"white\", \"black\"]\n",
    "random = random.choice(colors)\n",
    "print(random)"
   ]
  },
  {
   "cell_type": "code",
   "execution_count": 15,
   "metadata": {},
   "outputs": [
    {
     "name": "stdout",
     "output_type": "stream",
     "text": [
      "red:yellow:blue:white:black\n"
     ]
    }
   ],
   "source": [
    "colors = [\"red\", \"yellow\", \"blue\", \"white\", \"black\"]\n",
    "my_string = \":\".join(colors)\n",
    "print(my_string)"
   ]
  },
  {
   "cell_type": "code",
   "execution_count": 18,
   "metadata": {},
   "outputs": [
    {
     "name": "stdout",
     "output_type": "stream",
     "text": [
      "False\n"
     ]
    }
   ],
   "source": [
    "seq = \"AAABBBBBBBBBBBBHGHGHGHGHGHGHGHGHHGHGHG\"\n",
    "barcode = \"HG\"\n",
    "print(seq[:10].find(barcode) != -1)"
   ]
  },
  {
   "cell_type": "code",
   "execution_count": 22,
   "metadata": {},
   "outputs": [
    {
     "name": "stdout",
     "output_type": "stream",
     "text": [
      "34567\n"
     ]
    }
   ],
   "source": [
    "seq = \"0123456789\"\n",
    "i=5\n",
    "print(seq[i-2:i+3])"
   ]
  },
  {
   "cell_type": "code",
   "execution_count": 24,
   "metadata": {},
   "outputs": [
    {
     "name": "stdout",
     "output_type": "stream",
     "text": [
      "['AAA', 'AAT', 'AAG', 'AAC', 'ATA', 'ATT', 'ATG', 'ATC', 'AGA', 'AGT', 'AGG', 'AGC', 'ACA', 'ACT', 'ACG', 'ACC', 'TAA', 'TAT', 'TAG', 'TAC', 'TTA', 'TTT', 'TTG', 'TTC', 'TGA', 'TGT', 'TGG', 'TGC', 'TCA', 'TCT', 'TCG', 'TCC', 'GAA', 'GAT', 'GAG', 'GAC', 'GTA', 'GTT', 'GTG', 'GTC', 'GGA', 'GGT', 'GGG', 'GGC', 'GCA', 'GCT', 'GCG', 'GCC', 'CAA', 'CAT', 'CAG', 'CAC', 'CTA', 'CTT', 'CTG', 'CTC', 'CGA', 'CGT', 'CGG', 'CGC', 'CCA', 'CCT', 'CCG', 'CCC']\n"
     ]
    }
   ],
   "source": [
    "def getCodons():\n",
    "    codonlist = []\n",
    "    for i in [\"A\",\"T\",\"G\",\"C\"]:\n",
    "        for j in [\"A\",\"T\",\"G\",\"C\"]:\n",
    "            for k in [\"A\",\"T\",\"G\",\"C\"]:\n",
    "                codonlist.append(i+j+k)\n",
    "    return codonlist\n",
    "print(getCodons())"
   ]
  },
  {
   "cell_type": "code",
   "execution_count": null,
   "metadata": {},
   "outputs": [],
   "source": []
  }
 ],
 "metadata": {
  "kernelspec": {
   "display_name": "Python 3",
   "language": "python",
   "name": "python3"
  },
  "language_info": {
   "codemirror_mode": {
    "name": "ipython",
    "version": 3
   },
   "file_extension": ".py",
   "mimetype": "text/x-python",
   "name": "python",
   "nbconvert_exporter": "python",
   "pygments_lexer": "ipython3",
   "version": "3.9.0"
  }
 },
 "nbformat": 4,
 "nbformat_minor": 4
}
