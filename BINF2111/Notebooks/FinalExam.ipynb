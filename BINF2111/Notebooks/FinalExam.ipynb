{
 "cells": [
  {
   "cell_type": "code",
   "execution_count": null,
   "metadata": {},
   "outputs": [],
   "source": [
    "a=1\n",
    "b=2\n",
    "lst = [a,b]\n",
    "print(min(lst))\n",
    "print(max(lst))"
   ]
  },
  {
   "cell_type": "code",
   "execution_count": null,
   "metadata": {},
   "outputs": [],
   "source": [
    "#given sequence\n",
    "#given i\n",
    "def getFifteen(seq,i):\n",
    "   \n",
    "    if i < 7:\n",
    "        centered = seq[0:min(15,len(seq))]\n",
    "    elif i+8 > len(seq):\n",
    "        centered = seq[max(0,len(seq)-15):len(seq)]\n",
    "    else:\n",
    "        centered = seq[i-7:i+8]\n",
    "    return centered\n",
    "res = getFifteen(\"ABCDEFGHIJKLMNOPQRSTUVWXYZ\",8)\n",
    "print(res, len(res))\n",
    "res = getFifteen(\"ABCDEFGHIJKLMNOPQRSTUVWXYZ\",20)\n",
    "print(res, len(res))\n",
    "res = getFifteen(\"ABCDEFGHIJKLMNOPQRSTUVWXYZ\",5)\n",
    "print(res, len(res))\n",
    "res = getFifteen(\"ABCDE\",2)\n",
    "print(res, len(res))"
   ]
  },
  {
   "cell_type": "code",
   "execution_count": 3,
   "metadata": {},
   "outputs": [
    {
     "data": {
      "text/plain": [
       "65"
      ]
     },
     "execution_count": 3,
     "metadata": {},
     "output_type": "execute_result"
    }
   ],
   "source": [
    "ord(\"A\")"
   ]
  },
  {
   "cell_type": "code",
   "execution_count": 4,
   "metadata": {},
   "outputs": [
    {
     "name": "stdout",
     "output_type": "stream",
     "text": [
      "4098\n"
     ]
    }
   ],
   "source": [
    "def getASCIValue(s):\n",
    "    total = 0\n",
    "    for char in s:\n",
    "        total += ord(char)\n",
    "    return total\n",
    "print(getASCIValue(\"8,49A;2:244244499924804424244444244/8806///,///,,*///66606,//,/6;977,///6///+//42\"))"
   ]
  },
  {
   "cell_type": "code",
   "execution_count": 5,
   "metadata": {},
   "outputs": [
    {
     "name": "stdout",
     "output_type": "stream",
     "text": [
      "['8,49A;2:2442444', '8,49A;2:2442444', '8,49A;2:2442444', '8,49A;2:2442444', '8,49A;2:2442444', '8,49A;2:2442444', '8,49A;2:2442444', '8,49A;2:2442444', ',49A;2:24424449', '49A;2:244244499', '9A;2:2442444999', 'A;2:24424449992', ';2:244244499924', '2:2442444999248', ':24424449992480', '244244499924804', '442444999248044', '424449992480442', '244499924804424', '444999248044242', '449992480442424', '499924804424244', '999248044242444', '992480442424444', '924804424244444', '248044242444442', '480442424444424', '804424244444244', '04424244444244/', '4424244444244/8', '424244444244/88', '24244444244/880', '4244444244/8806', '244444244/8806/', '44444244/8806//', '4444244/8806///', '444244/8806///,', '44244/8806///,/', '4244/8806///,//', '244/8806///,///', '44/8806///,///,', '4/8806///,///,,', '/8806///,///,,*', '8806///,///,,*/', '806///,///,,*//', '06///,///,,*///', '6///,///,,*///6', '///,///,,*///66', '//,///,,*///666', '/,///,,*///6660', ',///,,*///66606', '///,,*///66606,', '//,,*///66606,/', '/,,*///66606,//', ',,*///66606,//,', ',*///66606,//,/', '*///66606,//,/6', '///66606,//,/6;', '//66606,//,/6;9', '/66606,//,/6;97', '66606,//,/6;977', '6606,//,/6;977,', '606,//,/6;977,/', '06,//,/6;977,//', '6,//,/6;977,///', ',//,/6;977,///6', '//,/6;977,///6/', '/,/6;977,///6//', ',/6;977,///6///', '/6;977,///6///+', '6;977,///6///+/', ';977,///6///+//', '977,///6///+//4', '77,///6///+//42', '77,///6///+//42', '77,///6///+//42', '77,///6///+//42', '77,///6///+//42', '77,///6///+//42', '77,///6///+//42', '77,///6///+//42']\n"
     ]
    }
   ],
   "source": [
    "#Use what you have reviewed above to produce a list of overlapping 15-character string slices (a sliding window approach)\n",
    "#from the sequence of ASCII characters given in the previous question. \n",
    "given = \"8,49A;2:244244499924804424244444244/8806///,///,,*///66606,//,/6;977,///6///+//42\"\n",
    "nums = []\n",
    "for i in range(len(given)):\n",
    "    nums.append(getFifteen(given,i))\n",
    "print(nums)\n",
    "\n"
   ]
  },
  {
   "cell_type": "code",
   "execution_count": 6,
   "metadata": {},
   "outputs": [
    {
     "name": "stdout",
     "output_type": "stream",
     "text": [
      "758.8395061728395\n"
     ]
    }
   ],
   "source": [
    "total = 0\n",
    "for n in nums:\n",
    "    total += getASCIValue(n)\n",
    "avg = total/len(nums)\n",
    "print(avg)"
   ]
  },
  {
   "cell_type": "code",
   "execution_count": 7,
   "metadata": {},
   "outputs": [
    {
     "name": "stdout",
     "output_type": "stream",
     "text": [
      "ABCDEFG\n",
      "GFEDCBA\n",
      "AAATTTGGGCAG\n",
      "TTTAAACCCGTC\n"
     ]
    }
   ],
   "source": [
    "def reverseDNA(seq):\n",
    "    return seq[::-1]\n",
    "print(\"ABCDEFG\")\n",
    "print(reverseDNA(\"ABCDEFG\"))\n",
    "\n",
    "def complementDNA(seq):\n",
    "    new_seq = seq.replace(\"A\",\"X\")\n",
    "    new_seq = new_seq.replace(\"T\",\"A\")\n",
    "    new_seq = new_seq.replace(\"X\",\"T\")\n",
    "    new_seq = new_seq.replace(\"G\",\"Y\")\n",
    "    new_seq = new_seq.replace(\"C\",\"G\")\n",
    "    new_seq = new_seq.replace(\"Y\",\"C\")\n",
    "    return new_seq\n",
    "print(\"AAATTTGGGCAG\")\n",
    "print(complementDNA(\"AAATTTGGGCAG\"))"
   ]
  },
  {
   "cell_type": "code",
   "execution_count": 11,
   "metadata": {},
   "outputs": [
    {
     "name": "stdin",
     "output_type": "stream",
     "text": [
      "Enter a valid sequence (no data validation):  CGTA\n",
      "Enter your desired output: r = reverse, c = complement, rc = reverse complement rc\n"
     ]
    },
    {
     "name": "stdout",
     "output_type": "stream",
     "text": [
      "TACG\n"
     ]
    }
   ],
   "source": [
    "seq = input(\"Enter a valid sequence (no data validation): \")\n",
    "inp = input(\"Enter your desired output: r = reverse, c = complement, rc = reverse complement\")\n",
    "\n",
    "while (inp != \"r\" and inp != \"c\" and inp != \"rc\"):\n",
    "    print(inp)\n",
    "    inp = input(\"Please enter a valid option: r, c, or rc\")\n",
    "\n",
    "if inp==\"r\":\n",
    "    print(reverseDNA(seq))\n",
    "if inp==\"c\":\n",
    "    print(complementDNA(seq))\n",
    "if inp==\"rc\":\n",
    "    print(complementDNA(reverseDNA(seq)))\n",
    "    "
   ]
  },
  {
   "cell_type": "code",
   "execution_count": 17,
   "metadata": {},
   "outputs": [],
   "source": [
    "#complement\n",
    "assert \"ATGC\" == complementDNA(\"TACG\")\n",
    "assert 4 == len(complementDNA(\"TACG\"))\n",
    "assert complementDNA(\"TAAA\").startswith(\"A\")\n",
    "assert complementDNA(\"TAAA\").endswith(\"T\")\n",
    "assert complementDNA(\"TAAA\").count(\"T\") == 3\n",
    "#reverse\n",
    "assert \"GCAT\" == reverseDNA(\"TACG\")\n",
    "assert 4 == len(reverseDNA(\"TACG\"))\n",
    "assert reverseDNA(\"TAAA\").startswith(\"A\")\n",
    "assert reverseDNA(\"TAAA\").endswith(\"T\")\n",
    "assert reverseDNA(\"TAAA\").count(\"T\") == 1"
   ]
  },
  {
   "cell_type": "code",
   "execution_count": 1,
   "metadata": {},
   "outputs": [
    {
     "name": "stdout",
     "output_type": "stream",
     "text": [
      "1\n",
      "2\n",
      "3\n",
      "5\n",
      "8\n",
      "13\n",
      "21\n",
      "34\n",
      "55\n",
      "89\n",
      "144\n",
      "233\n",
      "377\n",
      "610\n",
      "987\n",
      "1597\n"
     ]
    }
   ],
   "source": [
    "a = 0\n",
    "b = 1\n",
    "while(b < 1000):\n",
    "    a,b = b,a+b\n",
    "    print(b)"
   ]
  },
  {
   "cell_type": "code",
   "execution_count": 2,
   "metadata": {},
   "outputs": [
    {
     "name": "stdout",
     "output_type": "stream",
     "text": [
      "1\n",
      "2\n",
      "3\n",
      "5\n",
      "8\n",
      "13\n",
      "21\n",
      "34\n",
      "55\n",
      "89\n",
      "144\n",
      "233\n",
      "377\n",
      "610\n",
      "987\n",
      "1597\n"
     ]
    }
   ],
   "source": [
    "a = 0\n",
    "b = 1\n",
    "while(True):\n",
    "    if(b > 1000):\n",
    "        break\n",
    "    a,b = b,a+b\n",
    "    print(b)"
   ]
  },
  {
   "cell_type": "code",
   "execution_count": 3,
   "metadata": {},
   "outputs": [
    {
     "name": "stdout",
     "output_type": "stream",
     "text": [
      "0\n",
      "1\n",
      "1\n",
      "2\n",
      "3\n",
      "5\n",
      "8\n",
      "13\n",
      "21\n",
      "34\n",
      "55\n",
      "89\n",
      "144\n",
      "233\n",
      "377\n",
      "610\n",
      "987\n",
      "1597\n"
     ]
    }
   ],
   "source": [
    "def fib():\n",
    "    a=0\n",
    "    b=1\n",
    "    while(True):\n",
    "        yield a\n",
    "        a,b = b, a+b\n",
    "\n",
    "for i in fib():\n",
    "    print(i)\n",
    "    if(i > 1000):\n",
    "        break"
   ]
  },
  {
   "cell_type": "code",
   "execution_count": 6,
   "metadata": {},
   "outputs": [
    {
     "name": "stdout",
     "output_type": "stream",
     "text": [
      "yellow\n"
     ]
    }
   ],
   "source": [
    "import random\n",
    "colors = [\"red\", \"yellow\", \"blue\", \"white\", \"black\"]\n",
    "c = random.choice(colors)\n",
    "print(c)"
   ]
  },
  {
   "cell_type": "code",
   "execution_count": 10,
   "metadata": {},
   "outputs": [
    {
     "name": "stdout",
     "output_type": "stream",
     "text": [
      "31\n"
     ]
    }
   ],
   "source": [
    "r = random.randint(0,40)\n",
    "print(r)"
   ]
  },
  {
   "cell_type": "code",
   "execution_count": 13,
   "metadata": {},
   "outputs": [
    {
     "data": {
      "text/plain": [
       "'red:yellow:blue:white:black'"
      ]
     },
     "execution_count": 13,
     "metadata": {},
     "output_type": "execute_result"
    }
   ],
   "source": [
    "\":\".join([\"red\", \"yellow\", \"blue\", \"white\", \"black\"])\n"
   ]
  },
  {
   "cell_type": "code",
   "execution_count": 19,
   "metadata": {},
   "outputs": [
    {
     "name": "stdout",
     "output_type": "stream",
     "text": [
      "aBCDEFGHIJKLMNOPQRSTUVWXYZ\n",
      "abCDEFGHIJKLMNOPQRSTUVWXYZ\n",
      "abcDEFGHIJKLMNOPQRSTUVWXYZ\n",
      "abcdEFGHIJKLMNOPQRSTUVWXYZ\n",
      "abcdeFGHIJKLMNOPQRSTUVWXYZ\n",
      "abcdefGHIJKLMNOPQRSTUVWXYZ\n",
      "abcdefgHIJKLMNOPQRSTUVWXYZ\n",
      "abcdefghIJKLMNOPQRSTUVWXYZ\n",
      "abcdefghiJKLMNOPQRSTUVWXYZ\n",
      "abcdefghijKLMNOPQRSTUVWXYZ\n",
      "abcdefghijkLMNOPQRSTUVWXYZ\n",
      "abcdefghijklMNOPQRSTUVWXYZ\n",
      "abcdefghijklmNOPQRSTUVWXYZ\n",
      "abcdefghijklmnOPQRSTUVWXYZ\n",
      "abcdefghijklmnoPQRSTUVWXYZ\n",
      "abcdefghijklmnopQRSTUVWXYZ\n",
      "abcdefghijklmnopqRSTUVWXYZ\n",
      "abcdefghijklmnopqrSTUVWXYZ\n",
      "abcdefghijklmnopqrsTUVWXYZ\n",
      "abcdefghijklmnopqrstUVWXYZ\n",
      "abcdefghijklmnopqrstuVWXYZ\n",
      "abcdefghijklmnopqrstuvWXYZ\n",
      "abcdefghijklmnopqrstuvwXYZ\n",
      "abcdefghijklmnopqrstuvwxYZ\n",
      "abcdefghijklmnopqrstuvwxyZ\n",
      "abcdefghijklmnopqrstuvwxyz\n"
     ]
    }
   ],
   "source": [
    "abc = \"ABCDEFGHIJKLMNOPQRSTUVWXYZ\"\n",
    "for i, char in enumerate(abc):\n",
    "    lChar = char.lower()\n",
    "    abc = abc[:i] + lChar +  abc[i+1:]\n",
    "    print(abc)"
   ]
  },
  {
   "cell_type": "code",
   "execution_count": 27,
   "metadata": {},
   "outputs": [
    {
     "name": "stdout",
     "output_type": "stream",
     "text": [
      "AAAACAAAAAAAAAAAAAAAAAAAAAAAAAAAAAAAAAAAAAAAAGGGAAAAAAAAAAAAAAGATAAAAAAAAAAAAAAAAAAAAAAAAAAAAAAAAAAAGAAAAAAAAAAACAAAAAAAAAAAAAAATAAAAAAAAAATAAAAAAAAAAAAAATAAAAAAAAAAAAAAAAAAAAAAACAAAAAAAAAAAAAAAAAAAATAAAAAACAAAAAAAAAAAAAAAAAAAGAAAAAAAAAAAAACAATAAAAAAAA\n"
     ]
    }
   ],
   "source": [
    "import random\n",
    "def mutate(seq):\n",
    "    seqlist = list(seq)\n",
    "    for i in range(len(seq)):\n",
    "        if random.randint(1,150) == 1:\n",
    "            seqlist[i] = random.choice([\"A\",\"T\",\"C\",\"G\"])\n",
    "    return \"\".join(seqlist)\n",
    "print(mutate(\"AAAAAAAAAAAAAAAAAAAAAAAAAAAAAAAAAAAAAAAAAAAAAAAAAAAAAAAAAAAAAAAAAAAAAAAAAAAAAAAAAAAAAAAAAAAAAAAAAAAAAA\"))"
   ]
  },
  {
   "cell_type": "code",
   "execution_count": 35,
   "metadata": {},
   "outputs": [
    {
     "name": "stdout",
     "output_type": "stream",
     "text": [
      "{'AAA': 337, 'AAT': 294, 'AAC': 178, 'AAG': 203}\n",
      "[337, 294, 178, 203]\n",
      "{337, 178, 203, 294}\n",
      "AAA 337\n",
      "AAT 294\n",
      "AAC 178\n",
      "AAG 203\n"
     ]
    }
   ],
   "source": [
    "with open(\"example.txt\") as fo:\n",
    "    d = {}\n",
    "    for line in fo.readlines():\n",
    "        row = line.split()\n",
    "        d[row[0]] = int(row[1])\n",
    "    print(d)\n",
    "    \n",
    "    values = list(d.values())\n",
    "    print(values)\n",
    "    setValues = set(values)\n",
    "    print(setValues)\n",
    "    \n",
    "    for k,v in d.items():\n",
    "        print(k,v)"
   ]
  },
  {
   "cell_type": "code",
   "execution_count": 37,
   "metadata": {},
   "outputs": [
    {
     "name": "stdout",
     "output_type": "stream",
     "text": [
      "{'A': 30, 'Z': 5}\n"
     ]
    }
   ],
   "source": [
    "aaCount = {}\n",
    "codonCounts = {\"AAA\":10,\"AAG\":20,\"GGG\":5}\n",
    "codonAmino = {\"AAA\":\"A\",\"AAG\":\"A\",\"GGG\":\"Z\"}\n",
    "for codon, aa in codonAmino.items():\n",
    "    if aa in aaCount:\n",
    "        aaCount[aa] += codonCounts[codon]\n",
    "    else:\n",
    "        aaCount[aa] = codonCounts[codon]\n",
    "print(aaCount)"
   ]
  },
  {
   "cell_type": "code",
   "execution_count": 47,
   "metadata": {},
   "outputs": [
    {
     "name": "stdout",
     "output_type": "stream",
     "text": [
      "[0, 20, 40, 60, 80, 100]\n"
     ]
    }
   ],
   "source": [
    "#use the simple numerical comprehension of i*10 for values 1-10 if the value is even to make a list\n",
    "def timesTen(num):\n",
    "    for i in range(0,num+1):\n",
    "        if i%2 == 0:\n",
    "            yield i*10\n",
    "            \n",
    "lst = list(timesTen(10))\n",
    "print(lst)"
   ]
  },
  {
   "cell_type": "code",
   "execution_count": 49,
   "metadata": {},
   "outputs": [
    {
     "name": "stdout",
     "output_type": "stream",
     "text": [
      "0 Jeremy\n",
      "\n",
      "1 Jay\n",
      "\n",
      "2 Professor\n",
      "\n",
      "3 Samantha\n",
      "\n",
      "4 Taylor\n",
      "\n",
      "5 TA\n"
     ]
    }
   ],
   "source": [
    "with open(\"classpeople.txt\") as fo:\n",
    "    for i, line in enumerate(fo.readlines()):\n",
    "        print(i, line)"
   ]
  },
  {
   "cell_type": "code",
   "execution_count": 52,
   "metadata": {},
   "outputs": [
    {
     "name": "stdout",
     "output_type": "stream",
     "text": [
      "[('Jeremy', 'Jay', 'Professor'), ('Samantha', 'Taylor', 'TA')]\n"
     ]
    }
   ],
   "source": [
    "with open(\"classpeople.txt\") as fo:\n",
    "    first = \"\"\n",
    "    last = \"\"\n",
    "    role = \"\"\n",
    "    people = []\n",
    "    for i, line in enumerate(fo.readlines()):\n",
    "        line=line.strip()\n",
    "        if i%3 == 0:\n",
    "            first = line\n",
    "        if i%3 == 1:\n",
    "            last = line\n",
    "        if i%3 == 2:\n",
    "            role = line\n",
    "            people.append((first,last,role))\n",
    "    print(people)"
   ]
  },
  {
   "cell_type": "markdown",
   "metadata": {},
   "source": [
    "Show how you would open the file, read the lines, and get the second column (3 letter amino acid code), fourth column (residue number), sixth column (phi) and seventh column (psi) into lists. Conditional: store values only for chain \"A\" -- the chain label is in the third column."
   ]
  },
  {
   "cell_type": "code",
   "execution_count": 70,
   "metadata": {},
   "outputs": [
    {
     "name": "stdout",
     "output_type": "stream",
     "text": [
      "['ALA', 'GLU', 'LEU', 'ARG', 'CYS', 'LEU', 'CYS', 'ILE', 'LYS', 'THR', 'THR', 'SER', 'GLY', 'ILE', 'HIS', 'PRO', 'LYS', 'ASN', 'ILE', 'GLN', 'SER', 'LEU', 'GLU', 'VAL', 'ILE', 'GLY', 'LYS', 'GLY', 'THR', 'HIS', 'CYS', 'ASN', 'GLN', 'VAL', 'GLU', 'VAL', 'ILE', 'ALA', 'THR', 'LEU', 'LYS', 'ASP', 'GLY', 'ARG', 'LYS', 'ILE', 'CYS', 'LEU', 'ASP', 'PRO', 'ASP', 'ALA', 'PRO', 'ARG', 'ILE', 'LYS', 'LYS', 'ILE', 'VAL', 'GLN', 'LYS', 'LYS', 'LEU', 'ALA', 'GLY', 'ASP']\n",
      "[21, 22, 23, 24, 25, 26, 27, 28, 29, 30, 31, 32, 33, 34, 35, 36, 37, 38, 39, 40, 41, 42, 43, 44, 45, 46, 47, 48, 49, 50, 51, 52, 53, 54, 55, 56, 57, 58, 59, 60, 61, 62, 63, 64, 65, 66, 67, 68, 69, 70, 71, 72, 73, 74, 75, 76, 77, 78, 79, 80, 81, 82, 83, 84, 85, 86]\n",
      "[999.9, -105.7, -90.0, -131.6, -67.0, -97.2, -82.4, -65.6, -106.6, -128.0, -117.8, -119.0, -112.8, -152.4, -105.4, -35.4, -60.6, -77.9, -87.6, -93.3, -147.5, -134.9, -120.8, -107.6, -112.6, -68.4, -55.1, -140.7, -71.4, -98.3, -166.4, -66.1, -132.2, -79.4, -111.1, -122.7, -109.5, -95.4, -109.2, -80.3, -60.5, -92.5, 91.7, -77.3, -116.3, -141.1, -86.0, -104.6, -78.7, -62.3, -83.5, -78.4, -51.5, -61.2, -67.4, -56.2, -70.3, -66.2, -59.1, -63.5, -71.7, -69.8, -61.5, -79.3, 63.5, -83.6]\n",
      "[176.2, -49.1, 109.5, 56.4, 158.4, -37.1, 79.3, -55.9, 137.9, 145.1, 158.3, -11.4, 113.0, 146.1, 130.2, -36.2, -34.8, -12.8, 128.3, -58.2, 160.3, 140.3, 126.4, 118.3, 119.9, 163.9, 140.4, -171.4, -33.3, 17.2, 110.4, -3.4, 162.1, 127.3, 136.8, 116.5, 119.0, 137.1, 118.1, 164.2, -21.2, 0.4, -3.3, 149.0, 137.5, 146.3, 128.1, 154.3, 106.6, -24.8, -16.4, 120.5, -32.2, -42.8, -49.1, -37.7, -34.1, -43.9, -46.7, -39.9, -27.8, -44.3, -40.0, -7.9, 23.2, 999.9]\n"
     ]
    }
   ],
   "source": [
    "codons = []\n",
    "residues = []\n",
    "phis = []\n",
    "psis = []\n",
    "\n",
    "with open(\"1nap-angles.txt\") as fo:\n",
    "    codons = []\n",
    "    residues = []\n",
    "    phis = []\n",
    "    psis = []\n",
    "    for line in fo.readlines():\n",
    "        row = line.split()\n",
    "        if row[0] == \"TORSIN\" and row[2].strip() == \"A\":\n",
    "            codons.append(row[1])\n",
    "            residues.append(int(row[3]))\n",
    "            phis.append(float(row[5]))\n",
    "            psis.append(float(row[6]))\n",
    "    print(codons)\n",
    "    print(residues)\n",
    "    print(phis)\n",
    "    print(psis)\n",
    "    lines = \"\"\n",
    "    for i in range(len(codons)):\n",
    "        lines += \"{:<4}\".format(codons[i]) + \"{:>4d}\".format(residues[i]) + \"{:6.1f}\".format(phis[i]) + \"{:6.1f}\".format(psis[i]) + \"\\n\"\n",
    "    \n",
    "    with open(\"1nap-anglesFORMATTED.txt\", \"w\") as fo1:\n",
    "        fo1.writelines(lines)\n",
    "        \n",
    "        \n",
    "        "
   ]
  },
  {
   "cell_type": "code",
   "execution_count": 72,
   "metadata": {},
   "outputs": [
    {
     "data": {
      "text/plain": [
       "<matplotlib.collections.PathCollection at 0x7ff8ebdaa040>"
      ]
     },
     "execution_count": 72,
     "metadata": {},
     "output_type": "execute_result"
    },
    {
     "data": {
      "image/png": "[encoded data removed]",
      "text/plain": [
       "<Figure size 432x288 with 1 Axes>"
      ]
     },
     "metadata": {
      "needs_background": "light"
     },
     "output_type": "display_data"
    }
   ],
   "source": [
    "import numpy as np\n",
    "import matplotlib.pyplot as plt\n",
    "%matplotlib inline\n",
    "\n",
    "plt.scatter(phis, psis)\n"
   ]
  },
  {
   "cell_type": "code",
   "execution_count": 77,
   "metadata": {},
   "outputs": [
    {
     "name": "stdout",
     "output_type": "stream",
     "text": [
      "MAIVMGRWKGAR*MAIVMGR*KGAR*\n"
     ]
    }
   ],
   "source": [
    "from Bio.Seq import Seq\n",
    "my_obj = Seq(\"MAIVMGRWKGAR*\")\n",
    "my_seq = Seq(\"ATGGCCATTGTAATGGGCCGCTGAAAGGGTGCCCGATAG\")\n",
    "result = my_obj + my_seq.translate()\n",
    "print(result)"
   ]
  },
  {
   "cell_type": "code",
   "execution_count": 78,
   "metadata": {},
   "outputs": [
    {
     "name": "stdout",
     "output_type": "stream",
     "text": [
      "1\n"
     ]
    }
   ],
   "source": [
    "a = 1\n",
    "b = 2\n",
    "print(min(a,b))"
   ]
  },
  {
   "cell_type": "code",
   "execution_count": null,
   "metadata": {},
   "outputs": [],
   "source": []
  }
 ],
 "metadata": {
  "kernelspec": {
   "display_name": "Python 3",
   "language": "python",
   "name": "python3"
  },
  "language_info": {
   "codemirror_mode": {
    "name": "ipython",
    "version": 3
   },
   "file_extension": ".py",
   "mimetype": "text/x-python",
   "name": "python",
   "nbconvert_exporter": "python",
   "pygments_lexer": "ipython3",
   "version": "3.9.0"
  }
 },
 "nbformat": 4,
 "nbformat_minor": 4
}
