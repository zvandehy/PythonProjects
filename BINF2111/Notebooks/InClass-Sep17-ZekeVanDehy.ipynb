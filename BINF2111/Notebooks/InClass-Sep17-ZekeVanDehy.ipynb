{
 "cells": [
  {
   "cell_type": "code",
   "execution_count": 1,
   "metadata": {},
   "outputs": [],
   "source": [
    "#In Class Sep. 17 Submission\n",
    "#Sep 17 2020\n",
    "#Zeke Van Dehy"
   ]
  },
  {
   "cell_type": "markdown",
   "metadata": {},
   "source": [
    "# Let's Do Math #\n",
    "\n",
    "Last time we looked at a whole bunch of basic things that we could do with strings. This time, we're going to look at numbers. There are basically two kinds of numbers: int (integer) and float (decimal or floating point). There are also imaginary numbers, but we don't need to work with those yet in this class.\n",
    "\n",
    "Integers are your normal counting numbers, zero, and the negative numbers, that you use to describe whole, discrete things.\n",
    "\n",
    "Floats are fractions -- anything from expressing a fraction of integers, to precise measurements like radii of atoms, are generally expressed in floating point numbers.\n",
    "\n",
    "Integers and floats can both be used as LITERALS in a program. That means you basically just use python as a big fancy calculator, without assigning values to a variable at all.\n",
    "\n",
    "In the box below, try out the two literal statements. They should return their output so you can see it.\n",
    "- 2 + 5\n",
    "- 2.033 + 5.001"
   ]
  },
  {
   "cell_type": "code",
   "execution_count": 2,
   "metadata": {},
   "outputs": [
    {
     "name": "stdout",
     "output_type": "stream",
     "text": [
      "7\n",
      "7.034000000000001\n"
     ]
    }
   ],
   "source": [
    "print(2+5)\n",
    "print(2.033+5.001)"
   ]
  },
  {
   "cell_type": "markdown",
   "metadata": {},
   "source": [
    "Strings are also usable as literals. Every time we've done something with a string in quotes and not assigned it to a variable, we've been using a literal."
   ]
  },
  {
   "cell_type": "markdown",
   "metadata": {},
   "source": [
    "# Math Operators #\n",
    "\n",
    "Python has seven main math operators and they all work the same way -- they can be used as literals in simple expressions. \n",
    "\n",
    "They can also be combined into more complicated statements. Read these statements and decide what you think their values will be. Then print them out in the cell below to see if you're right. You can either put them in print statements or use them as literals -- it will work either way.\n",
    "\n",
    "- 3 * 5 + 6 / 2\n",
    "- 7 * 2 - 9 / 3\n",
    "- 14 / 2 + 6 * 4\n",
    "- 5 * 3 - 3 * 2"
   ]
  },
  {
   "cell_type": "code",
   "execution_count": 3,
   "metadata": {},
   "outputs": [
    {
     "name": "stdout",
     "output_type": "stream",
     "text": [
      "18.0\n",
      "11.0\n",
      "31.0\n",
      "9\n"
     ]
    }
   ],
   "source": [
    "print(3*5 + 6/2)\n",
    "print(7*2 - 9/3)\n",
    "print(14/2 + 6*4)\n",
    "print(5*3 - 3*2)"
   ]
  },
  {
   "cell_type": "markdown",
   "metadata": {},
   "source": [
    "Math statements in Python follow the normal mathematical order of operations. \n",
    "\n",
    "# Math Result Types #\n",
    "\n",
    "Results of math statements will have different types depending on the starting numbers and which operations are used. In Python 3.0, division statements will automatically give floating point results -- you don't need to float() the operands first for this to work.\n",
    "\n",
    "First, try checking the type of these simple statements:\n",
    "\n",
    "- 3 + 5\n",
    "- 6 / 3\n",
    "- 2 - 1\n",
    "- 4 * 3"
   ]
  },
  {
   "cell_type": "code",
   "execution_count": 4,
   "metadata": {},
   "outputs": [
    {
     "name": "stdout",
     "output_type": "stream",
     "text": [
      "<class 'int'>\n",
      "<class 'float'>\n",
      "<class 'int'>\n",
      "<class 'int'>\n"
     ]
    }
   ],
   "source": [
    "print(type(3+5))\n",
    "print(type(6/3))\n",
    "print(type(2-1))\n",
    "print(type(4*3))"
   ]
  },
  {
   "cell_type": "markdown",
   "metadata": {},
   "source": [
    "Now check the type of the longer math statements you tested two input cells ago. Do you expect all of them to be floating point numbers? Are they?"
   ]
  },
  {
   "cell_type": "code",
   "execution_count": 5,
   "metadata": {},
   "outputs": [
    {
     "name": "stdout",
     "output_type": "stream",
     "text": [
      "<class 'float'>\n",
      "<class 'float'>\n",
      "<class 'float'>\n",
      "<class 'int'>\n"
     ]
    }
   ],
   "source": [
    "print(type(3*5 + 6/2))\n",
    "print(type(7*2 - 9/3))\n",
    "print(type(14/2 + 6*4))\n",
    "print(type(5*3 - 3*2))"
   ]
  },
  {
   "cell_type": "markdown",
   "metadata": {},
   "source": [
    "# Math Assignment Operators #\n",
    "\n",
    "Last time we learned about the assignment operator, =, and its friends += and *=, which can be used to update the values of variables with the result of an addition or multiplication.\n",
    "\n",
    "+= and *= also work for numbers. They also have friends -- -= and /=, and several others as well.\n",
    "\n",
    "You can't use assignment operators in literal statements. They can only be applied to update the contents of a variable. For an example, try typing this and see what happens:\n",
    "\n",
    "3 += 2"
   ]
  },
  {
   "cell_type": "code",
   "execution_count": 6,
   "metadata": {},
   "outputs": [
    {
     "ename": "SyntaxError",
     "evalue": "can't assign to literal (<ipython-input-6-64ba2fbff90a>, line 1)",
     "output_type": "error",
     "traceback": [
      "\u001b[0;36m  File \u001b[0;32m\"<ipython-input-6-64ba2fbff90a>\"\u001b[0;36m, line \u001b[0;32m1\u001b[0m\n\u001b[0;31m    3 += 2\u001b[0m\n\u001b[0m          ^\u001b[0m\n\u001b[0;31mSyntaxError\u001b[0m\u001b[0;31m:\u001b[0m can't assign to literal\n"
     ]
    }
   ],
   "source": [
    "3 += 2"
   ]
  },
  {
   "cell_type": "markdown",
   "metadata": {},
   "source": [
    "Assign the value 3 to the variable fave_num. Then change its value by applying the following: += 2, -= 2, *= 2, /= 2. Print out the results at each step. Try them in different orders and see that they produce the same result, except for one thing. What's different at the end?"
   ]
  },
  {
   "cell_type": "code",
   "execution_count": null,
   "metadata": {},
   "outputs": [],
   "source": [
    "fave_num = 3\n",
    "print(fave_num)\n",
    "fave_num -= 2\n",
    "print(fave_num)\n",
    "fave_num /= 2\n",
    "print(fave_num)\n",
    "fave_num += 2\n",
    "print(fave_num)\n",
    "fave_num *= 2\n",
    "print(fave_num)\n",
    "#difference is when it becomes a floating point number"
   ]
  },
  {
   "cell_type": "markdown",
   "metadata": {},
   "source": [
    "# Changing Number Variable Types #\n",
    "\n",
    "If you want to change your favorite number back to its original form, you need to change it from an integer (int) to a floating point number (float). We saw yesterday that the function str() could change a number to a string. By analogy, there are functions int() and float() that will change between the new number types.\n",
    "\n",
    "In the cell below, change fave_num back to its original type."
   ]
  },
  {
   "cell_type": "code",
   "execution_count": null,
   "metadata": {},
   "outputs": [],
   "source": [
    "fave_num = 3\n",
    "fave_num"
   ]
  },
  {
   "cell_type": "markdown",
   "metadata": {},
   "source": [
    "# int() changes the value #\n",
    "\n",
    "Turning an integer to a floating point number with float() just adds a decimal point and a trailing zero.\n",
    "\n",
    "Turning a floating point to an integer with int() slices off the decimal point and trailing digits. This can actually modify the value of the number, and it doesn't happen according to any standard rule of rounding. Try the following statements:\n",
    "\n",
    "- int(3.0)\n",
    "- int(3.1)\n",
    "- int(3.779)\n",
    "\n",
    "Try assigning the last number to a variable, changing it to an integer and storing that result another variable, and then changing it back to a float. Does Python remember the \"history\" of the number?"
   ]
  },
  {
   "cell_type": "code",
   "execution_count": null,
   "metadata": {},
   "outputs": [],
   "source": [
    "f = 3.779\n",
    "i = int(f)\n",
    "f2 = float(i)\n",
    "print(f2) #doesn't \"remember\" 3.779\n",
    "type(f2)"
   ]
  },
  {
   "cell_type": "markdown",
   "metadata": {},
   "source": [
    "# Let's not do \"math\" (unless we mean to) #\n",
    "\n",
    "What happens when you add the numbers \"15\" and \"9\" (using the quotes around each number in the statement?)\n",
    "What about \"15\" + 9?\n",
    "Try them below and see."
   ]
  },
  {
   "cell_type": "code",
   "execution_count": null,
   "metadata": {},
   "outputs": [],
   "source": [
    "print(\"15\" + \"9\")\n",
    "print(\"15\" + 9)"
   ]
  },
  {
   "cell_type": "markdown",
   "metadata": {},
   "source": [
    "# Exponentiation #\n",
    "\n",
    "In addition to +,-,* and /, Python's core math operators include exponentiation with **.\n",
    "\n"
   ]
  },
  {
   "cell_type": "code",
   "execution_count": null,
   "metadata": {},
   "outputs": [],
   "source": [
    "num = 3\n",
    "num **=2\n",
    "print(num)"
   ]
  },
  {
   "cell_type": "markdown",
   "metadata": {},
   "source": [
    "# Modulo #\n",
    "\n",
    "Modulo gives you the value that is left over when you calculate x / y -- the remainder. If you want this value, you use the % operator in a statement like x % y.\n",
    "\n",
    "Find % for these number pairs, in the cell below:\n",
    "\n",
    "- 19, 4\n",
    "- 28, 5\n",
    "- 131, 11"
   ]
  },
  {
   "cell_type": "code",
   "execution_count": null,
   "metadata": {},
   "outputs": [],
   "source": [
    "print(19%4)\n",
    "print(28%5)\n",
    "print(131%11)"
   ]
  },
  {
   "cell_type": "markdown",
   "metadata": {},
   "source": [
    "# Floor Division #\n",
    "\n",
    "Floor division gives you the next lowest integer value to the result of a division operation. This is not a rounding operation, so you'll never see your result rounded up to the next highest value. Nevertheless, it is sometimes useful. Imagine I have a DNA sequence of an unknown length and I want to break it into codons. I could use the floor division function along with the length of the sequence (you'll see how to calculate that in a bit) to calculate whether it ends with an incomplete codon.\n",
    "\n",
    "Find // for these number pairs, in the cell below.\n",
    "\n",
    "- 9 // 2\n",
    "- 180 // 19"
   ]
  },
  {
   "cell_type": "code",
   "execution_count": null,
   "metadata": {},
   "outputs": [],
   "source": [
    "print(9//2)\n",
    "print(180//19)\n",
    "type(9//2) #integer division"
   ]
  },
  {
   "cell_type": "markdown",
   "metadata": {},
   "source": [
    "# Getting other math functions from modules #\n",
    "\n",
    "Python has lots of built-ins in the form of modules. They aren't loaded by default in Python, but you can get them as you need them, using the import command. You need to import the module before you can invoke any of its options.\n",
    "\n",
    "In the cell below, get the math module using import, as shown in class. Remember that import does not work like a function and does not need parentheses around the module name.  Use sqrt to get the square root of the following numbers:\n",
    "\n",
    "- 81\n",
    "- 121\n",
    "- 1024\n",
    "- 5764801"
   ]
  },
  {
   "cell_type": "code",
   "execution_count": null,
   "metadata": {},
   "outputs": [],
   "source": [
    "import math\n",
    "print(math.sqrt(81))\n",
    "print(math.sqrt(121))\n",
    "print(math.sqrt(1024))\n",
    "print(math.sqrt(5764801))"
   ]
  },
  {
   "cell_type": "markdown",
   "metadata": {},
   "source": [
    "# Math Example: Fibonacci #\n",
    "\n",
    "Let's do a couple of examples where we do some math operations and assignments on real numbers.\n",
    "\n",
    "The first one is the Fibonacci sequence. As shown in the lecture, we start with the values of two numbers, a and b, both set to 1. Then we update them, following the simple rule that the old value of b becomes the new value of a, and the old value of a + b becomes the new value of b.\n",
    "\n",
    "Or in math terms, a = b, b = a + b\n",
    "\n",
    "Python lets us update both of these numbers at once in a statement like a, b = new_a, new_b. This is useful if two numbers have to update at once, as we walked through in class.\n",
    "\n",
    "Write statements that will perform each consecutive step in the Fibonacci sequence until b = 21.  The correct numbers are shown in the figure in the slides. You can print out at each step to make sure your statement is updating correctly. Once you see the pattern it should be easy to write the rest of the \"script\"."
   ]
  },
  {
   "cell_type": "code",
   "execution_count": null,
   "metadata": {},
   "outputs": [],
   "source": [
    "a = 1\n",
    "b = 1\n",
    "while (b!=21):\n",
    "    a,b = b, a+b\n",
    "    print(\"a: \", a)\n",
    "    print(\"b: \", b, \"\\n\")"
   ]
  },
  {
   "cell_type": "markdown",
   "metadata": {},
   "source": [
    "# Using a module to get random numbers #\n",
    "\n",
    "In this one, let's practice loading a module and using a function from the module. We saw the random module, from which you can find a function that lets you generate a random integer, randint(). The arguments the function takes are the beginning and end of a range, (x,y).\n",
    "\n",
    "First you load the module by typing import random.\n",
    "\n",
    "Then, you would call that function as random.randint(x,y) for whatever range you choose.\n",
    "\n",
    "Say you're going to buy a Powerball ticket this weekend. You need six random numbers chosen from the range 1-40 and one random number (the Powerball) chosen from a range 1-15. Write code to generate these seven numbers and assign them each to a variable (powerball, firstnumber, secondnumber, etc). Then print them all out as a recommendation for the ticket you should buy."
   ]
  },
  {
   "cell_type": "code",
   "execution_count": null,
   "metadata": {},
   "outputs": [],
   "source": [
    "import random\n",
    "firstnumber = random.randint(1,40)\n",
    "secondnumber = random.randint(1,40)\n",
    "thirdnumber = random.randint(1,40)\n",
    "fourthnumber = random.randint(1,40)\n",
    "fifthnumber = random.randint(1,40)\n",
    "sixthnumber = random.randint(1,40)\n",
    "powerball = random.randint(1,15)\n",
    "print(str(firstnumber) + \" \" + str(secondnumber) + \" \" + str(thirdnumber) + \" \"\n",
    "      + str(fourthnumber) + \" \" + str(fifthnumber) + \" \" + str(sixthnumber) + \" \"\n",
    "     + str(powerball))"
   ]
  },
  {
   "cell_type": "markdown",
   "metadata": {},
   "source": [
    "# Getting numbers that describe a sequence #\n",
    "\n",
    "We aren't usually going to start our data analysis with numbers that generate themselves according to a mathematical rule -- we get them from somewhere, usually by counting or measuring something.\n",
    "\n",
    "Say we have the sequence \n",
    "ATATAATTGCCCGGCCATTA\n",
    "\n",
    "What percent of this sequence is Gs and Cs?\n",
    "\n",
    "We need a way to count the Gs and Cs, and also to determine the length of the sequence, so we can calculate a percentage.  First, do this manually by counting them yourself, so you know the right answer."
   ]
  },
  {
   "cell_type": "code",
   "execution_count": null,
   "metadata": {},
   "outputs": [],
   "source": [
    "#A = 6\n",
    "#T = 6\n",
    "#G = 3\n",
    "#C = 5\n",
    "#Total = 20\n",
    "percentage = ((3+5) / 20)*100\n",
    "print(percentage, \"%\")"
   ]
  },
  {
   "cell_type": "markdown",
   "metadata": {},
   "source": [
    "# Next, let's use len() #\n",
    "\n",
    "We just learned that there's a built-in function that can calculate the length of a string, len()\n",
    "\n",
    "Assign the sequence string to a variable name and then calculate its length, using len(). Store the result in another variable."
   ]
  },
  {
   "cell_type": "code",
   "execution_count": null,
   "metadata": {},
   "outputs": [],
   "source": [
    "sequence = \"ATATAATTGCCCGGCCATTA\"\n",
    "length = len(sequence)\n",
    "print(length)"
   ]
  },
  {
   "cell_type": "markdown",
   "metadata": {},
   "source": [
    "# Next, let's use .count() #\n",
    "\n",
    ".count() is a special kind of built-in called a method. You never call a method by itself -- you \"bind\" it to an variable or even a literal, and the argument is something other than the variable, like the pattern you are counting. We'll see lots of other examples of methods next week, but for now just focus on using count correctly.\n",
    "\n",
    "An example of using count on a literal looks like this:\n",
    "\n",
    "\"CCATTCATCCAGGCTT\".count(\"G\") # note: the result is 2\n",
    "\n",
    "An example of using count on a variable looks like this:\n",
    "\n",
    "my_dna = \"CCATTCATCCAGGCTT\"\n",
    "my_dna.count(\"G) # note: the result should also be 2\n",
    "\n",
    "Now calculate how many Cs, Ts, and As are in this string using similar statements. Try one as a literal and then assign the string to a variable and do the other two."
   ]
  },
  {
   "cell_type": "code",
   "execution_count": null,
   "metadata": {},
   "outputs": [],
   "source": [
    "c = \"ATATAATTGCCCGGCCATTA\".count(\"C\")\n",
    "t = sequence.count(\"T\")\n",
    "a = sequence.count(\"A\")\n",
    "g = sequence.count(\"G\")\n",
    "print(\"Cs: \", c)\n",
    "print(\"Gs: \", g)\n",
    "print(\"Ts: \", t)\n",
    "print(\"As: \", a)"
   ]
  },
  {
   "cell_type": "markdown",
   "metadata": {},
   "source": [
    "# Putting it all together #\n",
    "\n",
    "Now, believe it or not, we have all the tools we need to calculate the GC content of any sequence. We could even do this for a complete genome if we knew how to open a file. We'll get to that. For now, just do this with short made-up sequences.\n",
    "\n",
    "- Get sequence input from user # take a look at the Tuesday notebook if you forgot how\n",
    "- Get length of sequence\n",
    "- Count Gs and Cs\n",
    "- Add Gs and Cs together\n",
    "- Divide GC count by length to get fraction GC \n",
    "- multiply by 100 to express it as a percent rather than a fraction\n",
    "- Print results\n",
    "\n",
    "Start by testing the script with a sequence that you know the answer for, the one you calculated the answer for manually above. Then try other sequences of ATGC (you can make them up randomly) and see if it gets them right."
   ]
  },
  {
   "cell_type": "code",
   "execution_count": null,
   "metadata": {},
   "outputs": [],
   "source": [
    "dna = input(\"Enter sequence: \")\n",
    "length = len(dna)\n",
    "gc = dna.count(\"G\") + dna.count(\"C\")\n",
    "percent = (gc / length) * 100\n",
    "print(percent,\"%\")"
   ]
  }
 ],
 "metadata": {
  "kernelspec": {
   "display_name": "Python 3",
   "language": "python",
   "name": "python3"
  },
  "language_info": {
   "codemirror_mode": {
    "name": "ipython",
    "version": 3
   },
   "file_extension": ".py",
   "mimetype": "text/x-python",
   "name": "python",
   "nbconvert_exporter": "python",
   "pygments_lexer": "ipython3",
   "version": "3.9.0"
  }
 },
 "nbformat": 4,
 "nbformat_minor": 4
}
