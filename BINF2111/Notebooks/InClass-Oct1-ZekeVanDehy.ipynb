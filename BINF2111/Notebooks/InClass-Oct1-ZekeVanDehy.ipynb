{
 "cells": [
  {
   "cell_type": "code",
   "execution_count": 1,
   "metadata": {},
   "outputs": [],
   "source": [
    "#In Class Oct 1 Submission\n",
    "#Oct 1\n",
    "#Zeke Van Dehy"
   ]
  },
  {
   "cell_type": "markdown",
   "metadata": {},
   "source": [
    "# Functions, but first: new list methods! #\n",
    "\n",
    "Today we're going to learn a couple of new things about lists, and then practice building python functions.\n",
    "\n",
    "Say we have the typical alphabet string “ABCDEFGHIJKLMNOPQRSTUVWXYZ”, and we make a list using the list() function:"
   ]
  },
  {
   "cell_type": "code",
   "execution_count": 2,
   "metadata": {},
   "outputs": [
    {
     "name": "stdout",
     "output_type": "stream",
     "text": [
      "['A', 'B', 'C', 'D', 'E', 'F', 'G', 'H', 'I', 'J', 'K', 'L', 'M', 'N', 'O', 'P', 'Q', 'R', 'S', 'T', 'U', 'V', 'W', 'X', 'Y', 'Z']\n"
     ]
    }
   ],
   "source": [
    "alpha = \"ABCDEFGHIJKLMNOPQRSTUVWXYZ\"\n",
    "alpha_list = list(alpha)\n",
    "print(alpha_list)"
   ]
  },
  {
   "cell_type": "markdown",
   "metadata": {},
   "source": [
    "## Lists are MUTABLE #\n",
    "\n",
    "Unlike strings and numbers, lists are MUTABLE. You can change individual items in the list after you have assigned it to an object name (variable).\n",
    "\n",
    "Lists slice just like strings. In the alphabet list, element [0] is “A”.\n",
    "\n",
    "In your notebook, make the alphabet list, and then try changing just element [0] with an assignment statement. Change alpha_list[0] to \"bananas\" and then print out the list."
   ]
  },
  {
   "cell_type": "code",
   "execution_count": 3,
   "metadata": {},
   "outputs": [
    {
     "name": "stdout",
     "output_type": "stream",
     "text": [
      "['bananas', 'B', 'C', 'D', 'E', 'F', 'G', 'H', 'I', 'J', 'K', 'L', 'M', 'N', 'O', 'P', 'Q', 'R', 'S', 'T', 'U', 'V', 'W', 'X', 'Y', 'Z']\n"
     ]
    }
   ],
   "source": [
    "alpha_list[0] = \"bananas\"\n",
    "print(alpha_list)"
   ]
  },
  {
   "cell_type": "markdown",
   "metadata": {},
   "source": [
    "## Lists can be added together #\n",
    "\n",
    "First, change alpha_list[0] back to \"A\".\n",
    "\n",
    "Then, create a new list, smalpha_list, that's made up of all the lowercase letters.\n",
    "\n",
    "Then use the plus operator to add the two lists together."
   ]
  },
  {
   "cell_type": "code",
   "execution_count": 4,
   "metadata": {},
   "outputs": [
    {
     "name": "stdout",
     "output_type": "stream",
     "text": [
      "['a', 'b', 'c', 'd', 'e', 'f', 'g', 'h', 'i', 'j', 'k', 'l', 'm', 'n', 'o', 'p', 'q', 'r', 's', 't', 'u', 'v', 'w', 'x', 'y', 'z'] \n",
      "\n",
      "both:  ['A', 'B', 'C', 'D', 'E', 'F', 'G', 'H', 'I', 'J', 'K', 'L', 'M', 'N', 'O', 'P', 'Q', 'R', 'S', 'T', 'U', 'V', 'W', 'X', 'Y', 'Z', 'a', 'b', 'c', 'd', 'e', 'f', 'g', 'h', 'i', 'j', 'k', 'l', 'm', 'n', 'o', 'p', 'q', 'r', 's', 't', 'u', 'v', 'w', 'x', 'y', 'z']\n"
     ]
    }
   ],
   "source": [
    "alpha_list[0] = \"A\"\n",
    "smalpha_list = list(alpha.lower())\n",
    "print(smalpha_list, \"\\n\")\n",
    "both = alpha_list + smalpha_list\n",
    "print(\"both: \", both)"
   ]
  },
  {
   "cell_type": "markdown",
   "metadata": {},
   "source": [
    "## We can add an item (or a list) to a list with .append() #\n",
    "\n",
    "Try using the .append() method to modify alpha_list by appending smalpha_list."
   ]
  },
  {
   "cell_type": "code",
   "execution_count": 5,
   "metadata": {},
   "outputs": [
    {
     "name": "stdout",
     "output_type": "stream",
     "text": [
      "['A', 'B', 'C', 'D', 'E', 'F', 'G', 'H', 'I', 'J', 'K', 'L', 'M', 'N', 'O', 'P', 'Q', 'R', 'S', 'T', 'U', 'V', 'W', 'X', 'Y', 'Z', ['a', 'b', 'c', 'd', 'e', 'f', 'g', 'h', 'i', 'j', 'k', 'l', 'm', 'n', 'o', 'p', 'q', 'r', 's', 't', 'u', 'v', 'w', 'x', 'y', 'z']]\n",
      "27\n"
     ]
    }
   ],
   "source": [
    "alpha_list = list(alpha)\n",
    "alpha_list.append(smalpha_list)\n",
    "print(alpha_list)\n",
    "print(len(alpha_list))"
   ]
  },
  {
   "cell_type": "markdown",
   "metadata": {},
   "source": [
    "## We can add items to a list one at a time with a loop #\n",
    "\n",
    "Change alpha_list back to its original values (reassign the output of list(alpha)). Then, use a for loop to loop through the characters in smalpha_list one at a time and append them to alpha_list."
   ]
  },
  {
   "cell_type": "code",
   "execution_count": 6,
   "metadata": {},
   "outputs": [
    {
     "name": "stdout",
     "output_type": "stream",
     "text": [
      "['A', 'B', 'C', 'D', 'E', 'F', 'G', 'H', 'I', 'J', 'K', 'L', 'M', 'N', 'O', 'P', 'Q', 'R', 'S', 'T', 'U', 'V', 'W', 'X', 'Y', 'Z', 'a', 'b', 'c', 'd', 'e', 'f', 'g', 'h', 'i', 'j', 'k', 'l', 'm', 'n', 'o', 'p', 'q', 'r', 's', 't', 'u', 'v', 'w', 'x', 'y', 'z']\n",
      "52\n"
     ]
    }
   ],
   "source": [
    "alpha_list = list(alpha)\n",
    "for l in smalpha_list:\n",
    "    alpha_list.append(l)\n",
    "print(alpha_list)\n",
    "print(len(alpha_list))"
   ]
  },
  {
   "cell_type": "markdown",
   "metadata": {},
   "source": [
    "## We can delete a specific element with del() #\n",
    "\n",
    "del() is a built in function, not a list method. You can use it in many contexts. Here, use del() with a list slice to remove just the very last element (\"Z\") from alpha_list."
   ]
  },
  {
   "cell_type": "code",
   "execution_count": 7,
   "metadata": {},
   "outputs": [
    {
     "name": "stdout",
     "output_type": "stream",
     "text": [
      "z\n",
      "y\n"
     ]
    }
   ],
   "source": [
    "print(alpha_list[-1])\n",
    "del(alpha_list[-1])\n",
    "print(alpha_list[-1])"
   ]
  },
  {
   "cell_type": "markdown",
   "metadata": {},
   "source": [
    "# Functions"
   ]
  },
  {
   "cell_type": "code",
   "execution_count": null,
   "metadata": {},
   "outputs": [],
   "source": []
  },
  {
   "cell_type": "markdown",
   "metadata": {},
   "source": [
    "# Functions with more than one argument #\n",
    "\n",
    "Functions can have more than one positional argument. i.e. if I define a function so that it asks for a length and a percentage, then I will write the function so it interprets two values passed to it IN THAT ORDER, and I will write my function docstring so that the user knows that the function wants to receive the arguments in the order length, percentage. That would look like this:\n",
    "\n",
    "```def my_function(length, percentage):\n",
    "    \"\"\"my_function calculates a new length\n",
    "       takes two arguments, length and percentage\n",
    "       returns the new length\"\"\"       \n",
    "    return length * (percentage/100)```\n",
    "\n",
    "I could call the function with a statement like:\n",
    "\n",
    "```newlen = my_function(80,40)```\n",
    "\n",
    "Or, if I had defined some variables out in the main body of the program before the function call, I could pass it the variables instead:\n",
    "\n",
    "```strlen = 80\n",
    "perc = 40\n",
    "newlen = my_function(strlen,perc)```\n",
    "\n",
    "In the first cell below, write a function that concatenates two strings given to you by the user. It can concatenate them into one big word, or into a formatted statement with added space if you like.\n",
    "\n",
    "In the second cell, write code that gets the two input strings from the user, converts them to numbers, and then calls the function on them."
   ]
  },
  {
   "cell_type": "code",
   "execution_count": 8,
   "metadata": {},
   "outputs": [],
   "source": [
    "def conc(string1, string2):\n",
    "    return str(string1) + \" (let's go hiking!) \" + str(string2)"
   ]
  },
  {
   "cell_type": "code",
   "execution_count": 9,
   "metadata": {},
   "outputs": [
    {
     "name": "stdin",
     "output_type": "stream",
     "text": [
      "Enter your first string:  one\n",
      "Enter your second string:  two\n"
     ]
    },
    {
     "name": "stdout",
     "output_type": "stream",
     "text": [
      "one (let's go hiking!) two\n"
     ]
    }
   ],
   "source": [
    "i1 = input(\"Enter your first string: \")\n",
    "i2 = input(\"Enter your second string: \")\n",
    "print(conc(i1,i2))"
   ]
  },
  {
   "cell_type": "markdown",
   "metadata": {},
   "source": [
    "# Encapsulation #\n",
    "\n",
    "What happens in a function stays in the function\n",
    "\n",
    "The rest of your script cannot directly use the variables inside your function; it should only use what is passed out by the return statement\n",
    "\n",
    "The function *can* see global variables that were defined before it was called, but it should not directly use global variables that are defined outside the function, it should only use what is passed in as arguments\n",
    "\n",
    "Why? This makes it easy to use functions in multiple scripts.\n",
    "\n",
    "In the function below, add some input statements. Can you print arg1 or arg2 from outside the function? What about from inside the function? Add print statements and comment them to show where you can print these two values successfully."
   ]
  },
  {
   "cell_type": "code",
   "execution_count": 10,
   "metadata": {},
   "outputs": [
    {
     "name": "stdin",
     "output_type": "stream",
     "text": [
      "Give me an integer:  10\n",
      "Give me another integer:  20\n"
     ]
    },
    {
     "name": "stdout",
     "output_type": "stream",
     "text": [
      "10 20\n",
      "30\n"
     ]
    }
   ],
   "source": [
    "def functionName(arg1, arg2):\n",
    "    print(arg1, arg2) #works here\n",
    "    output = arg1 + arg2\n",
    "    output2 = arg1 * arg2\n",
    "    return output\n",
    "\n",
    "myInput1 = int(input(\"Give me an integer: \"))\n",
    "myInput2 = int(input(\"Give me another integer: \"))\n",
    "value = functionName(myInput1,myInput2)\n",
    "# print(arg1, arg2) doesn't work here\n",
    "print(value)"
   ]
  },
  {
   "cell_type": "markdown",
   "metadata": {},
   "source": [
    "In the cell below, test to see if the function knows about myInput1 and myInput2. Can you use those variables directly inside the function? To test that, place a statement that adds those two values inside of the function, and try to return its output."
   ]
  },
  {
   "cell_type": "code",
   "execution_count": 11,
   "metadata": {},
   "outputs": [
    {
     "name": "stdin",
     "output_type": "stream",
     "text": [
      "Give me an integer:  10\n",
      "Give me another integer:  20\n"
     ]
    },
    {
     "name": "stdout",
     "output_type": "stream",
     "text": [
      "30\n"
     ]
    }
   ],
   "source": [
    "def functionName(arg1, arg2):\n",
    "    return myInput1 + myInput2 #shouldn't do this\n",
    "#     output = arg1 + arg2\n",
    "#     output2 = arg1 * arg2\n",
    "#     return output\n",
    "\n",
    "myInput1 = int(input(\"Give me an integer: \"))\n",
    "myInput2 = int(input(\"Give me another integer: \"))\n",
    "value = functionName(myInput1,myInput2)\n",
    "print(value)"
   ]
  },
  {
   "cell_type": "markdown",
   "metadata": {},
   "source": [
    "# New built-ins for numbers #\n",
    "\n",
    "Here are two new built-ins to get your head around for numbers:\n",
    "\n",
    "round(number,decimal) -- rounds a number to the mathematically correct value (instead of just lopping off the end like int() does). If you want to round to an integer, you just use round(my_number). If you want to round to a particular decimal place, you also give the number of decimal places you want to round to. So round(34.56789) = 35, but round(34.56789,3) = 34.568\n",
    "\n",
    "abs() -- absolute value\n",
    "\n",
    "In the cell below, complete the comparison statements so that they evaluate True.\n",
    "Are the rounded integer values of floating point numbers actually integers, or are they floats? Write a statement that demonstrates what type they are."
   ]
  },
  {
   "cell_type": "code",
   "execution_count": 12,
   "metadata": {},
   "outputs": [
    {
     "data": {
      "text/plain": [
       "True"
      ]
     },
     "execution_count": 12,
     "metadata": {},
     "output_type": "execute_result"
    }
   ],
   "source": [
    "abs(-13.0) == 13\n",
    "abs(1) == 1\n",
    "round(23.45678) == 23\n",
    "round(23.45678,2) == 23.46\n",
    "round(abs(-12.5)) == 12"
   ]
  },
  {
   "cell_type": "markdown",
   "metadata": {},
   "source": [
    "# Make your own function #\n",
    "\n",
    "In the cells below, enter a working version of the function that was assigned at the end of class, and then call the function on these two sequences:\n",
    "\n",
    "- CTGCTTGCCAGAAGAGGTTTTTCTTCTAAAGACAGTGACTAAAATGGATACTACCCAACATTCATATAGTGCACATAGCTGTGAGTCGATCATTGTACGT\n",
    "- CAACCGTTGTGTCTGCAGCATTGGCAGGAGAACGGCGGCGCCGCGTGGTCTGGGGGAGACGTGTACGCCACCAGACCCGCCCCGCGGCCAATCTACGGGTTGCACTCATTCGCTCTAAGC\n",
    " \n",
    "correct answers -- 40%, 65%"
   ]
  },
  {
   "cell_type": "code",
   "execution_count": 13,
   "metadata": {},
   "outputs": [],
   "source": [
    "dna1 = \"CTGCTTGCCAGAAGAGGTTTTTCTTCTAAAGACAGTGACTAAAATGGATACTACCCAACATTCATATAGTGCACATAGCTGTGAGTCGATCATTGTACGT\"\n",
    "dna2 = \"CAACCGTTGTGTCTGCAGCATTGGCAGGAGAACGGCGGCGCCGCGTGGTCTGGGGGAGACGTGTACGCCACCAGACCCGCCCCGCGGCCAATCTACGGGTTGCACTCATTCGCTCTAAGC\""
   ]
  },
  {
   "cell_type": "code",
   "execution_count": 1,
   "metadata": {},
   "outputs": [],
   "source": [
    "def gc_content(dna):\n",
    "    dec = (dna.count(\"C\")+dna.count(\"G\")) / len(dna)\n",
    "    percent = round((dec) * 100)\n",
    "    return percent"
   ]
  },
  {
   "cell_type": "code",
   "execution_count": 21,
   "metadata": {},
   "outputs": [
    {
     "name": "stdout",
     "output_type": "stream",
     "text": [
      "40 %\n",
      "65 %\n"
     ]
    }
   ],
   "source": [
    "print(gc_content(dna1),\"%\")\n",
    "print(gc_content(dna2),\"%\")"
   ]
  },
  {
   "cell_type": "code",
   "execution_count": null,
   "metadata": {},
   "outputs": [],
   "source": []
  }
 ],
 "metadata": {
  "kernelspec": {
   "display_name": "Python 3",
   "language": "python",
   "name": "python3"
  },
  "language_info": {
   "codemirror_mode": {
    "name": "ipython",
    "version": 3
   },
   "file_extension": ".py",
   "mimetype": "text/x-python",
   "name": "python",
   "nbconvert_exporter": "python",
   "pygments_lexer": "ipython3",
   "version": "3.9.0"
  }
 },
 "nbformat": 4,
 "nbformat_minor": 4
}
