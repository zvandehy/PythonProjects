{
 "cells": [
  {
   "cell_type": "code",
   "execution_count": null,
   "metadata": {},
   "outputs": [],
   "source": [
    "#For Loops Sept. 19 Submission\n",
    "# 10/13/2020\n",
    "#Zeke Van Dehy"
   ]
  },
  {
   "cell_type": "markdown",
   "metadata": {},
   "source": [
    "# A few more tricks with for loops #\n",
    "\n",
    "Let's review what we know how to do with for loops.\n",
    "\n",
    "- We know how to loop over a string getting one character at a time\n",
    "- We know how to loop over a list getting one item at a time.\n",
    "- We know how to loop over a range of numbers one item at a time.\n",
    "\n",
    "In the cell below, write one simple example loop for each of these. It's fine to use things that you remember from in-class examples or other assignments."
   ]
  },
  {
   "cell_type": "code",
   "execution_count": 2,
   "metadata": {},
   "outputs": [
    {
     "name": "stdout",
     "output_type": "stream",
     "text": [
      "s\n",
      "t\n",
      "r\n",
      "i\n",
      "n\n",
      "g\n"
     ]
    }
   ],
   "source": [
    "s = \"string\"\n",
    "for char in s:\n",
    "    print(char)"
   ]
  },
  {
   "cell_type": "code",
   "execution_count": 3,
   "metadata": {},
   "outputs": [
    {
     "name": "stdout",
     "output_type": "stream",
     "text": [
      "1\n",
      "2\n",
      "3\n",
      "4\n",
      "5\n"
     ]
    }
   ],
   "source": [
    "l = [1,2,3,4,5]\n",
    "for n in l:\n",
    "    print(n)"
   ]
  },
  {
   "cell_type": "code",
   "execution_count": 4,
   "metadata": {},
   "outputs": [
    {
     "name": "stdout",
     "output_type": "stream",
     "text": [
      "0\n",
      "1\n",
      "2\n",
      "3\n",
      "4\n",
      "5\n",
      "6\n",
      "7\n",
      "8\n",
      "9\n"
     ]
    }
   ],
   "source": [
    "for i in range(10):\n",
    "    print(i)"
   ]
  },
  {
   "cell_type": "markdown",
   "metadata": {},
   "source": [
    "# Find an average with for #\n",
    "\n",
    "Given a list of integers [1,2,3,4,5,6,7], write a for loop that iterates over the list and calculates the sum and the average."
   ]
  },
  {
   "cell_type": "code",
   "execution_count": 28,
   "metadata": {},
   "outputs": [
    {
     "name": "stdout",
     "output_type": "stream",
     "text": [
      "28\n",
      "4.0\n"
     ]
    }
   ],
   "source": [
    "def getSumAndAvg(l):\n",
    "    total = 0\n",
    "    avg = 0\n",
    "\n",
    "    for i in l:\n",
    "        total += i\n",
    "    if len(l) == 0:\n",
    "        avg=0\n",
    "    else:\n",
    "        avg = total/len(l)\n",
    "    return total, avg\n",
    "l = [1,2,3,4,5,6,7]\n",
    "t, a = getSumAndAvg(l)\n",
    "print(t)\n",
    "print(a)"
   ]
  },
  {
   "cell_type": "markdown",
   "metadata": {},
   "source": [
    "# For loops can nest #\n",
    "\n",
    "For loops gain power as you combine them with other loops and conditionals. You can end up with a quite complicated set of decisions being made at each step in the loop, and you can generate loop output with multiple dimensions. This little loop gives you the four possible combinations of alleles from two heterozygotic parents.\n",
    "\n",
    "```for char in 'Aa':\n",
    "    for char2 in 'Aa':\n",
    "        print(char + char2)```\n",
    "\n",
    "In the cell below, print a multiplication table for the numbers 0-10, using two nested for loops. Go with your first instinct of how to solve it and see what the output looks like.\n",
    "\n",
    "Before we move on, how could we make a better-looking multiplication table?"
   ]
  },
  {
   "cell_type": "code",
   "execution_count": 20,
   "metadata": {},
   "outputs": [
    {
     "name": "stdout",
     "output_type": "stream",
     "text": [
      "0  | 0  | 0  | 0  | 0  | 0  | 0  | 0  | 0  | 0  | 0  | 0  | \n",
      "1  | 0  | 1  | 2  | 3  | 4  | 5  | 6  | 7  | 8  | 9  | 10 | \n",
      "2  | 0  | 2  | 4  | 6  | 8  | 10 | 12 | 14 | 16 | 18 | 20 | \n",
      "3  | 0  | 3  | 6  | 9  | 12 | 15 | 18 | 21 | 24 | 27 | 30 | \n",
      "4  | 0  | 4  | 8  | 12 | 16 | 20 | 24 | 28 | 32 | 36 | 40 | \n",
      "5  | 0  | 5  | 10 | 15 | 20 | 25 | 30 | 35 | 40 | 45 | 50 | \n",
      "6  | 0  | 6  | 12 | 18 | 24 | 30 | 36 | 42 | 48 | 54 | 60 | \n",
      "7  | 0  | 7  | 14 | 21 | 28 | 35 | 42 | 49 | 56 | 63 | 70 | \n",
      "8  | 0  | 8  | 16 | 24 | 32 | 40 | 48 | 56 | 64 | 72 | 80 | \n",
      "9  | 0  | 9  | 18 | 27 | 36 | 45 | 54 | 63 | 72 | 81 | 90 | \n",
      "10 | 0  | 10 | 20 | 30 | 40 | 50 | 60 | 70 | 80 | 90 | 100 | \n"
     ]
    }
   ],
   "source": [
    "line = \"\"\n",
    "for r in range(11):\n",
    "    line = str(r)\n",
    "    if r < 10:\n",
    "        line += \"  | \"\n",
    "    else:\n",
    "        line += \" | \"\n",
    "    for c in range(11):\n",
    "        line += str(c*r)\n",
    "        if c*r < 10:\n",
    "            line += \"  | \"\n",
    "        else:\n",
    "            line += \" | \"\n",
    "    print(line)\n",
    "    line = \"\"\n",
    "        "
   ]
  },
  {
   "cell_type": "markdown",
   "metadata": {},
   "source": [
    "# For loops can iterate multiple lists at once #\n",
    "\n",
    "Say you have three lists of equal length:\n",
    "\n",
    "```somenumbers = [1,2,3,4,5]\n",
    "somemorenums = [1,2,3,4,5]\n",
    "evenmorenums = [1,2,3,4,5]```\n",
    "    \n",
    "You can use a for loop with enumerate to get an index, and then get the item that's in the same index in all the loops. There are other cleaner and more reliable ways to do this, but sometimes it's workable for simple problems.\n",
    "\n",
    "```for i,num in enumerate(somenumbers):\n",
    "    print(somenumbers[i]*somemorenums[i]*evenmorenums[i])```\n",
    "    \n",
    "In the cell below, use enumerate and an index to print out the pairs of characters in \"ABCDEFGHIJKLMNOPQRSTUVWXYZ\" and its lowercase counterpart."
   ]
  },
  {
   "cell_type": "code",
   "execution_count": 21,
   "metadata": {},
   "outputs": [
    {
     "name": "stdout",
     "output_type": "stream",
     "text": [
      "A a\n",
      "B b\n",
      "C c\n",
      "D d\n",
      "E e\n",
      "F f\n",
      "G g\n",
      "H h\n",
      "I i\n",
      "J j\n",
      "K k\n",
      "L l\n",
      "M m\n",
      "N n\n",
      "O o\n",
      "P p\n",
      "Q q\n",
      "R r\n",
      "S s\n",
      "T t\n",
      "U u\n",
      "V v\n",
      "W w\n",
      "X x\n",
      "Y y\n",
      "Z z\n"
     ]
    }
   ],
   "source": [
    "ABC = \"ABCDEFGHIJKLMNOPQRSTUVWXYZ\"\n",
    "abc = ABC.lower()\n",
    "\n",
    "for i,num in enumerate(ABC):\n",
    "    print(num, abc[i])"
   ]
  },
  {
   "cell_type": "markdown",
   "metadata": {},
   "source": [
    "# For loops can contain conditionals #\n",
    "\n",
    "For loops can contain conditional statements. We have seen elements of this before.\n",
    "\n",
    "This for loop checks for a condition, does one thing if it is true and another if it is false.\n",
    "\n",
    "```for char in \"ATGCATGCATGC\":\n",
    "    GC = 0\n",
    "    AT = 0\n",
    "    if char in ['A','T']:\n",
    "        AT += 1\n",
    "    else:\n",
    "        GC += 1```\n",
    "\n",
    "This for loop enumerates the iterator, and does one thing if the index is even and another if it is odd.\n",
    "\n",
    "```for i,char in enumerate(\"ATGCATGCATGC\"):\n",
    "    if i % 2 == 0:\n",
    "        print(char)\n",
    "    else:\n",
    "        pass```\n",
    "\n",
    "For the protein sequence of insulin, implement a for loop with a nested if/else. Count a residue as \"hydrophobic\" if it is in the list ['A','I','L','M','F','W','Y','V'], and \"hydrophilic\" if it is any other residue.\n",
    "\n",
    "sequence = \"MALWMRLLPLLALLALWGPDPAAAFVNQHLCGSHLVEALYLVCGERGFFYTPKTRREAEDLQVGQVELGGGPGAGSLQPLALEGSLQKRGIVEQCCTSICSLYQLENYCN\""
   ]
  },
  {
   "cell_type": "code",
   "execution_count": 22,
   "metadata": {},
   "outputs": [
    {
     "name": "stdout",
     "output_type": "stream",
     "text": [
      "49\n",
      "61\n"
     ]
    }
   ],
   "source": [
    "sequence = \"MALWMRLLPLLALLALWGPDPAAAFVNQHLCGSHLVEALYLVCGERGFFYTPKTRREAEDLQVGQVELGGGPGAGSLQPLALEGSLQKRGIVEQCCTSICSLYQLENYCN\"\n",
    "hydrophobic_list = ['A','I','L','M','F','W','Y','V']\n",
    "hydrophobic = 0\n",
    "hydrophilic = 0\n",
    "for i in sequence:\n",
    "    if i in hydrophobic_list:\n",
    "        hydrophobic+=1\n",
    "    else:\n",
    "        hydrophilic+=1\n",
    "print(hydrophobic)\n",
    "print(hydrophilic)"
   ]
  },
  {
   "cell_type": "markdown",
   "metadata": {},
   "source": [
    "# For loops can break and use else #\n",
    "\n",
    "Here's a classic example of how you'd actually use an else with a for loop -- calculating the factors of numbers, and printing something else when the number is prime (or, you know, storing the prime to a giant list of primes). For those who asked about more reading resources to go along with the course, this is from a site called TutorialsPoint. They have generic mathy examples instead of bioinformatics oriented ones (https://www.tutorialspoint.com/python/python_for_loop.htm):\n",
    "\n",
    "```for num in range(10,20):     #to iterate between 10 to 20\n",
    "   for i in range(2,num):    #to iterate on the factors of the number\n",
    "      if num%i == 0:         #to determine the first factor\n",
    "         j=num/i             #to calculate the second factor\n",
    "         print '%d equals %d * %d' % (num,i,j)\n",
    "         break #to move to the next number, the #first FOR\n",
    "   else:                  # else part of the loop\n",
    "      print num, 'is a prime number'```\n",
    "\n",
    "In the cell below, try implementing this as a while loop instead. Use a reasonable cutoff condition. How would you get your while loop to start at 10?"
   ]
  },
  {
   "cell_type": "code",
   "execution_count": 30,
   "metadata": {},
   "outputs": [
    {
     "name": "stdout",
     "output_type": "stream",
     "text": [
      "10 equals 2 * 5\n",
      "11 is a prime number\n",
      "12 equals 2 * 6\n",
      "13 is a prime number\n",
      "14 equals 2 * 7\n",
      "15 equals 3 * 5\n",
      "16 equals 2 * 8\n",
      "17 is a prime number\n",
      "18 equals 2 * 9\n",
      "19 is a prime number\n",
      "20 equals 2 * 10\n",
      "21 equals 3 * 7\n",
      "22 equals 2 * 11\n",
      "23 is a prime number\n",
      "24 equals 2 * 12\n",
      "25 equals 5 * 5\n",
      "26 equals 2 * 13\n",
      "27 equals 3 * 9\n",
      "28 equals 2 * 14\n",
      "29 is a prime number\n",
      "30 equals 2 * 15\n",
      "31 is a prime number\n",
      "32 equals 2 * 16\n",
      "33 equals 3 * 11\n",
      "34 equals 2 * 17\n",
      "35 equals 5 * 7\n",
      "36 equals 2 * 18\n",
      "37 is a prime number\n",
      "38 equals 2 * 19\n",
      "39 equals 3 * 13\n",
      "40 equals 2 * 20\n",
      "41 is a prime number\n",
      "42 equals 2 * 21\n",
      "43 is a prime number\n",
      "44 equals 2 * 22\n",
      "45 equals 3 * 15\n",
      "46 equals 2 * 23\n",
      "47 is a prime number\n",
      "48 equals 2 * 24\n",
      "49 equals 7 * 7\n"
     ]
    }
   ],
   "source": [
    "num = 10\n",
    "while(num < 20):\n",
    "    i=2\n",
    "    while(i < num and num%i != 0):\n",
    "        i+=1\n",
    "    if i==num:\n",
    "        print(num, \"is a prime number\")\n",
    "    else:\n",
    "        j=num/i\n",
    "        print('%d equals %d * %d' % (num,i,j))\n",
    "    num+=1"
   ]
  },
  {
   "cell_type": "code",
   "execution_count": null,
   "metadata": {},
   "outputs": [],
   "source": []
  }
 ],
 "metadata": {
  "kernelspec": {
   "display_name": "Python 3",
   "language": "python",
   "name": "python3"
  },
  "language_info": {
   "codemirror_mode": {
    "name": "ipython",
    "version": 3
   },
   "file_extension": ".py",
   "mimetype": "text/x-python",
   "name": "python",
   "nbconvert_exporter": "python",
   "pygments_lexer": "ipython3",
   "version": "3.9.0"
  }
 },
 "nbformat": 4,
 "nbformat_minor": 4
}
