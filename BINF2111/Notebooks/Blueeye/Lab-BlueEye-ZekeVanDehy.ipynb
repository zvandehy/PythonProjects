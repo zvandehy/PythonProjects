{
 "cells": [
  {
   "cell_type": "code",
   "execution_count": 2,
   "metadata": {},
   "outputs": [],
   "source": [
    "# Blue Eye Gene Variant Lab\n",
    "# Zeke Van Dehy\n",
    "# 10/22/2020"
   ]
  },
  {
   "cell_type": "markdown",
   "metadata": {},
   "source": [
    "# Blue Eye #\n",
    "\n",
    "A longer description of what to do in this lab can be found here:\n",
    "\n",
    "https://genomeintelligence.org/?p=775 (explanation of the science)\n",
    "https://genomeintelligence.org/?p=792 \n",
    "\n",
    "The assignment this year is a little different than last time we did this lab, so go by what's in this notebook and not what's on the webpage. If you need a challenge, you can add in the addtional SNPs that are not already in blueeyepanel.txt and come up with a way to report each of them.\n",
    "\n",
    "You have a package of files that contains one file that is descriptive. blueeyepanel.txt DEFINES the blue eye genetic pattern. The other three files are individual data. One person with the blue eye pattern, one without, and one that is a partial match.\n",
    "\n",
    "A line in the blueeyepanel.txt file looks like this:\n",
    "\n",
    "```AA, rs7495174, BEH1```\n",
    "\n",
    "A line in the 23 and me file looks like this:\n",
    "\n",
    "```rs4778138\t15\t28335820        GG```\n",
    "\n",
    "What do we want from each of these files? That's the hard part.\n",
    "\n",
    "Your goal is to write a program that reads in the defining blue eye pattern and then uses the information to *test* the other three files to see if they match the pattern.\n",
    "\n",
    "The thing that connects the blueeyepanel.txt pattern file and the 23andme user files is the SNP IDENTIFIER. That is the number that starts with \"rs\".  If there is a rs001 in blueeyepanel.txt, and an rs001 in a 23andme file, you can be sure that they are talking about the same well-characterized SNP site in the human genome. The rs number is a UNIQUE IDENTIFIER for that human SNP.\n",
    "\n",
    "We're going to talk about how you should proceed in class. But I've included some ideas below. THERE IS MORE THAN ONE WAY TO SOLVE THIS. My way is not the only way and maybe not even the best."
   ]
  },
  {
   "cell_type": "code",
   "execution_count": null,
   "metadata": {},
   "outputs": [],
   "source": []
  },
  {
   "cell_type": "markdown",
   "metadata": {},
   "source": [
    "# First, get the SNPs that are assayed in the 23andme file #\n",
    "\n",
    "Not all of the SNPs in the blue eye panel are assayed by 23 and me, because some of them occur in haplotype blocks where measuring one of them 100% predicts the values of the others. So you only need to measure the one.\n",
    "\n",
    "I could make a list of everything that is assayed in a 23andme file by going through the lines one by one, checking what kind of line they are. If the line contains a # at the front it's a comment, and I don't want to process it. If the line contains an MT, it is part of the mitochondrial genome and I don't need to worry about it since none of the blue eye SNPs are on the mitochondrial genome.\n",
    "\n",
    "How would we extract the assayed SNP IDs from one of the 23andme files?"
   ]
  },
  {
   "cell_type": "code",
   "execution_count": 3,
   "metadata": {},
   "outputs": [],
   "source": [
    "def readFile(filename):\n",
    "    \"\"\"\"returns [(id, chromosome, position, genotype)] from 23andme filename\"\"\"\n",
    "    with open(filename) as fo:\n",
    "        lines = []\n",
    "        for line in fo.readlines():\n",
    "            if line[0] == \"#\" or \"MT\" in line:\n",
    "                continue\n",
    "            else:\n",
    "                lines.append(line)\n",
    "        ids = [line.split()[0] for line in lines]\n",
    "        chromosomes = [line.split()[1] for line in lines]\n",
    "        positions = [line.split()[2] for line in lines]\n",
    "        genotypes = [line.split()[3] for line in lines]\n",
    "        return list(zip(ids, chromosomes, positions, genotypes))"
   ]
  },
  {
   "cell_type": "code",
   "execution_count": 4,
   "metadata": {},
   "outputs": [
    {
     "name": "stdout",
     "output_type": "stream",
     "text": [
      "('rs4778138', '15', '28335820', 'GG')\n",
      "('rs4778241', '15', '28338713', 'AA')\n",
      "('rs7495174', '15', '28344238', 'GG')\n",
      "('rs1129038', '15', '28356859', 'TT')\n",
      "('rs12593929', '15', '28359258', 'AA')\n"
     ]
    }
   ],
   "source": [
    "partblue = readFile(\"partblue-23andMe.txt\")[:5]\n",
    "for i in partblue:\n",
    "    print(i)"
   ]
  },
  {
   "cell_type": "markdown",
   "metadata": {},
   "source": [
    "# Then, make a set of parallel lists that define the blue eye pattern #\n",
    "\n",
    "There's more than one way to set up a data structure that will work to have your blue eye pattern defined. However, because the lists we are making are of the same length and there is a one to one relationship between the unique identifier (rs#) and the genotype information at that site, parallel lists accessed with a common index will get the job done.\n",
    "\n",
    "You could also use a tuple of three values that explicitly ties the three values together, then iterate over the tuple, but you'd have to break out individual values inside it to make conditionals based on them.\n",
    "\n",
    "How would we extract the values from the blueeye file and put them in parallel lists?"
   ]
  },
  {
   "cell_type": "code",
   "execution_count": 11,
   "metadata": {},
   "outputs": [
    {
     "name": "stdout",
     "output_type": "stream",
     "text": [
      "('rs4778241', 'CC', ' h-1')\n",
      "('rs1129038', 'AA', ' h-1')\n",
      "('rs12593929', 'AA', ' h-1')\n",
      "('rs12913832', 'GG', ' h-1')\n",
      "('rs7183877', 'CC', ' h-1')\n",
      "('rs3935591', 'CC', ' h-1')\n",
      "('rs7170852', 'AA', ' h-1')\n",
      "('rs2238289', 'TT', ' h-1')\n",
      "('rs3940272', 'CC', ' h-1')\n",
      "('rs8028689', 'TT', ' h-1')\n",
      "('rs2240203', 'TT', ' h-1')\n",
      "('rs916977', 'CC', ' h-1')\n",
      "('rs11631797', 'GG', ' h-1')\n",
      "('rs4778138', 'AA', ' BEH1')\n",
      "('rs4778241', 'CC', ' BEH1')\n",
      "('rs7495174', 'AA', ' BEH1')\n",
      "('rs1129038', 'TT', ' BEH2')\n",
      "('rs12913832', 'GG', ' BEH2')\n",
      "('rs916977', 'CC', ' BEH3')\n",
      "('rs1667394', 'TT', ' BEH3')\n"
     ]
    }
   ],
   "source": [
    "def getBlueEyePattern():\n",
    "    blueEyePattern = []\n",
    "    with open(\"blueeyepanel.txt\") as fo:\n",
    "            lines = []\n",
    "            for line in fo.readlines():\n",
    "                line = line.strip()\n",
    "                lines.append(line)\n",
    "            genotypes = [line.split(\", \")[0] for line in lines]\n",
    "            ids = [line.split(\", \")[1] for line in lines]\n",
    "            haplotypes = [line.split(\",\")[2] for line in lines]\n",
    "            return [i for i in list(zip(ids, genotypes, haplotypes))]\n",
    "blueEyePattern = getBlueEyePattern()\n",
    "for i in blueEyePattern:\n",
    "    print(i)"
   ]
  },
  {
   "cell_type": "markdown",
   "metadata": {},
   "source": [
    "# Then, check the individual's SNP file to see if the genotypes match #\n",
    "\n",
    "The rs# identifier connects the individual 23 and me file to the blue eye pattern file.\n",
    "\n",
    "The triggering event to write something out in a report to the user is, we find a SNP ID in the 23andme file that is also in the list of rs# in our blue eye pattern. That event is going to trigger three things:\n",
    "\n",
    "- we use a .index command to find the position of the rs# in the blueeye lists\n",
    "- we get the values from that index position across all three lists\n",
    "- we check the genotype value in the defined pattern against the individual's genotype\n",
    "\n",
    "We might want to combine information from the two files somehow at this point to help with the final step."
   ]
  },
  {
   "cell_type": "code",
   "execution_count": 12,
   "metadata": {},
   "outputs": [
    {
     "name": "stdout",
     "output_type": "stream",
     "text": [
      "rs4778138,\t BEH1,\t\t\tGG,\tAA,\t\tFalse\n",
      "rs4778241,\t h-1,\t\t\tAA,\tCC,\t\tFalse\n",
      "rs4778241,\t BEH1,\t\t\tAA,\tCC,\t\tFalse\n",
      "rs7495174,\t BEH1,\t\t\tGG,\tAA,\t\tFalse\n",
      "rs1129038,\t h-1,\t\t\tTT,\tAA,\t\tFalse\n",
      "rs1129038,\t BEH2,\t\t\tTT,\tTT,\t\tTrue\n",
      "rs12593929,\t h-1,\t\t\tAA,\tAA,\t\tTrue\n",
      "rs12913832,\t h-1,\t\t\tGG,\tGG,\t\tTrue\n",
      "rs12913832,\t BEH2,\t\t\tGG,\tGG,\t\tTrue\n",
      "rs7183877,\t h-1,\t\t\tCC,\tCC,\t\tTrue\n",
      "rs3935591,\t h-1,\t\t\tCC,\tCC,\t\tTrue\n",
      "rs8028689,\t h-1,\t\t\tTT,\tTT,\t\tTrue\n",
      "rs2240203,\t h-1,\t\t\tTT,\tTT,\t\tTrue\n",
      "rs916977,\t h-1,\t\t\tCC,\tCC,\t\tTrue\n",
      "rs916977,\t BEH3,\t\t\tCC,\tCC,\t\tTrue\n",
      "rs1667394,\t BEH3,\t\t\tTT,\tTT,\t\tTrue\n"
     ]
    }
   ],
   "source": [
    "def compareBlueEye(individual):\n",
    "    \"\"\"\" given the ids and genotype from an individual, \n",
    "    return a data structure that compares the ids to the blue eye pattern\"\"\"\n",
    "    \n",
    "    #if individual's snp is in the pattern, check the genotype\n",
    "    ret = []\n",
    "    for ind_line in individual:\n",
    "        for blue_line in getBlueEyePattern():\n",
    "            if ind_line[0] == blue_line[0]:\n",
    "                ret.append(\"\" + ind_line[0] + \",\\t\" + blue_line[2] + \",\\t\\t\\t\" + ind_line[3] + \",\\t\" + blue_line[1] + \",\\t\\t\" + (str(ind_line[3] == blue_line[1])))\n",
    "    return ret\n",
    "partblue = readFile(\"partblue-23andMe.txt\")\n",
    "for i in compareBlueEye(partblue):\n",
    "    print(i)"
   ]
  },
  {
   "cell_type": "markdown",
   "metadata": {},
   "source": [
    "# Finally, we make a report #\n",
    "\n",
    "Have your program step through the blueeye lists and report:\n",
    "\n",
    "rs#, pattern, reference GT, user GT, match?"
   ]
  },
  {
   "cell_type": "code",
   "execution_count": 13,
   "metadata": {},
   "outputs": [
    {
     "name": "stdout",
     "output_type": "stream",
     "text": [
      "partblue-23andMe.txt\n",
      "rs#,\t\tpattern,\treference GT,\tuser GT,\tmatch?\n",
      "rs4778138,\t BEH1,\t\t\tGG,\tAA,\t\tFalse\n",
      "rs4778241,\t h-1,\t\t\tAA,\tCC,\t\tFalse\n",
      "rs4778241,\t BEH1,\t\t\tAA,\tCC,\t\tFalse\n",
      "rs7495174,\t BEH1,\t\t\tGG,\tAA,\t\tFalse\n",
      "rs1129038,\t h-1,\t\t\tTT,\tAA,\t\tFalse\n",
      "rs1129038,\t BEH2,\t\t\tTT,\tTT,\t\tTrue\n",
      "rs12593929,\t h-1,\t\t\tAA,\tAA,\t\tTrue\n",
      "rs12913832,\t h-1,\t\t\tGG,\tGG,\t\tTrue\n",
      "rs12913832,\t BEH2,\t\t\tGG,\tGG,\t\tTrue\n",
      "rs7183877,\t h-1,\t\t\tCC,\tCC,\t\tTrue\n",
      "rs3935591,\t h-1,\t\t\tCC,\tCC,\t\tTrue\n",
      "rs8028689,\t h-1,\t\t\tTT,\tTT,\t\tTrue\n",
      "rs2240203,\t h-1,\t\t\tTT,\tTT,\t\tTrue\n",
      "rs916977,\t h-1,\t\t\tCC,\tCC,\t\tTrue\n",
      "rs916977,\t BEH3,\t\t\tCC,\tCC,\t\tTrue\n",
      "rs1667394,\t BEH3,\t\t\tTT,\tTT,\t\tTrue\n",
      "\n",
      "notblue-23andMe.txt\n",
      "rs#,\t\tpattern,\treference GT,\tuser GT,\tmatch?\n",
      "rs4778138,\t BEH1,\t\t\tGG,\tAA,\t\tFalse\n",
      "rs4778241,\t h-1,\t\t\tAA,\tCC,\t\tFalse\n",
      "rs4778241,\t BEH1,\t\t\tAA,\tCC,\t\tFalse\n",
      "rs7495174,\t BEH1,\t\t\tGG,\tAA,\t\tFalse\n",
      "rs1129038,\t h-1,\t\t\tAA,\tAA,\t\tTrue\n",
      "rs1129038,\t BEH2,\t\t\tAA,\tTT,\t\tFalse\n",
      "rs12593929,\t h-1,\t\t\tGG,\tAA,\t\tFalse\n",
      "rs12913832,\t h-1,\t\t\tTT,\tGG,\t\tFalse\n",
      "rs12913832,\t BEH2,\t\t\tTT,\tGG,\t\tFalse\n",
      "rs7183877,\t h-1,\t\t\tAA,\tCC,\t\tFalse\n",
      "rs3935591,\t h-1,\t\t\tGG,\tCC,\t\tFalse\n",
      "rs8028689,\t h-1,\t\t\tCC,\tTT,\t\tFalse\n",
      "rs2240203,\t h-1,\t\t\tCC,\tTT,\t\tFalse\n",
      "rs916977,\t h-1,\t\t\tAA,\tCC,\t\tFalse\n",
      "rs916977,\t BEH3,\t\t\tAA,\tCC,\t\tFalse\n",
      "rs1667394,\t BEH3,\t\t\tGG,\tTT,\t\tFalse\n",
      "\n",
      "blueeye-23andMe.txt\n",
      "rs#,\t\tpattern,\treference GT,\tuser GT,\tmatch?\n",
      "rs4778138,\t BEH1,\t\t\tAA,\tAA,\t\tTrue\n",
      "rs4778241,\t h-1,\t\t\tCC,\tCC,\t\tTrue\n",
      "rs4778241,\t BEH1,\t\t\tCC,\tCC,\t\tTrue\n",
      "rs7495174,\t BEH1,\t\t\tAA,\tAA,\t\tTrue\n",
      "rs1129038,\t h-1,\t\t\tTT,\tAA,\t\tFalse\n",
      "rs1129038,\t BEH2,\t\t\tTT,\tTT,\t\tTrue\n",
      "rs12593929,\t h-1,\t\t\tAA,\tAA,\t\tTrue\n",
      "rs12913832,\t h-1,\t\t\tGG,\tGG,\t\tTrue\n",
      "rs12913832,\t BEH2,\t\t\tGG,\tGG,\t\tTrue\n",
      "rs7183877,\t h-1,\t\t\tCC,\tCC,\t\tTrue\n",
      "rs3935591,\t h-1,\t\t\tCC,\tCC,\t\tTrue\n",
      "rs8028689,\t h-1,\t\t\tTT,\tTT,\t\tTrue\n",
      "rs2240203,\t h-1,\t\t\tTT,\tTT,\t\tTrue\n",
      "rs916977,\t h-1,\t\t\tCC,\tCC,\t\tTrue\n",
      "rs916977,\t BEH3,\t\t\tCC,\tCC,\t\tTrue\n",
      "rs1667394,\t BEH3,\t\t\tTT,\tTT,\t\tTrue\n",
      "\n"
     ]
    }
   ],
   "source": [
    "individualFiles = [\"partblue-23andMe.txt\", \"notblue-23andMe.txt\", \"blueeye-23andMe.txt\"]\n",
    "individuals = [readFile(file) for file in individualFiles]\n",
    "\n",
    "for i, individual in enumerate(individuals):\n",
    "    print(individualFiles[i])\n",
    "    print(\"rs#,\\t\\tpattern,\\treference GT,\\tuser GT,\\tmatch?\")\n",
    "    for line in compareBlueEye(individual):\n",
    "        print(line)\n",
    "    print()"
   ]
  },
  {
   "cell_type": "code",
   "execution_count": null,
   "metadata": {},
   "outputs": [],
   "source": []
  }
 ],
 "metadata": {
  "kernelspec": {
   "display_name": "Python 3",
   "language": "python",
   "name": "python3"
  },
  "language_info": {
   "codemirror_mode": {
    "name": "ipython",
    "version": 3
   },
   "file_extension": ".py",
   "mimetype": "text/x-python",
   "name": "python",
   "nbconvert_exporter": "python",
   "pygments_lexer": "ipython3",
   "version": "3.9.0"
  }
 },
 "nbformat": 4,
 "nbformat_minor": 4
}
