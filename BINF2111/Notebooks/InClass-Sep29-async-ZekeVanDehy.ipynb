{
 "cells": [
  {
   "cell_type": "code",
   "execution_count": null,
   "metadata": {},
   "outputs": [],
   "source": [
    "#Oct 5 2020\n",
    "#Zeke Van Dehy"
   ]
  },
  {
   "cell_type": "markdown",
   "metadata": {},
   "source": [
    "# New keyword: if #\n",
    "\n",
    "We've seen evaluation operators a few times now. If the statements on either side of the == sign are the same, the operator returns True. If they're not, it returns False. Easy peasy.\n",
    "\n",
    "If you use the *if* keyword, that comparison statement turns into a decision point in your program. If the statement returns True, do one thing. If the statement returns False, don't do the thing. If statements can be combined in many ways, and can include multiple options for different conditions. For the moment, we're just going to use them on their own. Yes or no, do or do not.\n",
    "\n",
    "```\n",
    "    for i in range(0,10):\n",
    "        if i % 2 == 0\n",
    "            print(str(i) + \" is even!\")\n",
    "\n",
    "    for char in \"ABCDEFGHIJKLMNOPQRSTUVWXYZ\":\n",
    "        if char in ['B','H','J','P']:\n",
    "            print(char + \" is a match!\")\n",
    "```\n",
    "\n",
    "\n",
    "In the cell below, recreate python's .count() method on a string variable named `dna`. The steps will be similar to how we re-created len(), but there'll be an added if statement involved. Your version of .count() only needs to work for single letters.\n"
   ]
  },
  {
   "cell_type": "code",
   "execution_count": 4,
   "metadata": {},
   "outputs": [
    {
     "data": {
      "text/plain": [
       "4"
      ]
     },
     "execution_count": 4,
     "metadata": {},
     "output_type": "execute_result"
    }
   ],
   "source": [
    "def myCount(string,char):\n",
    "    count = 0;\n",
    "    for s in string:\n",
    "        if char == s:\n",
    "            count+=1\n",
    "    return count\n",
    "dna = \"ATGTCAATCGATGCTG\"\n",
    "myCount(dna,\"A\")"
   ]
  },
  {
   "cell_type": "markdown",
   "metadata": {},
   "source": [
    "# Comparison operators #\n",
    "\n",
    "Back in the early days, we talked about the difference between the assignment operator = and the comparison operator, ==. = is for telling, == is for asking. If we ask and the answer is yes, the comparison operator (which is really shorthand for a function) returns *True*. True isn't just a string -- it's one of two special Boolean values, *True* and *False*. If x were larger than 5, the function would return *False*.\n",
    "\n",
    "There are a lot of comparison operators for different kinds of tests:\n",
    "\n",
    "- == equal\n",
    "- != not equal\n",
    "- ```>``` greater than\n",
    "- ```<``` less than\n",
    "- ```>=``` greater than or equal to\n",
    "- ```<=``` less than or equal to\n",
    "- in (value is present in a sequence)\n",
    "- not in (or it isn't)\n",
    "\n",
    "For each of these, write a statement below that will evaluate *True*."
   ]
  },
  {
   "cell_type": "code",
   "execution_count": 6,
   "metadata": {},
   "outputs": [
    {
     "name": "stdout",
     "output_type": "stream",
     "text": [
      "True\n",
      "True\n",
      "True\n",
      "True\n",
      "True\n",
      "True\n",
      "True\n",
      "True\n"
     ]
    }
   ],
   "source": [
    "print(1 == 1)\n",
    "print(1 != 2)\n",
    "print(2 > 1)\n",
    "print(1 < 2)\n",
    "print(1 >= 1)\n",
    "print(1 <= 2)\n",
    "print(\"s\" in \"hellos\")\n",
    "print(\"s\" not in \"hello\")"
   ]
  },
  {
   "cell_type": "code",
   "execution_count": 14,
   "metadata": {},
   "outputs": [
    {
     "data": {
      "text/plain": [
       "5"
      ]
     },
     "execution_count": 14,
     "metadata": {},
     "output_type": "execute_result"
    }
   ],
   "source": [
    "#Re-create .count() with an if\n",
    "myCount(dna,\"T\")"
   ]
  },
  {
   "cell_type": "markdown",
   "metadata": {},
   "source": [
    "# Evaluation methods #\n",
    "\n",
    "We have also seen built-in methods that return True or False:\n",
    "\n",
    ".isupper()\n",
    ".islower()\n",
    ".isalpha() is a string all alphabet characters\n",
    ".isnumeric() is a string all number characters\n",
    ".isspace() is a string all whitespace?\n",
    "\n",
    "For each of these, write a statement that will evaluate True."
   ]
  },
  {
   "cell_type": "code",
   "execution_count": 13,
   "metadata": {},
   "outputs": [
    {
     "name": "stdout",
     "output_type": "stream",
     "text": [
      "True\n",
      "True\n",
      "True\n",
      "True\n",
      "True\n"
     ]
    }
   ],
   "source": [
    "print(\"HELLO\".isupper())\n",
    "print(\"hello\".islower())\n",
    "print(\"abakhsdor\".isalpha())\n",
    "print(\"314159\".isnumeric()) #note: \"3.14159\".isnumeric() returns False\n",
    "print(\"   \".isspace())"
   ]
  },
  {
   "cell_type": "markdown",
   "metadata": {},
   "source": [
    "# True AND False is...? #\n",
    "\n",
    "When we want to build conditions that evaluate on more than one thing, we need to consider what it takes to make two conditions evaluate True (or False), depending on the values of the individual parts of the conditional.\n",
    "\n",
    "```a,b = 5,3\n",
    "a > 4 and b < 4```\n",
    "\n",
    "How does that evaluate?\n",
    "\n",
    "- True and True is True\n",
    "- True and False is False\n",
    "- False and True is False\n",
    "- False and False is False\n",
    "\n",
    "- True or True is True\n",
    "- True or False is True\n",
    "- False or True is True\n",
    "- False or False is False\n",
    "\n",
    "- and not True is False\n",
    "- and False is True\n",
    "\n",
    "In the cell below, write an example of each one of these that combines 2 (or more) conditions"
   ]
  },
  {
   "cell_type": "code",
   "execution_count": 18,
   "metadata": {},
   "outputs": [
    {
     "name": "stdout",
     "output_type": "stream",
     "text": [
      "True\n",
      "False\n",
      "False\n",
      "False\n",
      "True\n",
      "True\n",
      "True\n",
      "False\n",
      "False\n",
      "True\n"
     ]
    }
   ],
   "source": [
    "print(1 > 0 and 40 > 20)\n",
    "print(1 > 0 and 1 < 0)\n",
    "print(0 > 1 and 1==1)\n",
    "print(0 != 0 and 0==1)\n",
    "print(1==1 or 1==1)\n",
    "print(1==1 or 1==0)\n",
    "print(0==1 or 1==1)\n",
    "print(0!=0 or 1==0)\n",
    "print(not True)\n",
    "print(not False)"
   ]
  },
  {
   "cell_type": "markdown",
   "metadata": {},
   "source": [
    "# If...elif...else... #\n",
    "\n",
    "We have seen if all by itself. That's great if you have just one decision to make, and only one block of code that you want to execute that depends on the decision.\n",
    "\n",
    "```if x <= 5:\n",
    "    print(x)```\n",
    "    \n",
    "If you want to do a different thing, you use an \"else\".\n",
    "\n",
    "```if x > 5:\n",
    "    print(\"Emergency! x has exceeded normal limits! It's about to blow up!\")\n",
    "else:\n",
    "    print(x)```\n",
    "  \n",
    "If you want to do more than one different thing and you can define multiple conditions and code blocks that have to happen, then you add an elif: (ELSE IF). You can have as many elifs as you can define clearly.\n",
    "\n",
    "```if x > 10:\n",
    "    print(\"Emergency! x has exceeded normal limits! It's about to blow up!\")\n",
    "elif x > 5:\n",
    "    print(\"You'd better check on x, it's getting kind of high.\")\n",
    "else:\n",
    "    print(x)```\n",
    "    \n",
    "The order that you define conditions in matters. In an if/elif/else, the blocks are mutually exclusive. That means that if the first condition is triggered and the if block won't run, the rest of the code won't execute, even if the value meets the second condition as well.  In the cell below, rearrange the order of the first two conditions, so that the if block is the x > 5 condition and outcome, and the elif block is the x > 10 condition. What happens when you run that loop with a x = 11?"
   ]
  },
  {
   "cell_type": "code",
   "execution_count": 22,
   "metadata": {},
   "outputs": [
    {
     "name": "stdout",
     "output_type": "stream",
     "text": [
      "You'd better check on x, it's getting kind of high.\n"
     ]
    }
   ],
   "source": [
    "x=11\n",
    "if x > 5:\n",
    "    print(\"You'd better check on x, it's getting kind of high.\")\n",
    "elif x > 10:\n",
    "    print(\"Emergency! x has exceeded normal limits! It's about to blow up!\")\n",
    "else:\n",
    "    print(x)\n",
    "    \n",
    "    \n",
    "# x > 10 will never execute because x > 5 is always true when x > 10, so the x > 5 if block will be execute and move on"
   ]
  },
  {
   "cell_type": "markdown",
   "metadata": {},
   "source": [
    "# if...if...if... #\n",
    "\n",
    "Sometimes, if results are not mutually exclusive, it's easier to construct multiple if blocks in a row instead of trying to combine everything in a big mass of complex conditionals.\n",
    "\n",
    "if x % 2 == 0:\n",
    "    print(\"the number is even\"):\n",
    "else:\n",
    "    print(\"the number is odd\"):\n",
    "\n",
    "if x <= 10:\n",
    "    print(\"The system is stable\")\n",
    "else:\n",
    "    print(\"It does NOT go to 11\")\n",
    "    \n",
    "First of all if you had to check every combination of paths in these two else blocks, you'd need four if/elif/else statements. But if there were three if/else questions, there would be 8 possible complex conditions, if there were four you'd need to code out and check 16 combinations, etc.\n",
    "\n",
    "Second, if some of these if/else choices are not mutually exclusive from each other, you can't put them into if/elif/else without explicitly writing out all those permutations of conditions one at a time. Asking 3 independent questions might be easier. It depends on how much has to be done after the branch point."
   ]
  },
  {
   "cell_type": "code",
   "execution_count": 26,
   "metadata": {},
   "outputs": [
    {
     "name": "stdout",
     "output_type": "stream",
     "text": [
      "the number is odd\n",
      "It does NOT go to 11\n"
     ]
    }
   ],
   "source": [
    "if x % 2 == 0: \n",
    "    print(\"the number is even\")\n",
    "else: \n",
    "    print(\"the number is odd\")\n",
    "\n",
    "if x <= 10:\n",
    "    print(\"The system is stable\")\n",
    "else:\n",
    "    print(\"It does NOT go to 11\")"
   ]
  },
  {
   "cell_type": "markdown",
   "metadata": {},
   "source": [
    "# Amino acid classifier #\n",
    "\n",
    "(5 points) Write a script that collects the one-letter code of an amino acid from your user, and classifies it according to the Venn Diagram of amino acid types that was shown in the slides for today. Consider which choices are truly mutually exclusive, and which are overlapping so that more than one category needs to apply to a given amino acid.\n",
    "\n",
    "Your script should return a short report for the user giving all the relevant categories that their amino acid fits into."
   ]
  },
  {
   "cell_type": "code",
   "execution_count": 32,
   "metadata": {},
   "outputs": [
    {
     "name": "stdin",
     "output_type": "stream",
     "text": [
      "Enter a one-letter code of an amino acid:  h\n"
     ]
    },
    {
     "name": "stdout",
     "output_type": "stream",
     "text": [
      "H\n",
      "['aromatic', 'hydrophobic', 'polar', 'charged', 'positive']\n"
     ]
    }
   ],
   "source": [
    "def classifyAA(c):\n",
    "    c = c.strip()[:1].upper()\n",
    "    print(c)\n",
    "    report = []\n",
    "    aliphatic = \"ILV\"\n",
    "    aromatic = \"FYWH\"\n",
    "    hydrophobic = \"ILVMFYWHKTCGA\"\n",
    "    polar = \"YWHKREQDNST\"\n",
    "    charged = \"HKRED\"\n",
    "    positive = \"HKR\"\n",
    "    small = \"TDNAGCSPV\"\n",
    "    tiny = \"GAS\"\n",
    "    if c in aliphatic:\n",
    "        report.append(\"aliphatic\")\n",
    "    if c in aromatic:\n",
    "        report.append(\"aromatic\")\n",
    "    if c in hydrophobic:\n",
    "        report.append(\"hydrophobic\")\n",
    "    if c in polar:\n",
    "        report.append(\"polar\")\n",
    "    if c in charged:\n",
    "        report.append(\"charged\")\n",
    "    if c in positive:\n",
    "        report.append(\"positive\")\n",
    "    if c in small:\n",
    "        report.append(\"small\")\n",
    "    if c in tiny:\n",
    "        report.append(\"tiny\")\n",
    "    return report\n",
    "c = input(\"Enter a one-letter code of an amino acid: \")\n",
    "print(classifyAA(c))"
   ]
  },
  {
   "cell_type": "code",
   "execution_count": null,
   "metadata": {},
   "outputs": [],
   "source": []
  }
 ],
 "metadata": {
  "kernelspec": {
   "display_name": "Python 3",
   "language": "python",
   "name": "python3"
  },
  "language_info": {
   "codemirror_mode": {
    "name": "ipython",
    "version": 3
   },
   "file_extension": ".py",
   "mimetype": "text/x-python",
   "name": "python",
   "nbconvert_exporter": "python",
   "pygments_lexer": "ipython3",
   "version": "3.9.0"
  }
 },
 "nbformat": 4,
 "nbformat_minor": 4
}
