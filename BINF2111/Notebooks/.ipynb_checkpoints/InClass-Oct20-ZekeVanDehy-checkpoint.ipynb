{
 "cells": [
  {
   "cell_type": "code",
   "execution_count": 7,
   "metadata": {},
   "outputs": [],
   "source": [
    "# In Class Oct. 20\n",
    "# Zeke Van Dehy\n",
    "# Oct 20"
   ]
  },
  {
   "cell_type": "markdown",
   "metadata": {},
   "source": [
    "# Opening files for reading #\n",
    "\n",
    "Today's assignment comes with a zip file containing a few small files that you will be able to work with in Jupyter. Put the zip in your Notebooks directory and 'unzip Oct1files.zip'. \n",
    "\n",
    "You will have three files:\n",
    "\n",
    "- justafile.txt: contains some random text\n",
    "- dnaseqs.txt: contains several DNA sequences of varying length and GC content, with string “TACG” at random locations in forward and reverse, with no headers\n",
    "- mock.faa: contains several protein sequences in real FASTA sequence format with header lines for each sequence\n",
    "\n",
    "You also have a couple of other files from previous exercises -- NC_007898.txt and sequences.fastq. Keep those around -- we might use them!\n",
    "\n",
    "To open a file for reading, we use the reserved keyword open(). Open does not just open and read the file out though. We need to assign what open returns to a file object.\n",
    "\n",
    "```fileobject = open(\"filename.txt\")```\n",
    "\n",
    "Open the file justafile.txt and assign it to the file object justanobject. Now try to print justanobject. What happens?"
   ]
  },
  {
   "cell_type": "code",
   "execution_count": 1,
   "metadata": {},
   "outputs": [
    {
     "name": "stdout",
     "output_type": "stream",
     "text": [
      "<_io.TextIOWrapper name='InClass-Files-Oct20/justafile.txt' mode='r' encoding='UTF-8'>\n"
     ]
    }
   ],
   "source": [
    "justanobject = open(\"InClass-Files-Oct20/justafile.txt\")\n",
    "print(justanobject)"
   ]
  },
  {
   "cell_type": "markdown",
   "metadata": {},
   "source": [
    "# The .read() file method #\n",
    "\n",
    "WHAT JUST HAPPENED? We made a file object, but the contents of a file object are NOT the contents of the file. Instead, the file contains a pointer to the file on your system. It refers to the file the same way a list object name refers to a complete list. If you actually want to get into a list and use it, you need to use keywords (like \"for\") or methods (like .append()) to work with the list content.\n",
    "\n",
    "You need to use FILE METHODS and keywords (open and with) to work with the file object content. The first method  we'll learn is .read()\n",
    "\n",
    "```filecontents = file.read()```\n",
    "\n",
    "Work with the justafile.txt and justanobject, same names as you used in the cell above. Use .read() on the *file object* to read the contents of the file. You can assign them to a variable and print the variable. Or you can use them directly, e.g. in a print statement.\n",
    "\n",
    "In the cell below, print the contents of justafile.txt."
   ]
  },
  {
   "cell_type": "code",
   "execution_count": 2,
   "metadata": {},
   "outputs": [
    {
     "name": "stdout",
     "output_type": "stream",
     "text": [
      "Hi, I am just a file\n",
      "With my contents in no particular format\n",
      "And now you have opened and read it.\n",
      "\n",
      "\n"
     ]
    }
   ],
   "source": [
    "justaread = justanobject.read()\n",
    "print(justaread)"
   ]
  },
  {
   "cell_type": "markdown",
   "metadata": {},
   "source": [
    "# Common errors #\n",
    "\n",
    "We just saw what happens when you try to print or use a file object when you actually mean to use its contents. You print the pointer, not the file itself. What happens when you apply a file method, like read, directly to the filename?\n",
    "\n",
    "```\"filename.txt\".read()```\n",
    "\n",
    "Try this with justafile.txt. Learn to recognize these common errors."
   ]
  },
  {
   "cell_type": "code",
   "execution_count": 3,
   "metadata": {},
   "outputs": [
    {
     "ename": "AttributeError",
     "evalue": "'str' object has no attribute 'read'",
     "output_type": "error",
     "traceback": [
      "\u001b[0;31m---------------------------------------------------------------------------\u001b[0m",
      "\u001b[0;31mAttributeError\u001b[0m                            Traceback (most recent call last)",
      "\u001b[0;32m<ipython-input-3-d399c8cb1b18>\u001b[0m in \u001b[0;36m<module>\u001b[0;34m\u001b[0m\n\u001b[0;32m----> 1\u001b[0;31m \u001b[0;34m\"justafile.txt\"\u001b[0m\u001b[0;34m.\u001b[0m\u001b[0mread\u001b[0m\u001b[0;34m(\u001b[0m\u001b[0;34m)\u001b[0m\u001b[0;34m\u001b[0m\u001b[0;34m\u001b[0m\u001b[0m\n\u001b[0m",
      "\u001b[0;31mAttributeError\u001b[0m: 'str' object has no attribute 'read'"
     ]
    }
   ],
   "source": [
    "\"justafile.txt\".read()"
   ]
  },
  {
   "cell_type": "markdown",
   "metadata": {},
   "source": [
    "If you try to access a file name without opening it and assigning it to a file object, the interpreter just reads it as a string -- or as a variable that's not defined, depending on which way you mess it up."
   ]
  },
  {
   "cell_type": "markdown",
   "metadata": {},
   "source": [
    "# The open function #\n",
    "\n",
    "You're just always going to have to use open() if you want to get at the contents of a file. Open usually takes two arguments -- the filename itself and a string that encodes the opening mode.  Mode can be either \"r\", \"w\", or \"a\" -- read, write or append. By default files are opened in \"r\" mode so you don't even need it if you're just reading. \n",
    "\n",
    "Writing mode can also be binary if you add a b -- but we are not going to do that in this course. There's also a third argument you can use, to open a file with buffering or without, but again, that's more advanced than we're going to get right now.\n",
    "\n",
    "- \"r\" mode puts the pointer at the beginning of the file and starts reading there\n",
    "- \"w\" mode puts the pointer at the beginning of the file and starts writing there, overwriting any content\n",
    "- \"a\" mode puts the pointer at the end of the file and starts adding on from there\n",
    "\n",
    "In the cell below, open the file mockfaa.txt as file object fasta, in \"r\" mode."
   ]
  },
  {
   "cell_type": "code",
   "execution_count": 4,
   "metadata": {},
   "outputs": [
    {
     "name": "stdout",
     "output_type": "stream",
     "text": [
      "<_io.TextIOWrapper name='InClass-Files-Oct20/mockfaa.txt' mode='r' encoding='UTF-8'>\n"
     ]
    }
   ],
   "source": [
    "mockFile = open(\"InClass-Files-Oct20/mockfaa.txt\", \"r\")\n",
    "print(mockFile)"
   ]
  },
  {
   "cell_type": "markdown",
   "metadata": {},
   "source": [
    "# What gets opened must get closed #\n",
    "\n",
    "The .close() method closes a file once you're done. Typically if you are done with the contents of the file you can use fileobject.close() to close it.\n",
    "\n",
    "Close the fasta file object that you opened in the previous cell."
   ]
  },
  {
   "cell_type": "code",
   "execution_count": 5,
   "metadata": {},
   "outputs": [],
   "source": [
    "mockFile.close()"
   ]
  },
  {
   "cell_type": "markdown",
   "metadata": {},
   "source": [
    "# Opening a file for writing #\n",
    "\n",
    "We can open a file for writing and write something to it. Assign a file called outfile.txt to a file object, using the second argument \"w\" (yes, in quotes) like so:\n",
    "\n",
    "```fileobject = open(\"filename.txt\",\"w\")```\n",
    "\n",
    "Then use fileobject.write() to write something to the file. I suggest that you put some text in quotes inside those parentheses, and make sure that your text ends with an escaped newline, \\n. This makes sure that you have whitespace that you need in your file so you can write another line later without it all becoming one big line.\n",
    "\n",
    "```fileobject.write(\"Hi I am a string in a file \\n\")```\n",
    "\n",
    "Then close the file with fileobject.close()\n",
    "\n",
    "Do this below. The file will automatically be created the first time you write to it. Then go out to your Unix shell window and cd into your Notebooks directory (or wherever you are putting this notebook). See whether the file is there, and use the Unix command \"cat\" to see what its contents are. "
   ]
  },
  {
   "cell_type": "code",
   "execution_count": 9,
   "metadata": {},
   "outputs": [
    {
     "name": "stdout",
     "output_type": "stream",
     "text": [
      "Hi I am a string in a file \n",
      "\n"
     ]
    }
   ],
   "source": [
    "newFile = open(\"InClass-Files-Oct20/newFile.txt\",\"w\")\n",
    "newFile.write(\"Hi I am a string in a file \\n\")\n",
    "newFile.close()\n",
    "newFile = open(\"InClass-Files-Oct20/newFile.txt\",\"r\")\n",
    "print(newFile.read())\n",
    "newFile.close()"
   ]
  },
  {
   "cell_type": "markdown",
   "metadata": {},
   "source": [
    "# Opening a file for appending #\n",
    "\n",
    "Now use the same filename (outfile.txt) and open it for appending instead of writing.\n",
    "\n",
    "fileobject = open(\"filename.txt\",\"a\")\n",
    "\n",
    "Use another fileobject.write command to add a second line of text to the file. Go out and look at your file and make sure it worked!"
   ]
  },
  {
   "cell_type": "code",
   "execution_count": 10,
   "metadata": {},
   "outputs": [
    {
     "name": "stdout",
     "output_type": "stream",
     "text": [
      "Hi I am a string in a file \n",
      "This is a second line of text \n",
      "\n"
     ]
    }
   ],
   "source": [
    "newFile = open(\"InClass-Files-Oct20/newFile.txt\",\"a\")\n",
    "newFile.write(\"This is a second line of text \\n\")\n",
    "newFile.close()\n",
    "newFile = open(\"InClass-Files-Oct20/newFile.txt\",\"r\")\n",
    "print(newFile.read())\n",
    "newFile.close()"
   ]
  },
  {
   "cell_type": "markdown",
   "metadata": {},
   "source": [
    "# Creating a with block #\n",
    "\n",
    "The exception to the \"you have to close it\" rule is if you open the file inside a with statement, initiating a with block. with is a reserved keyword like def or for that initiates a particular type of block.\n",
    "\n",
    "with statements in python ensure that clean-up code is executed. There are other contexts for with in python that you may need as you get more advanced, but the one place we're commonly going to use with is to open files -- because it ensures that the file is closed without explicitly using a .close() statement. In general, with blocks run their contents in a way that allows your code to continue even if an exception is raised inside the block. But you don't usually need them in simple code, other than for opening files. \n",
    "\n",
    "```with open(\"filename.txt\",\"r\") as fileobject:\n",
    "    filecontents = fileobject.read()\n",
    "    print(filecontents)\n",
    "\n",
    "In the cell below, open justafile.txt in a with block, get the file contents into a variable, and print them out."
   ]
  },
  {
   "cell_type": "code",
   "execution_count": 11,
   "metadata": {},
   "outputs": [
    {
     "name": "stdout",
     "output_type": "stream",
     "text": [
      "Hi, I am just a file\n",
      "With my contents in no particular format\n",
      "And now you have opened and read it.\n",
      "\n",
      "\n"
     ]
    }
   ],
   "source": [
    "with open(\"InClass-Files-Oct20/justafile.txt\",\"r\") as justanobject:\n",
    "    filecontents = justanobject.read()\n",
    "    print(filecontents)"
   ]
  },
  {
   "cell_type": "markdown",
   "metadata": {},
   "source": [
    "# The .readlines() method #\n",
    "\n",
    "What if instead of getting the file as a big chunk of text, we want to get it one line at a time? We use .readlines() instead of .read(). There's also a .readline() method that gets just the first line, but honestly I just learned that one existed when I was working on these notes because have NEVER had call to use it.\n",
    "\n",
    "Try .readlines() with the mockfaa.txt fasta file. First create a file object that points to mockfaa.txt, and then apply .readlines() to that file object. "
   ]
  },
  {
   "cell_type": "code",
   "execution_count": 12,
   "metadata": {},
   "outputs": [],
   "source": [
    "with open(\"InClass-Files-Oct20/mockfaa.txt\") as mockfaaFile:\n",
    "    mockfaaFile.readlines()"
   ]
  },
  {
   "cell_type": "markdown",
   "metadata": {},
   "source": [
    "# Filtering .readlines() output #\n",
    "\n",
    "The thing about .readlines() is that it makes the file contents into an iterable object. If you set a variable = somefileo.readlines(), it will end up containing each line in the file as an item in a list.\n",
    "\n",
    "A list is an iterable object, though. So a very typical way to use .readlines() is in a code block like so:\n",
    "\n",
    "```with open(\"filename.txt\",\"r\") as fileobject:\n",
    "    for line in fileobject.readlines():\n",
    "        print(line)```\n",
    "        \n",
    "Using .readlines(), open up the dnaseqs.txt file. Loop through the lines in .readlines() and print out just the first 10 characters in the line."
   ]
  },
  {
   "cell_type": "code",
   "execution_count": 15,
   "metadata": {},
   "outputs": [
    {
     "name": "stdout",
     "output_type": "stream",
     "text": [
      "CTATGTATAC\n",
      "ACCCCTTATT\n",
      "TACGCGGTTG\n",
      "GTCAAAATTT\n",
      "TCATACGAGG\n",
      "TTCCGTACGT\n",
      "TTCCGTACGT\n",
      "TGTTTCCGAG\n",
      "TTCCGTTAAG\n",
      "TTCCGTTACG\n",
      "TGTTTCCGAG\n",
      "TTCCGTTAAG\n"
     ]
    }
   ],
   "source": [
    "with open(\"InClass-Files-Oct20/dnaseqs.txt\") as dnaseqsFile:\n",
    "    for line in dnaseqsFile.readlines():\n",
    "        print(line[0:10])"
   ]
  },
  {
   "cell_type": "markdown",
   "metadata": {},
   "source": [
    "# Filtering .readlines() output #\n",
    "\n",
    "(5 points) Using .readlines() again, open up the dnaseqs.txt file. That file contains the pattern \"TACG\" somewhere on each line, in either the forward or the reverse of the sequence. Use a loop, conditional blocks, and the find method to find where TACG is either in the forward or the reverse, and print out the position of the first instance. You don't have to build this as a function -- just do it straight through."
   ]
  },
  {
   "cell_type": "code",
   "execution_count": 16,
   "metadata": {},
   "outputs": [
    {
     "ename": "ValueError",
     "evalue": "'TACG' is not in list",
     "output_type": "error",
     "traceback": [
      "\u001b[0;31m---------------------------------------------------------------------------\u001b[0m",
      "\u001b[0;31mValueError\u001b[0m                                Traceback (most recent call last)",
      "\u001b[0;32m<ipython-input-16-f259757ad461>\u001b[0m in \u001b[0;36m<module>\u001b[0;34m\u001b[0m\n\u001b[1;32m      1\u001b[0m \u001b[0;32mwith\u001b[0m \u001b[0mopen\u001b[0m\u001b[0;34m(\u001b[0m\u001b[0;34m\"InClass-Files-Oct20/dnaseqs.txt\"\u001b[0m\u001b[0;34m)\u001b[0m \u001b[0;32mas\u001b[0m \u001b[0mdnaseqsFile\u001b[0m\u001b[0;34m:\u001b[0m\u001b[0;34m\u001b[0m\u001b[0;34m\u001b[0m\u001b[0m\n\u001b[1;32m      2\u001b[0m     \u001b[0;32mfor\u001b[0m \u001b[0mline\u001b[0m \u001b[0;32min\u001b[0m \u001b[0mdnaseqsFile\u001b[0m\u001b[0;34m.\u001b[0m\u001b[0mreadlines\u001b[0m\u001b[0;34m(\u001b[0m\u001b[0;34m)\u001b[0m\u001b[0;34m:\u001b[0m\u001b[0;34m\u001b[0m\u001b[0;34m\u001b[0m\u001b[0m\n\u001b[0;32m----> 3\u001b[0;31m         \u001b[0mindex\u001b[0m \u001b[0;34m=\u001b[0m \u001b[0mlist\u001b[0m\u001b[0;34m(\u001b[0m\u001b[0mline\u001b[0m\u001b[0;34m)\u001b[0m\u001b[0;34m.\u001b[0m\u001b[0mindex\u001b[0m\u001b[0;34m(\u001b[0m\u001b[0;34m\"TACG\"\u001b[0m\u001b[0;34m)\u001b[0m\u001b[0;34m\u001b[0m\u001b[0;34m\u001b[0m\u001b[0m\n\u001b[0m\u001b[1;32m      4\u001b[0m         \u001b[0;32mif\u001b[0m \u001b[0mindex\u001b[0m \u001b[0;34m!=\u001b[0m \u001b[0;34m-\u001b[0m\u001b[0;36m1\u001b[0m\u001b[0;34m:\u001b[0m\u001b[0;34m\u001b[0m\u001b[0;34m\u001b[0m\u001b[0m\n\u001b[1;32m      5\u001b[0m             \u001b[0mprint\u001b[0m\u001b[0;34m(\u001b[0m\u001b[0;34m\"FORWARD \"\u001b[0m\u001b[0;34m,\u001b[0m \u001b[0mindex\u001b[0m\u001b[0;34m)\u001b[0m\u001b[0;34m\u001b[0m\u001b[0;34m\u001b[0m\u001b[0m\n",
      "\u001b[0;31mValueError\u001b[0m: 'TACG' is not in list"
     ]
    }
   ],
   "source": [
    "with open(\"InClass-Files-Oct20/dnaseqs.txt\") as dnaseqsFile:\n",
    "    for line in dnaseqsFile.readlines():\n",
    "        index = line.index(\"TACG\")\n",
    "        if index != -1:\n",
    "            print(\"FORWARD \", index)\n",
    "        else:\n",
    "            print(\"REVERSE \", list(line[::-1].index(\"TACG\")))"
   ]
  },
  {
   "cell_type": "markdown",
   "metadata": {},
   "source": [
    "# The .writelines() method #\n",
    "\n",
    "Python also has a .writelines() method, which will potentially be useful if you want to write many things to a file. Writelines has to receive an iterable. It could be a list that you already have. It could be a generator call. For now let's use it with a simple list.\n",
    "\n",
    "```table2 = [\"Amit\\n\", \"Shruti\\n\", \"Maya\\n\"]\n",
    "with open(\"table2.txt\",\"w\") as fo:\n",
    "    fo.writelines(table2)```\n",
    "    \n",
    "writes a file that contains\n",
    "\n",
    "```Amit\n",
    "Shruti\n",
    "Maya```\n",
    "    \n",
    "In the cell below, do the following. Create a list from the alphabet string, and write the list to the file with writelines. Go out of jupyter and into your Unix directory, and see what ended up in the file.\n",
    "\n",
    "Now think about how you can use a for loop to modify the items in your list so that they print out on separate lines. See if you can make it work!"
   ]
  },
  {
   "cell_type": "code",
   "execution_count": null,
   "metadata": {},
   "outputs": [],
   "source": []
  },
  {
   "cell_type": "markdown",
   "metadata": {},
   "source": [
    "# Screening lines for a pattern that tells what type they are #\n",
    "\n",
    "The format of a FASTA file is different than a fastq. FASTA entries come in pairs. First a description line, which begins with '>'. Then a line or a series of lines that contain the sequence. There can be multiple individual lines in between description lines, but all those lines are part of the one sequence that matches the description.\n",
    "\n",
    "Let's do the easy part of this first.\n",
    "\n",
    "In the cell below, open mockfaa.txt in a with block, iterate through its lines, and print the line only if the first character of the line is '>'."
   ]
  },
  {
   "cell_type": "code",
   "execution_count": null,
   "metadata": {},
   "outputs": [],
   "source": []
  },
  {
   "cell_type": "markdown",
   "metadata": {},
   "source": [
    "# Triggering an event when parsing a file #\n",
    "\n",
    "Last time we saw some example code for reading a FASTQ file, where the lines come in a simple four-line pattern:\n",
    "\n",
    "```def read_fastq(fastq):\n",
    "\t\"\"\"reads a fastq file into three variables, streams\"\"\"\n",
    "\tname,seq,qual = [None],[None],[None] # initialize variables\n",
    "\tfor i,line in enumerate(fastq): #gets the lines plus a counter\n",
    "\t\tline = line.strip() #cleans up the whitespace\n",
    "\t\tif i % 4 == 0: #decides what to do based on the index -- is it line 0,1,2 or 3 in the pattern\n",
    "\t\t\tname = line # if it's an 0, it's a header\n",
    "\t\telif i % 4 == 1: # if it's a 1, it's a sequence\n",
    "\t\t\tseq = line\n",
    "\t\telif i % 4 == 3: # if it's a 3, it's a quality string\n",
    "\t\t\tqual = line \n",
    "\t\t\tyield name,seq,qual # done with line 3, yield all values and go back and get the next line\n",
    "\t\t\tname,seq,qual = [None],[None],[None] #set values to None after yield just to be sure\n",
    "\t\telse:\n",
    "\t\t\tpass #this happens if it's line 2```\n",
    "            \n",
    "This was the code we used to create infile and pass it to the fastq parser:\n",
    "\n",
    "```with open(\"sequences.fastq\") as infile: #this call turns the open file into an object\n",
    "    for n,s,q in read_fastq(infile): #this is how we call read_fastq on the object and get the values back```\n",
    "    \n",
    "The trigger in this code is that when we get to the fourth line in the pattern (i % 4 == 3) then we are done with the pattern, and we have to yield the values from that set of four lines. Then we clear the values out by setting them to None, and start on to the next set of four lines. The counter goes up four times, and then the yield is triggered again. \n",
    "\n",
    "Note: Files do not have to be parsed with generators. You can parse them with the kind of functions that you have already used, that give up their values all at once with \"return\". The yield here could easily be replaced by a statement appending each variable to a group of parallel lists, or anything else you wanted to do with the values to package them up to be returned all at once."
   ]
  },
  {
   "cell_type": "markdown",
   "metadata": {},
   "source": [
    "# Triggering an event #\n",
    "\n",
    "(10 points) Let's think about how to solve the actual problem of the FASTA file, which is to get the sequence out in description/sequence pairs. We need a trigger that can tell us when to gather up all the files in a description/sequence pair, save them, clear everything and move on to the next iteration.\n",
    "\n",
    "Because each sequence is divided up into multiple lines, that all need to be joined together before they match up with a description line, we can't just go based on the count of lines like the FASTQ example I showed above.\n",
    "\n",
    "So what could we do? Let's discuss this in class first, and then put your solution below. Get your values into either two lists, names and seqs, or if you want to be fancy, into a single list of tuples (name,seq), and return the list(s) from your function.\n",
    "\n",
    "*Getting this parser to work and putting it in the form of a function is IMPORTANT. We will use this function again in future weeks, we'll turn it into a generator, and you may even find a way to use it in other classes in the future. So don't let this one get past you. Come see us if you need a walkthrough. Do it until you can do it.*"
   ]
  },
  {
   "cell_type": "code",
   "execution_count": null,
   "metadata": {},
   "outputs": [],
   "source": []
  }
 ],
 "metadata": {
  "kernelspec": {
   "display_name": "Python 3",
   "language": "python",
   "name": "python3"
  },
  "language_info": {
   "codemirror_mode": {
    "name": "ipython",
    "version": 3
   },
   "file_extension": ".py",
   "mimetype": "text/x-python",
   "name": "python",
   "nbconvert_exporter": "python",
   "pygments_lexer": "ipython3",
   "version": "3.9.0"
  }
 },
 "nbformat": 4,
 "nbformat_minor": 4
}
