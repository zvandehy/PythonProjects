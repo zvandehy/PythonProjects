{
 "cells": [
  {
   "cell_type": "code",
   "execution_count": null,
   "metadata": {
    "slideshow": {
     "slide_type": "-"
    }
   },
   "outputs": [],
   "source": [
    "#Using Jupyter Submission\n",
    "#Sep 10, 2020\n",
    "#Zeke Van Dehy"
   ]
  },
  {
   "cell_type": "markdown",
   "metadata": {
    "slideshow": {
     "slide_type": "slide"
    }
   },
   "source": [
    "# Welcome to BINF 2111 # \n",
    "\n",
    "We're going to learn the Python programming language, and while we're at it, we're also going to learn about common Bioinformatics problems and data types and how to work with them in Python. Once you get out of this course you'll have the basics and be ready to learn more about algorithms, data science, and other computing concepts using Python as your language.\n",
    "\n",
    "The first things we're going to learn are:\n",
    "- How to use Jupyter worksheets\n",
    "- How to write a statement that prints to the screen\n",
    "- How to assign values to variables\n",
    "- How to print the values of variables\n",
    "- Types of errors you might see in these statements"
   ]
  },
  {
   "cell_type": "markdown",
   "metadata": {},
   "source": [
    "# Jupyter Notebook worksheets #\n",
    "\n",
    "We will be using Jupyter notebooks for the prep work exercises and some of the programming exercises throughout the course.\n",
    "\n",
    "Jupyter worksheets have two main kinds of cells. Markdown cells are like this one, where you'll see the text and explanation. Code cells are like the one just below. \n",
    "\n",
    "You're expected to read the markdown cell, and then insert your code into the code cell and run it. \n",
    "\n",
    "Click on the cell below this one to select it. There should be a green bar at the left side of the cell\n",
    "that is selected. See what happens if you type print(\"Bioinformatics 2111\") in the code cell below, and then click Run in the menu, above. Below the code cell, you should see the output of your code. \n",
    "\n",
    "Then modify the code cell so that it will print \"Hello World\", and click Run again. The output should change. You can keep changing your code and getting new output until you get it right."
   ]
  },
  {
   "cell_type": "code",
   "execution_count": 2,
   "metadata": {
    "slideshow": {
     "slide_type": "slide"
    }
   },
   "outputs": [
    {
     "name": "stdout",
     "output_type": "stream",
     "text": [
      "Hello World\n"
     ]
    }
   ],
   "source": [
    "print(\"Hello World\")"
   ]
  },
  {
   "cell_type": "markdown",
   "metadata": {
    "slideshow": {
     "slide_type": "slide"
    }
   },
   "source": [
    "Now save this page by selecting \"Save and Checkpoint\" in the File menu. Be sure to do this every time you finish a question, it will make your life much easier.\n",
    "\n",
    "In general, you should rename all your Jupyter worksheet submissions \"Lesson_Name.Yourname\" and edit the very first cell at the top, to make it easier to grade.\n",
    "\n",
    "In the very first cell, you can see that there is a # character at the beginning of the line. In the next cell, type print(\"Hello World\") again, and run it to make sure it runs. Then add a # character at the beginning of the line, run it again, and see what happens."
   ]
  },
  {
   "cell_type": "code",
   "execution_count": 2,
   "metadata": {
    "slideshow": {
     "slide_type": "slide"
    }
   },
   "outputs": [],
   "source": [
    "#print(\"Hello World\")"
   ]
  },
  {
   "cell_type": "markdown",
   "metadata": {
    "slideshow": {
     "slide_type": "slide"
    }
   },
   "source": [
    "The correct answer is nothing -- there should be no output. The # turns a line in your script into a comment that the python interpreter will not read.\n",
    "\n",
    "# Strings and quotes\n",
    "\n",
    "Now let's learn some basic concepts. In the example above, the phrase Hello World is a string. That is, it is a sequence of text characters. We denote that it is a string (rather than the name of a variable or something else) by enclosing it in matched quotes, as \"Hello World\". These can be either double or single quotes, but they have to be consistent.\n",
    "\n",
    "Try out the following statements. Put one in each of the four boxes, and then click the run button:\n",
    "- print(Hello World)\n",
    "- print(Hello_World)\n",
    "- print(\"Hello World')\n",
    "- print(\"Hello World\""
   ]
  },
  {
   "cell_type": "code",
   "execution_count": 3,
   "metadata": {
    "slideshow": {
     "slide_type": "slide"
    }
   },
   "outputs": [
    {
     "ename": "SyntaxError",
     "evalue": "invalid syntax (<ipython-input-3-10cb182148e3>, line 1)",
     "output_type": "error",
     "traceback": [
      "\u001b[0;36m  File \u001b[0;32m\"<ipython-input-3-10cb182148e3>\"\u001b[0;36m, line \u001b[0;32m1\u001b[0m\n\u001b[0;31m    print(Hello World)\u001b[0m\n\u001b[0m                    ^\u001b[0m\n\u001b[0;31mSyntaxError\u001b[0m\u001b[0;31m:\u001b[0m invalid syntax\n"
     ]
    }
   ],
   "source": [
    "print(Hello World)"
   ]
  },
  {
   "cell_type": "code",
   "execution_count": 4,
   "metadata": {
    "scrolled": true,
    "slideshow": {
     "slide_type": "slide"
    }
   },
   "outputs": [
    {
     "ename": "NameError",
     "evalue": "name 'Hello_World' is not defined",
     "output_type": "error",
     "traceback": [
      "\u001b[0;31m---------------------------------------------------------------------------\u001b[0m",
      "\u001b[0;31mNameError\u001b[0m                                 Traceback (most recent call last)",
      "\u001b[0;32m<ipython-input-4-99b68147179c>\u001b[0m in \u001b[0;36m<module>\u001b[0;34m\u001b[0m\n\u001b[0;32m----> 1\u001b[0;31m \u001b[0mprint\u001b[0m\u001b[0;34m(\u001b[0m\u001b[0mHello_World\u001b[0m\u001b[0;34m)\u001b[0m\u001b[0;34m\u001b[0m\u001b[0;34m\u001b[0m\u001b[0m\n\u001b[0m",
      "\u001b[0;31mNameError\u001b[0m: name 'Hello_World' is not defined"
     ]
    }
   ],
   "source": [
    "print(Hello_World)"
   ]
  },
  {
   "cell_type": "code",
   "execution_count": 5,
   "metadata": {
    "slideshow": {
     "slide_type": "slide"
    }
   },
   "outputs": [
    {
     "name": "stdout",
     "output_type": "stream",
     "text": [
      "Hello World\n"
     ]
    }
   ],
   "source": [
    "print(\"Hello World\")"
   ]
  },
  {
   "cell_type": "code",
   "execution_count": 6,
   "metadata": {
    "slideshow": {
     "slide_type": "slide"
    }
   },
   "outputs": [
    {
     "ename": "SyntaxError",
     "evalue": "unexpected EOF while parsing (<ipython-input-6-f5966400ee35>, line 1)",
     "output_type": "error",
     "traceback": [
      "\u001b[0;36m  File \u001b[0;32m\"<ipython-input-6-f5966400ee35>\"\u001b[0;36m, line \u001b[0;32m1\u001b[0m\n\u001b[0;31m    print(\"Hello World\"\u001b[0m\n\u001b[0m                       ^\u001b[0m\n\u001b[0;31mSyntaxError\u001b[0m\u001b[0;31m:\u001b[0m unexpected EOF while parsing\n"
     ]
    }
   ],
   "source": [
    "print(\"Hello World\""
   ]
  },
  {
   "cell_type": "markdown",
   "metadata": {
    "slideshow": {
     "slide_type": "slide"
    }
   },
   "source": [
    "# Recognizing common errors due to quote usage #\n",
    "\n",
    "The errors that you see are different in each case, but they at least attempt to be informative. \n",
    "\n",
    "In the first example, you didn't include the quotes, and the string inside the parentheses has a space, so it can't be interpreted as a variable name. So you just get a syntax error, and the little pointer points to the site of the problem.\n",
    "\n",
    "In the second example, the string inside the parentheses does not have a space and is not in quotes, so it is interpreted as a variable name that you did not assign a value to. So the error is that Hello_World is not defined.\n",
    "\n",
    "In the third example, you used a different kind of quote mark to end the string as to begin it, so the interpreter treats it the second quote as part of the string, and then it runs out of line to read so it says unexpected EOL.\n",
    "\n",
    "In the final example, you didn't close the parentheses, and the interpreter things the file has ended prematurely, so it calls an unexpected end of file."
   ]
  },
  {
   "cell_type": "markdown",
   "metadata": {},
   "source": [
    "# Assigning values to variables #\n",
    "\n",
    "Above we talked about strings and variable names. A variable name is a sequence of alphanumeric characters, but it's a container that can hold a value; the string itself is the value that the container holds. A variable's value can change and be updated. \n",
    "\n",
    "The reason that we use variables to hold string data is that then, the code you have written can always be applied to whatever the variable's current value is, rather than to a \"hard-coded\" value that can only be changed by re-writing the program. The reasons for this will start to make more sense when we write code that can \"loop\" through multiple values, updating the contents of the variable each time.\n",
    "\n",
    "For now, though, let's practice some assignment statements. Write some code that assigns the string value \"ATGCATGC\" to the variable my_dna, the value \"CTAGCTAG\" to the variable your_dna, and the value \"GATCGATC\" to the variable her_dna. Each assignment statement must be on a separate line."
   ]
  },
  {
   "cell_type": "code",
   "execution_count": 11,
   "metadata": {},
   "outputs": [],
   "source": [
    "my_dna = \"ATGCATGC\"\n",
    "your_dna = \"CTAGCTAG\"\n",
    "her_dna = \"GATCGATC\""
   ]
  },
  {
   "cell_type": "markdown",
   "metadata": {},
   "source": [
    "# Printing the values of variables #\n",
    "\n",
    "Now let's check whether those values got assigned correctly. Use a print statement to print my_dna. Look back up the page to the Hello World examples above to figure out how. Do you need quotes around my_dna? Test different versions of your statement by running the cell and changing it until it prints."
   ]
  },
  {
   "cell_type": "code",
   "execution_count": 12,
   "metadata": {},
   "outputs": [
    {
     "name": "stdout",
     "output_type": "stream",
     "text": [
      "ATGCATGC\n"
     ]
    }
   ],
   "source": [
    "print(my_dna)"
   ]
  },
  {
   "cell_type": "markdown",
   "metadata": {},
   "source": [
    "# Changing the values of variables #\n",
    "\n",
    "Now change the value of my_dna to \"TACGTACG\". Do this by adding another assignment statement in the next code cell. A Jupyter notebook is really one big script, so as long as you have run each of the cells where you have previously placed answers, the next cells will remember that information."
   ]
  },
  {
   "cell_type": "code",
   "execution_count": 13,
   "metadata": {},
   "outputs": [],
   "source": [
    "my_dna = \"TACGTACG\""
   ]
  },
  {
   "cell_type": "markdown",
   "metadata": {},
   "source": [
    "Test to see that what I've said about Jupyter above is true by printing my_dna, your_dna and her_dna in the next code cell. Did the worksheet remember your earlier answers? If not, run the other cells again, or run the whole worksheet by selecting \"Run All Above\" in the Cell menu."
   ]
  },
  {
   "cell_type": "code",
   "execution_count": 14,
   "metadata": {},
   "outputs": [
    {
     "name": "stdout",
     "output_type": "stream",
     "text": [
      "TACGTACG\n"
     ]
    }
   ],
   "source": [
    "print(my_dna)"
   ]
  },
  {
   "cell_type": "markdown",
   "metadata": {},
   "source": [
    "# Concatenating strings #\n",
    "\n",
    "Python has what are called operators. They're built in symbols that python already understands. One of the most commonly used ones is the + sign, which can be used either to add numbers or to add sequences of things (strings, lists, etc) together. \n",
    "\n",
    "If we want to add two strings together, we can simply type string1 + string2. As long as string1 and string2 are defined, that is, they have content that is a string, the operator will concatenate them together.\n",
    "\n",
    "In the code cell below, concatenate together the three variables you have already defined: my_dna, your_dna, and her_dna. The answer should be TACGTACGCTAGCTAGGATCGATC -- if you have correctly defined the variables and run the cells above this one."
   ]
  },
  {
   "cell_type": "code",
   "execution_count": 15,
   "metadata": {},
   "outputs": [
    {
     "name": "stdout",
     "output_type": "stream",
     "text": [
      "TACGTACGCTAGCTAGGATCGATC\n"
     ]
    }
   ],
   "source": [
    "print(my_dna+your_dna+her_dna)"
   ]
  },
  {
   "cell_type": "markdown",
   "metadata": {},
   "source": [
    "# Variable type errors #\n",
    "\n",
    "What happens when you try to concatenate something that isn't a string with a string? In the code cell below, two variables are defined for you. Add another line to the code and try to concatenate them together."
   ]
  },
  {
   "cell_type": "code",
   "execution_count": 17,
   "metadata": {},
   "outputs": [
    {
     "ename": "TypeError",
     "evalue": "can only concatenate str (not \"int\") to str",
     "output_type": "error",
     "traceback": [
      "\u001b[0;31m---------------------------------------------------------------------------\u001b[0m",
      "\u001b[0;31mTypeError\u001b[0m                                 Traceback (most recent call last)",
      "\u001b[0;32m<ipython-input-17-7086123fb027>\u001b[0m in \u001b[0;36m<module>\u001b[0;34m\u001b[0m\n\u001b[1;32m      1\u001b[0m \u001b[0mmy_dna\u001b[0m \u001b[0;34m=\u001b[0m \u001b[0;34m\"ATGCATGC\"\u001b[0m\u001b[0;34m\u001b[0m\u001b[0;34m\u001b[0m\u001b[0m\n\u001b[1;32m      2\u001b[0m \u001b[0mc_count\u001b[0m \u001b[0;34m=\u001b[0m \u001b[0;36m2\u001b[0m\u001b[0;34m\u001b[0m\u001b[0;34m\u001b[0m\u001b[0m\n\u001b[0;32m----> 3\u001b[0;31m \u001b[0mprint\u001b[0m\u001b[0;34m(\u001b[0m\u001b[0mmy_dna\u001b[0m\u001b[0;34m+\u001b[0m\u001b[0mc_count\u001b[0m\u001b[0;34m)\u001b[0m\u001b[0;34m\u001b[0m\u001b[0;34m\u001b[0m\u001b[0m\n\u001b[0m",
      "\u001b[0;31mTypeError\u001b[0m: can only concatenate str (not \"int\") to str"
     ]
    }
   ],
   "source": [
    "my_dna = \"ATGCATGC\"\n",
    "c_count = 2\n",
    "print(my_dna+c_count)\n",
    "print(my_dna+str(c_count))"
   ]
  },
  {
   "cell_type": "markdown",
   "metadata": {},
   "source": [
    "The result you get should be something like TypeError: can only concatenate str (not \"int\") to str. That's because you are trying to concatenate a variable that is read as a sequence of characters (my_dna) to a variable that is read as a numerical value. But wait...isn't \"2\" also a character? The answer is that it is -- if you enclose it in quotes. You could add \"ATCGATCG\" and \"2\" together just fine. But when a number is not specifically marked as a string character, then it has a different flavor and the two can't combine. Like chocolate and pickles.\n",
    "\n",
    "If you want to know what type a variable is, you can use the built-in type() function to find out. Use type in the cell below to find out which type each variable is."
   ]
  },
  {
   "cell_type": "code",
   "execution_count": 19,
   "metadata": {},
   "outputs": [
    {
     "data": {
      "text/plain": [
       "bool"
      ]
     },
     "execution_count": 19,
     "metadata": {},
     "output_type": "execute_result"
    }
   ],
   "source": [
    "my_dna = \"ATGCATGC\"\n",
    "c_count = 2\n",
    "c_frac = 0.25\n",
    "gc50 = True\n",
    "type(my_dna)\n",
    "type(c_count)\n",
    "type(c_frac)\n",
    "type(gc50)"
   ]
  },
  {
   "cell_type": "markdown",
   "metadata": {},
   "source": [
    "You don't have to explicitly define a variable as having a particular type. The container takes on the flavor of what you put in it. So if you assign the Boolean value True to gc50, it becomes a bool type variable. Until you clear it out and assign something else to it."
   ]
  },
  {
   "cell_type": "markdown",
   "metadata": {},
   "source": [
    "# Finish Up #\n",
    "\n",
    "Now you've got some basic ideas that will prepare you for what we're going to do in class this week. We'll learn more about strings and printing, and we'll also work with numbers and mathematical operators. \n",
    "\n",
    "Finish this exercise and turn it in. Put your name in the filename (where it says YourName) and in the first code cell at the very top of the sheet. Then Save and Checkpoint from the file menu. The Jupyter notebook should save with all your code in the code cells. It will be in the Notebooks directory that you started Jupyter from. Upload the file, which should end with the .ipynb extension, into Canvas!"
   ]
  }
 ],
 "metadata": {
  "kernelspec": {
   "display_name": "Python 3",
   "language": "python",
   "name": "python3"
  },
  "language_info": {
   "codemirror_mode": {
    "name": "ipython",
    "version": 3
   },
   "file_extension": ".py",
   "mimetype": "text/x-python",
   "name": "python",
   "nbconvert_exporter": "python",
   "pygments_lexer": "ipython3",
   "version": "3.7.1"
  }
 },
 "nbformat": 4,
 "nbformat_minor": 4
}
