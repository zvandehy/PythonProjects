{
 "cells": [
  {
   "cell_type": "code",
   "execution_count": 1,
   "metadata": {},
   "outputs": [],
   "source": [
    "#In Class Oct. 6 Submission\n",
    "# Oct 6 2020\n",
    "# Zeke Van Dehy"
   ]
  },
  {
   "cell_type": "markdown",
   "metadata": {},
   "source": [
    "# Functions don't always take an argument #\n",
    "\n",
    "Say you're going to buy a Powerball ticket this weekend and you want to pick your numbers. You need six random numbers chosen from the range 1-40 and one random number (the Powerball) chosen from a range 1-15. \n",
    "\n",
    "In the first week, we did this manually using statements like:\n",
    "\n",
    "```powerball = random.randint(1,15)\n",
    "firstnumber = random.randint(1,40)```\n",
    "\n",
    "Write a function that generates your Powerball numbers using a loop, and appends them to a single list, then returns the list. In your list, make sure the number that's the Powerball is marked somehow so you know which one it is.\n",
    "\n",
    "You don’t need an argument for this function, because it knows internally what our Powerball rules are, and it only has to know that you want Powerball numbers to do the work.\n",
    "\n",
    "Then call your function and print out its results."
   ]
  },
  {
   "cell_type": "code",
   "execution_count": 2,
   "metadata": {},
   "outputs": [
    {
     "name": "stdout",
     "output_type": "stream",
     "text": [
      "[18, 28, 26, 32, 20, 32, 2]\n"
     ]
    }
   ],
   "source": [
    "import random\n",
    "#6 numberballs and then 1 powerball (powerball is always last)\n",
    "def getPowerballs():\n",
    "    balls = []\n",
    "    for i in range(6):\n",
    "        balls.append(random.randint(1,40))\n",
    "    balls.append(random.randint(1,15))\n",
    "    return balls;\n",
    "\n",
    "print(getPowerballs())"
   ]
  },
  {
   "cell_type": "markdown",
   "metadata": {},
   "source": [
    "# Generate a code key for your secret decoder #\n",
    "\n",
    "Here's another function that doesn't need an argument because it generates something you want according to an internal rule. (Of course you could pass in the alphabet string as an argument if you chose to, and that would be more generalizable.)\n",
    "\n",
    "Using the code you've already figured out, write a function that creates a new code for the secret decoder ring whenever it is called. Start from the alphabet string \"ABCDEFGHIJKLMNOPQRSTUVWXYZ\", and practice what you just learned above to expand that list to include both uppercase and lowercase in your decoder ring string. Don't forget to include a space!"
   ]
  },
  {
   "cell_type": "code",
   "execution_count": 3,
   "metadata": {},
   "outputs": [
    {
     "name": "stdout",
     "output_type": "stream",
     "text": [
      "alphabet:  ABCDEFGHIJKLMNOPQRSTUVWXYZ abcdefghijklmnopqrstuvwxyz \n",
      "secret code:  DYsRcPVOwt yeIpMFGKjuLdEmkaCBvbxQJArnfZWlohzUgqXSTH Ni\n",
      "jOwKiwKiDiKcsGcjiecKKDVc\n"
     ]
    }
   ],
   "source": [
    "ABC = \"ABCDEFGHIJKLMNOPQRSTUVWXYZ \"\n",
    "ABC = ABC + ABC.lower()\n",
    "def getCode():\n",
    "    rABC = list(ABC)\n",
    "    random.shuffle(rABC)\n",
    "    rABC=\"\".join(rABC)\n",
    "    print(\"alphabet: \", ABC)\n",
    "    print(\"secret code: \", rABC)\n",
    "    return rABC\n",
    "\n",
    "def encode(s_code, message):\n",
    "    encode = str.maketrans(ABC, s_code)\n",
    "    s_message = message.translate(encode)\n",
    "    return s_message\n",
    "\n",
    "code = getCode()\n",
    "message = \"THIS IS A SECRET MESSAGE\" #could prompt for message\n",
    "secret = encode(code, message)\n",
    "print(secret)\n",
    "    \n",
    "\n"
   ]
  },
  {
   "cell_type": "markdown",
   "metadata": {},
   "source": [
    "# Encapsulation: review #\n",
    "\n",
    "Examine the function below. Which of the variables (aa, charged, protein) can be called in the print statement immediately outside the function? Put the appropriate print statements into the second cell, or if there are no variables that can be directly printed, leave it blank."
   ]
  },
  {
   "cell_type": "code",
   "execution_count": 4,
   "metadata": {},
   "outputs": [],
   "source": [
    "def countcharge(protein):\n",
    "    charged = 0\n",
    "    for aa in protein:\n",
    "        if aa in [\"H\", \"L\", \"R\", \"E\", \"D\"]:\n",
    "            charged += 1\n",
    "    return charged"
   ]
  },
  {
   "cell_type": "code",
   "execution_count": 5,
   "metadata": {},
   "outputs": [],
   "source": [
    "#none"
   ]
  },
  {
   "cell_type": "markdown",
   "metadata": {},
   "source": [
    "# Encapsulation: review #\n",
    "\n",
    "Which of the variables are intended to be used outside the function, and how would you access them, if not with a direct print statement?"
   ]
  },
  {
   "cell_type": "code",
   "execution_count": 6,
   "metadata": {},
   "outputs": [
    {
     "name": "stdout",
     "output_type": "stream",
     "text": [
      "2\n"
     ]
    }
   ],
   "source": [
    "#charged is intended to be used outside the function\n",
    "c = countcharge(\"PROTEIN\")\n",
    "print(c)\n",
    "#the argument passed into \"protein\" is also used outside the function (because that's where it is declared/initialized)"
   ]
  },
  {
   "cell_type": "markdown",
   "metadata": {},
   "source": [
    "# Encapsulation: review #\n",
    "\n",
    "In the case below, even though the function produces the correct answer when called, it is doing something wrong when it comes to encapsulation. Look at which variables are used inside the function, and fix it so that it is doing encapsulation correctly."
   ]
  },
  {
   "cell_type": "code",
   "execution_count": 7,
   "metadata": {},
   "outputs": [
    {
     "name": "stdout",
     "output_type": "stream",
     "text": [
      "5\n"
     ]
    }
   ],
   "source": [
    "def countcharge(protein):\n",
    "    charged = 0\n",
    "    for aa in protein:\n",
    "        if aa in [\"H\", \"L\", \"R\", \"E\", \"D\"]:\n",
    "            charged += 1\n",
    "    return charged\n",
    "\n",
    "protseq = \"ACDEFGHIKLMNPQRSTVWY\"\n",
    "print(countcharge(protseq))"
   ]
  },
  {
   "cell_type": "markdown",
   "metadata": {},
   "source": [
    "# Functions that return multiple items #\n",
    "\n",
    "A function can return multiple items. \n",
    "\n",
    "Now make a function for the second part of your secret decoder ring – the decoding part. Your function will need to use the decoder string that you returned in part one as a parameter, along with the phrase to be translated.\n",
    "\n",
    "- While you wouldn’t strictly need to do this, have the function return the translated string and the code key as a pair of values, e.g.:\n",
    "\n",
    "```return trans, code```\n",
    "\n",
    "- Then call the function, assigning the output to a pair of variables.\n",
    "- Translate “THIS IS MY SECRET PYTHON DIARY” and show the results."
   ]
  },
  {
   "cell_type": "code",
   "execution_count": 8,
   "metadata": {},
   "outputs": [
    {
     "name": "stdout",
     "output_type": "stream",
     "text": [
      "THIS IS A SECRET MESSAGE\n"
     ]
    }
   ],
   "source": [
    "def decodeMessage(s_code, s_message):\n",
    "    decode = str.maketrans(s_code, ABC) #ABC global from cell above\n",
    "    s = s_message.translate(decode)\n",
    "    return s\n",
    "print(decodeMessage(code, secret))"
   ]
  },
  {
   "cell_type": "markdown",
   "metadata": {},
   "source": [
    "# Making flexible functions #\n",
    "\n",
    "We can build a simple function that counts the percentage of an amino acid in a protein sequence.\n",
    "\n",
    "```def aa_pct(protein, aa):\n",
    "    aa_count = protein.count(aa)\n",
    "    len_protein = len(protein)\n",
    "    perc = aa_count * 100 / len_protein\n",
    "    return perc```\n",
    "    \n",
    "In the cell below, flesh out this function by defining the variables that have to be passed to it, and then call the function. You can try it out with this sequence.\n",
    "\n",
    "sequence = \"MALWMRLLPLLALLALWGPDPAAAFVNQHLCGSHLVEALYLVCGERGFFYTPKTRREAEDLQVGQVELGGGPGAGSLQPLALEGSLQKRGIVEQCCTSICSLYQLENYCN\"\n",
    "\n",
    "Human insulin is a sequence of length 110, which contains 6 \"C\" residues, which amounts to 5.45 percent, rounded to two decimal places. "
   ]
  },
  {
   "cell_type": "code",
   "execution_count": 9,
   "metadata": {},
   "outputs": [],
   "source": [
    "def aa_pct(protein, aa):\n",
    "    aa_count = protein.count(aa)\n",
    "    len_protein = len(protein)\n",
    "    perc = aa_count * 100 / len_protein\n",
    "    return perc"
   ]
  },
  {
   "cell_type": "code",
   "execution_count": 10,
   "metadata": {},
   "outputs": [
    {
     "name": "stdout",
     "output_type": "stream",
     "text": [
      "5.454545454545454\n"
     ]
    }
   ],
   "source": [
    "sequence = \"MALWMRLLPLLALLALWGPDPAAAFVNQHLCGSHLVEALYLVCGERGFFYTPKTRREAEDLQVGQVELGGGPGAGSLQPLALEGSLQKRGIVEQCCTSICSLYQLENYCN\"\n",
    "print(aa_pct(sequence,\"C\"))"
   ]
  },
  {
   "cell_type": "markdown",
   "metadata": {},
   "source": [
    "# Functions that use named arguments #\n",
    "\n",
    "Up until now we have used only positional arguments. That is, if we wanted to pass our function above a sequence string, an amino acid, and a number of significant figures to round the calculated percentage to, we would write:\n",
    "\n",
    "```def aa_pct(protein, aa, sigfig):\n",
    "    # etc.```\n",
    "\n",
    "In the cell below, first, run the cell to see that it works. Next, rearrange the order of the arguments in the function call so that the sequence string is last, and see what happens.\n",
    "\n",
    "Finally, name each of the keyword arguments as shown in the slides, with names corresponding to each of the parameters the function expects. Run it again and see what happens."
   ]
  },
  {
   "cell_type": "code",
   "execution_count": 11,
   "metadata": {},
   "outputs": [
    {
     "name": "stdout",
     "output_type": "stream",
     "text": [
      "5.45\n"
     ]
    }
   ],
   "source": [
    "def aa_pct(protein, aa, sigfig):\n",
    "    aa_count = protein.count(aa)\n",
    "    len_protein = len(protein)\n",
    "    perc_rounded = round((aa_count * 100 / len_protein), sigfig)\n",
    "    return perc_rounded\n",
    "    \n",
    "percent = aa_pct(protein=sequence,aa=\"C\",sigfig=2)\n",
    "print(percent)"
   ]
  },
  {
   "cell_type": "markdown",
   "metadata": {},
   "source": [
    "# Functions that use default parameter values #\n",
    "\n",
    "In the cell below, set sigfig=2 in the function definition line, as shown in the slides. Then try calling the function with and without sigfig in the function call, and observe what happens."
   ]
  },
  {
   "cell_type": "code",
   "execution_count": 12,
   "metadata": {},
   "outputs": [
    {
     "name": "stdout",
     "output_type": "stream",
     "text": [
      "5.45\n"
     ]
    }
   ],
   "source": [
    "def aa_pct(protein, aa, sigfig=2):\n",
    "    aa_count = protein.count(aa)\n",
    "    len_protein = len(protein)\n",
    "    perc_rounded = round((aa_count * 100 / len_protein), sigfig)\n",
    "    return perc_rounded\n",
    "print(aa_pct(sequence,\"C\"))"
   ]
  },
  {
   "cell_type": "markdown",
   "metadata": {},
   "source": [
    "# Testing functions with assert #\n",
    "\n",
    "The best way to figure out if your function is going to be able to handle all kinds of input is to test it.\n",
    "\n",
    "You can test the function by creating a test case where you know the answer, like we just did for insulin. But it’s great to test your function for other cases too.\n",
    "\n",
    "You can do that by calling the function with an ASSERT statement in the code itself.\n",
    "\n",
    "An assert statement takes the place of a function call, and uses the comparison operator ==. You pass a specific set of arguments to the function, give the expected answer, and then assert tests to see if the function passes. In the cell below, I show you what this looks like, with a group of tests that your function should be able to pass. If no errors are thrown, then lo, your function has passed. In Jupyter, you can comment the assert statements out and uncomment each one in turn to see the individual results."
   ]
  },
  {
   "cell_type": "code",
   "execution_count": 13,
   "metadata": {},
   "outputs": [],
   "source": [
    "def aa_pct(protein, aa):\n",
    "    aa_count = protein.count(aa)\n",
    "    len_protein = len(protein)\n",
    "    perc = aa_count * 100 / len_protein\n",
    "    return perc\n",
    "\n",
    "assert aa_pct(\"MSRSLLLRFLLFLLLLPPLP\", \"M\") == 5\n",
    "assert aa_pct(\"MSRSLLLRFLLFLLLLPPLP\", \"R\") == 10\n",
    "assert aa_pct(\"MSRSLLLRFLLFLLLLPPLP\", \"L\") == 50\n",
    "assert aa_pct(\"MSRSLLLRFLLFLLLLPPLP\", \"Y\") == 0"
   ]
  },
  {
   "cell_type": "markdown",
   "metadata": {},
   "source": [
    "# Make the test harder #\n",
    "\n",
    "Put everything that you'll need into the cell below to test the function with the following statements.\n",
    "\n",
    "```assert aa_pct(\"MSRSLLLRFLLFLLLLPPLP\", \"M\") == 5\n",
    "assert aa_pct(\"MSRSLLLRFLLFLLLLPPLP\", \"r\") == 10\n",
    "assert aa_pct(\"msrsLLLRFLLFLLLLPPLP\", \"L\") == 50\n",
    "assert aa_pct(\"MSRSLLLRFLLFLllLPPLP\", \"Y\") == 0```"
   ]
  },
  {
   "cell_type": "code",
   "execution_count": 16,
   "metadata": {},
   "outputs": [
    {
     "ename": "AssertionError",
     "evalue": "",
     "output_type": "error",
     "traceback": [
      "\u001b[0;31m---------------------------------------------------------------------------\u001b[0m",
      "\u001b[0;31mAssertionError\u001b[0m                            Traceback (most recent call last)",
      "\u001b[0;32m<ipython-input-16-03f960d4e4ae>\u001b[0m in \u001b[0;36m<module>\u001b[0;34m\u001b[0m\n\u001b[1;32m      1\u001b[0m \u001b[0;34m\u001b[0m\u001b[0m\n\u001b[1;32m      2\u001b[0m \u001b[0;32massert\u001b[0m \u001b[0maa_pct\u001b[0m\u001b[0;34m(\u001b[0m\u001b[0;34m\"MSRSLLLRFLLFLLLLPPLP\"\u001b[0m\u001b[0;34m,\u001b[0m \u001b[0;34m\"M\"\u001b[0m\u001b[0;34m)\u001b[0m \u001b[0;34m==\u001b[0m \u001b[0;36m5\u001b[0m\u001b[0;34m\u001b[0m\u001b[0;34m\u001b[0m\u001b[0m\n\u001b[0;32m----> 3\u001b[0;31m \u001b[0;32massert\u001b[0m \u001b[0maa_pct\u001b[0m\u001b[0;34m(\u001b[0m\u001b[0;34m\"MSRSLLLRFLLFLLLLPPLP\"\u001b[0m\u001b[0;34m,\u001b[0m \u001b[0;34m\"r\"\u001b[0m\u001b[0;34m)\u001b[0m \u001b[0;34m==\u001b[0m \u001b[0;36m10\u001b[0m\u001b[0;34m\u001b[0m\u001b[0;34m\u001b[0m\u001b[0m\n\u001b[0m\u001b[1;32m      4\u001b[0m \u001b[0;32massert\u001b[0m \u001b[0maa_pct\u001b[0m\u001b[0;34m(\u001b[0m\u001b[0;34m\"msrsLLLRFLLFLLLLPPLP\"\u001b[0m\u001b[0;34m,\u001b[0m \u001b[0;34m\"L\"\u001b[0m\u001b[0;34m)\u001b[0m \u001b[0;34m==\u001b[0m \u001b[0;36m50\u001b[0m\u001b[0;34m\u001b[0m\u001b[0;34m\u001b[0m\u001b[0m\n\u001b[1;32m      5\u001b[0m \u001b[0;32massert\u001b[0m \u001b[0maa_pct\u001b[0m\u001b[0;34m(\u001b[0m\u001b[0;34m\"MSRSLLLRFLLFLllLPPLP\"\u001b[0m\u001b[0;34m,\u001b[0m \u001b[0;34m\"Y\"\u001b[0m\u001b[0;34m)\u001b[0m \u001b[0;34m==\u001b[0m \u001b[0;36m0\u001b[0m\u001b[0;34m\u001b[0m\u001b[0;34m\u001b[0m\u001b[0m\n",
      "\u001b[0;31mAssertionError\u001b[0m: "
     ]
    }
   ],
   "source": [
    "\n",
    "assert aa_pct(\"MSRSLLLRFLLFLLLLPPLP\", \"M\") == 5\n",
    "assert aa_pct(\"MSRSLLLRFLLFLLLLPPLP\", \"r\") == 10\n",
    "assert aa_pct(\"msrsLLLRFLLFLLLLPPLP\", \"L\") == 50\n",
    "assert aa_pct(\"MSRSLLLRFLLFLllLPPLP\", \"Y\") == 0"
   ]
  },
  {
   "cell_type": "markdown",
   "metadata": {},
   "source": [
    "# Can you make your function pass this test? #\n",
    "\n",
    "Fix the function so that it passes all of the tests above."
   ]
  },
  {
   "cell_type": "code",
   "execution_count": null,
   "metadata": {},
   "outputs": [],
   "source": []
  },
  {
   "cell_type": "markdown",
   "metadata": {},
   "source": [
    "# Can you make your function pass this test? #\n",
    "\n",
    "Here's a new test for your function to pass. Fix your function in the cell below:\n",
    "\n",
    "assert aa_pct(\"MALWMRLLPLLALLALWGPDPAAAFVNQHLCGSHLVEALYLVCGERGFFYTPKTRREAEDLQVGQVELGGGPGAGSLQPLALEGSLQKRGIVEQCCTSICSLYQLENYCN\", \"C\") == 5.45\n",
    "assert aa_pct(\"MALWMRLLPLLALLALWGPDPAAAFVNQHLCGSHLVEALYLVCGERGFFYTPKTRREAEDLQVGQVELGGGPGAGSLQPLALEGSLQKRGIVEQCCTSICSLYQLENYCN\", \"F\") == 2.73"
   ]
  },
  {
   "cell_type": "code",
   "execution_count": null,
   "metadata": {},
   "outputs": [],
   "source": []
  },
  {
   "cell_type": "markdown",
   "metadata": {},
   "source": [
    "# Challenge: Do it with a loop and a default #\n",
    "\n",
    "Can you make your function pass these tests?\n",
    "\n",
    "```assert aa_pct(\"MSRSLLLRFLLFLLLLPPLP\", [\"M\"]) == 5\n",
    "assert aa_pct(\"MSRSLLLRFLLFLLLLPPLP\", ['M', 'L']) == 55\n",
    "assert aa_pct(\"MSRSLLLRFLLFLLLLPPLP\", ['F', 'S', 'L']) == 70\n",
    "assert aa_pct(\"MSRSLLLRFLLFLLLLPPLP\") == 65```\n",
    "\n",
    "The challenge here is that the second input is now a list, so your function will have to handle that list internally. Just like we can say \"for char in string\" we can say \"for item in list\". How could you get the percentage of the protein that is made up of all of the aminos in each list, and get a percentage of hydrophobic amino acids ['A','I','L','M','F','W','Y','V'] if no other list is given?\n",
    "\n",
    "See if you can solve test case three with a loop, then update your function. Then think about how to solve test case 4, since it represents a slightly different problem."
   ]
  },
  {
   "cell_type": "code",
   "execution_count": null,
   "metadata": {},
   "outputs": [],
   "source": []
  }
 ],
 "metadata": {
  "kernelspec": {
   "display_name": "Python 3",
   "language": "python",
   "name": "python3"
  },
  "language_info": {
   "codemirror_mode": {
    "name": "ipython",
    "version": 3
   },
   "file_extension": ".py",
   "mimetype": "text/x-python",
   "name": "python",
   "nbconvert_exporter": "python",
   "pygments_lexer": "ipython3",
   "version": "3.7.1"
  }
 },
 "nbformat": 4,
 "nbformat_minor": 4
}
