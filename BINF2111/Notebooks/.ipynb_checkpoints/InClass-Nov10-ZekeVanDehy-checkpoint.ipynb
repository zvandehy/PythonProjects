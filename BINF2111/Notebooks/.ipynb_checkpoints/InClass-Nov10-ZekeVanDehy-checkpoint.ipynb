{
 "cells": [
  {
   "cell_type": "markdown",
   "metadata": {},
   "source": [
    "#Zeke Van Dehy\n",
    "#Nov 10, 2020"
   ]
  },
  {
   "cell_type": "markdown",
   "metadata": {},
   "source": [
    "# Protein Translation #\n",
    "\n",
    "For today's exercise, we have two input files.\n",
    "\n",
    "The first is a file of DNA sequences -- you can use the file test.fna that went along with last week's codon counting lab.\n",
    "\n",
    "The second is a file that describes a genetic code. This happens to be the generic bacterial genetic code. The contents of the file are shown below.\n",
    "\n",
    "You can't use the generic .translate() and .maketrans() methods to translate a code where the original string uses three letters and the resulting string only uses one. So we'll need a dictionary. The goal of the lab is to create a dictionary from the bacterial code file, and then use it to translate some protein sequences. We're going to talk this through step by step in class.\n",
    "\n",
    "```AAs  = FFLLSSSSYY**CC*WLLLLPPPPHHQQRRRRIIIMTTTTNNKKSSRRVVVVAAAADDEEGGGG\n",
    "Starts = ---M---------------M------------MMMM---------------M------------\n",
    "Base1  = TTTTTTTTTTTTTTTTCCCCCCCCCCCCCCCCAAAAAAAAAAAAAAAAGGGGGGGGGGGGGGGG\n",
    "Base2  = TTTTCCCCAAAAGGGGTTTTCCCCAAAAGGGGTTTTCCCCAAAAGGGGTTTTCCCCAAAAGGGG\n",
    "Base3  = TCAGTCAGTCAGTCAGTCAGTCAGTCAGTCAGTCAGTCAGTCAGTCAGTCAGTCAGTCAGTCAG```"
   ]
  },
  {
   "cell_type": "markdown",
   "metadata": {},
   "source": [
    "# First major step -- as a function #"
   ]
  },
  {
   "cell_type": "code",
   "execution_count": 8,
   "metadata": {},
   "outputs": [],
   "source": [
    "# map(base+base+base => aa)\n",
    "#open file and read lines to figure out which is which\n",
    "\n",
    "def readCodonFile(filename):\n",
    "    codons = {}\n",
    "    with open(filename) as fo:\n",
    "        temp = {}\n",
    "        for line in fo.readlines():\n",
    "            line = line.strip()\n",
    "            row = line.split(\"=\")\n",
    "            row[0] = row[0].strip()\n",
    "            row[1] = row[1].strip()\n",
    "            temp[row[0]] = row[1]\n",
    "        \n",
    "        for i, aa in enumerate(temp[\"AAs\"]):\n",
    "            c = temp[\"Base1\"][i] + temp[\"Base2\"][i] + temp[\"Base3\"][i]\n",
    "            codons[c] = aa\n",
    "    return codons\n",
    "\n",
    "transTable = readCodonFile(\"bacterialcode.txt\")"
   ]
  },
  {
   "cell_type": "markdown",
   "metadata": {},
   "source": [
    "# Second major step -- as a function #"
   ]
  },
  {
   "cell_type": "code",
   "execution_count": 25,
   "metadata": {},
   "outputs": [],
   "source": [
    "def readFasta(filename):\n",
    "    seqs = {}\n",
    "    \n",
    "    with open(filename) as fo:\n",
    "        identifier = \"\"\n",
    "        dna = \"\"\n",
    "        for line in fo.readlines():\n",
    "            line = line.strip()\n",
    "            if line[0] == \">\":\n",
    "                identifier = line[1:]\n",
    "                dna = \"\"\n",
    "            else:\n",
    "                dna += line\n",
    "                seqs[identifier] = dna #would be more efficient to only do this when finish reading the sequence\n",
    "    return seqs\n",
    "\n",
    "toTranslate = readFasta(\"test.fna\")"
   ]
  },
  {
   "cell_type": "markdown",
   "metadata": {},
   "source": [
    "# Third major step -- as a function #"
   ]
  },
  {
   "cell_type": "code",
   "execution_count": 40,
   "metadata": {},
   "outputs": [
    {
     "name": "stdout",
     "output_type": "stream",
     "text": [
      "GGK\n"
     ]
    }
   ],
   "source": [
    "def translateDNA(dna, translation):\n",
    "    aalist = []\n",
    "    for i in range(0,len(dna)-2,3):\n",
    "        codon = dna[i:i+3]\n",
    "        aalist.append(translation.get(codon,\"\"))\n",
    "    return \"\".join(aalist)\n",
    "aas = translateDNA(\"GGGGGAAAAA\",transTable)\n",
    "print(aas)"
   ]
  },
  {
   "cell_type": "markdown",
   "metadata": {},
   "source": [
    "# Follow through #\n",
    "\n",
    "This should be the main routine of the program, where you call the various functions and ultimately, write out the result."
   ]
  },
  {
   "cell_type": "code",
   "execution_count": 45,
   "metadata": {},
   "outputs": [],
   "source": [
    "def generateProteinFasta(dnaFilename, aaFilename, codonFilename):\n",
    "    tt = readCodonFile(codonFilename)\n",
    "    dnaSeqs = readFasta(dnaFilename)\n",
    "    toWrite = \"\"\n",
    "    for identifier, dna in dnaSeqs.items():\n",
    "        toWrite += \">\"+identifier+\"\\n\"\n",
    "        toWrite += translateDNA(dna,tt)+\"\\n\"\n",
    "    f = open(aaFilename, \"w\")\n",
    "    f.write(toWrite)\n",
    "    f.close()\n",
    "generateProteinFasta(\"test.fna\", \"test_aminos.fasta\", \"bacterialcode.txt\")"
   ]
  }
 ],
 "metadata": {
  "kernelspec": {
   "display_name": "Python 3",
   "language": "python",
   "name": "python3"
  },
  "language_info": {
   "codemirror_mode": {
    "name": "ipython",
    "version": 3
   },
   "file_extension": ".py",
   "mimetype": "text/x-python",
   "name": "python",
   "nbconvert_exporter": "python",
   "pygments_lexer": "ipython3",
   "version": "3.9.0"
  }
 },
 "nbformat": 4,
 "nbformat_minor": 4
}
