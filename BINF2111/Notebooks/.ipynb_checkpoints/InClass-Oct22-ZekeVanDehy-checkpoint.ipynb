{
 "cells": [
  {
   "cell_type": "code",
   "execution_count": null,
   "metadata": {},
   "outputs": [],
   "source": [
    "# Lists from Files -- In Class Oct 3\n",
    "# Your Name\n",
    "# Date"
   ]
  },
  {
   "cell_type": "markdown",
   "metadata": {},
   "source": [
    "# What is a list? #\n",
    "\n",
    "A list is a specific example of an object type in python called a sequence. Sequence types include strings, lists, tuples and xrange objects. They have index numbers associated with each position. We'll learn about xrange when we learn about generators. There are also two less commonly used types -- unicode strings and buffers. The things you can do with all sequences are add, multiply, slice, get len(), min() and max(), and test for membership with in/not in.\n",
    "\n",
    "So far we know the following about lists.\n",
    "\n",
    "- We define them by creating a collection of values inside square brackets, and assigning it to a variable (object) name\n",
    "- We can make a list by using the list() function on another sequence (e.g. a string)\n",
    "- We can get each item in a list individually by iterating over it with a for loop (for item in list:)\n",
    "- We create an empty list by using empty square brackets list = []\n",
    "- We need to create an empty list before we can append to it (say, inside a loop)\n",
    "- We use .append() to append to a list\n",
    "- We can count items in a list with .count() just like we do in a string\n",
    "- We use the del() function to remove an item from a list\n",
    "\n",
    "Let's review some of these things we know.\n",
    "\n",
    "- In the cell below, define a list either by creating it manually or by converting a string.\n",
    "- Iterate over the list with a for loop and print out each item."
   ]
  },
  {
   "cell_type": "code",
   "execution_count": null,
   "metadata": {},
   "outputs": [],
   "source": []
  },
  {
   "cell_type": "markdown",
   "metadata": {},
   "source": [
    "- In the cell below, define an empty list.\n",
    "- Make a for loop that creates items, e.g. numbers from a range, or random integers.\n",
    "- Use the loop to append each item to the list.\n",
    "- Print out the resulting list."
   ]
  },
  {
   "cell_type": "code",
   "execution_count": null,
   "metadata": {},
   "outputs": [],
   "source": []
  },
  {
   "cell_type": "markdown",
   "metadata": {},
   "source": [
    "# List operators #\n",
    "\n",
    "First of all, we can manipulate lists with operators.\n",
    "\n",
    "- Lists can be added together with +\n",
    "- Lists can be multiplied by an integer value with *\n",
    "- We can check for membership with in and not in\n",
    "- We can use the slice operator [start:stop:step] to select a range of indexes in the list.\n",
    "\n",
    "In the cell below:\n",
    "\n",
    "- add together alpha_list and smalpha_list\n",
    "- multiply smalpha_list by 2\n",
    "- do a membership check (with in or not in) on alpha_list that will return False\n",
    "- slice the first 10 characters of alpha_list\n",
    "- slice out every third character of smalpha_list"
   ]
  },
  {
   "cell_type": "code",
   "execution_count": null,
   "metadata": {},
   "outputs": [],
   "source": [
    "alpha_list = list(\"ABCDEFGHIJKLMNOPQRSTUVWXYZ\")\n",
    "smalpha_list = list(\"abcdefghijklmnopqrstuvwxyz\")"
   ]
  },
  {
   "cell_type": "markdown",
   "metadata": {},
   "source": [
    "# More useful built-in functions for lists #\n",
    "\n",
    "We already know we can get list length with len() just like for a string. Here are a few mathy functions that are useful with list:\n",
    "\n",
    "We can use sum() to add together all the items in a list\n",
    "We can use min() and max() to find the least and greatest numbers in a list\n",
    "\n",
    "- In the cell below, use sum() to add together the numbers in the list\n",
    "- Use min() to find the smallest number\n",
    "- Use max() to find the largest number\n",
    "- Find out what is returned when you use sum(), min() and max() on a non-numerical list (like alpha_list, or a list you make from the names of people at your table)"
   ]
  },
  {
   "cell_type": "code",
   "execution_count": null,
   "metadata": {},
   "outputs": [],
   "source": [
    "my_numbers = [1,3,5,7,9,10,21]"
   ]
  },
  {
   "cell_type": "markdown",
   "metadata": {},
   "source": [
    "# Creating sets from lists with set() #\n",
    "\n",
    "Say you have parsed a file and made a list from one of the fields in the file. And because of the way the data is, that list has lots of repeating elements.\n",
    "\n",
    "['Aiden','Aiden','Aiden','Maryam','Maryam','Brett','Brett','Brett','Brett']\n",
    "\n",
    "Say you want to regroup your data by getting every line that is to do with Aiden, every line that is to do with Maryam, etc. But you don't want to repeat searching with their names multiple times.\n",
    "\n",
    "You could create a set of unique items from that list using set(list). A set represents the unique items that exist in your list, but not how many times they exist.\n",
    "\n",
    "- In the cell below, create a set from the list above, and then print it out. \n",
    "- Can you iterate over the set like you would over a list? Try it out in a for loop and see.\n",
    "\n",
    "I use this all the time, and you might be able to find a way to use it in the lab for this week, too."
   ]
  },
  {
   "cell_type": "code",
   "execution_count": null,
   "metadata": {},
   "outputs": [],
   "source": []
  },
  {
   "cell_type": "markdown",
   "metadata": {},
   "source": [
    "# Creating a new data structure from 2 lists with zip #\n",
    "\n",
    "Zip will pair up the items in two lists and create a \"zip object\". The zip object doesn't look like much until you decide what it's going to be.\n",
    "\n",
    "```list1 = \"ABCD\"\n",
    "list2 = \"EFGH\"\n",
    "print(zip(list1,list2))```\n",
    "\n",
    "outputs something like: <zip object at 0x10a2ffd20>\n",
    "\n",
    "If I say I would like to make the zip object a list, like this:\n",
    "\n",
    "```newobj = list(zip(list1,list2))```\n",
    "\n",
    "I will get a list of tuples. Tuples are like lists in () and they are immutable -- you can't change individual elements.\n",
    "\n",
    "```[('A', 'E'), ('B', 'F'), ('C', 'G'), ('D', 'H')]```\n",
    "\n",
    "A zip object is a pointer to two things that python knows about which have now been paired up. Depending on what you are going to turn the zip object into, you can zip more than two lists together. If I do:\n",
    "\n",
    "```list3 = list(\"IJKL\")\n",
    "newobj = list(zip(list1,list2,list3))```\n",
    "\n",
    "Then I will get back:\n",
    "\n",
    "```[('A', 'E', 'I'), ('B', 'F', 'J'), ('C', 'G', 'K'), ('D', 'H', 'L')]```\n",
    "\n",
    "In the cell below, zip together the lists made from the alpha_list and the smalpha_list we created above."
   ]
  },
  {
   "cell_type": "code",
   "execution_count": null,
   "metadata": {},
   "outputs": [],
   "source": []
  },
  {
   "cell_type": "markdown",
   "metadata": {},
   "source": [
    "# Creating a list of function results with map() #\n",
    "\n",
    "If you have defined a function, and you have a list of objects you would like to call it on, you can use the map() function to create a new list. Run the cell below to see how this works."
   ]
  },
  {
   "cell_type": "code",
   "execution_count": null,
   "metadata": {},
   "outputs": [],
   "source": [
    "def addfive(num):\n",
    "    num += 5\n",
    "    return num\n",
    "\n",
    "numlist = [1,2,3,4,5]\n",
    "list(map(addfive,numlist))"
   ]
  },
  {
   "cell_type": "markdown",
   "metadata": {},
   "source": [
    "In the cell below, use a map command to make a list of gc percentages from this list of sequences."
   ]
  },
  {
   "cell_type": "code",
   "execution_count": null,
   "metadata": {},
   "outputs": [],
   "source": [
    "def gcpercent(seq):\n",
    "\tgcpc = 100 * (seq.count(\"G\") + seq.count(\"C\")) / len(seq)\n",
    "\treturn gcpc\n",
    "\n",
    "listofseqs = [\"AAAATTTTATAT\", \"GCCCGCCCGCGC\", \"ATATGCGCCGTA\"]"
   ]
  },
  {
   "cell_type": "markdown",
   "metadata": {},
   "source": [
    "# Finding the index where a pattern occurs with .index() #\n",
    "\n",
    ".index() finds the place in the list where an element occurs.\n",
    "\n",
    "```alpha_list = list(\"ABCDEFGHIJKLMNOPQRSTUVWXYZ\")\n",
    "alpha_list.index(\"B\") #is equal to 1\n",
    "alpha_list.index(\"Z\") #is equal to 25```\n",
    "\n",
    "Why is this useful? If you can find the element using .index(), then you can do something with that index specifically, like for instance get a corresponding item out of a parallel list.\n",
    "\n",
    "If I can find \"cow\" in animals, and I have a second list called animal_weights that is parallel, I can also get the cow's weight.\n",
    "\n",
    "```animals = [\"monkey\",\"dog\",\"cat\",\"cow\",\"rabbit\",\"horse\"]\n",
    "animal_weights = [15,50,9,1500,4,1100]\n",
    "cow_weight = animal_weights[animals.index(\"cow\")]\n",
    "print(cow_weight)```\n",
    "\n",
    "Or I could zip the two lists together and use them that way. Either thing works! I can guarantee that you'll need .index() to solve the lab problem today.\n",
    "\n",
    "In the cell below, find the index of the element \"rs916977\". "
   ]
  },
  {
   "cell_type": "code",
   "execution_count": null,
   "metadata": {},
   "outputs": [],
   "source": [
    "SNP_list = [\"rs12139042\",\"rs1667394\",\"rs916977\",\"rs12080175\",\"rs205478\",\"rs4542213\"]"
   ]
  },
  {
   "cell_type": "markdown",
   "metadata": {},
   "source": [
    "# Sorting lists with .sort() and reversing them with .reverse() #\n",
    "\n",
    "These two methods actually change the list in place. In other words, if you apply .sorted() to a list, the list, which is mutable, is forever changed. Similarly, if you apply .reverse(), the order is changed.\n",
    "\n",
    "animals = [\"monkey\",\"dog\",\"cat\",\"cow\",\"rabbit\",\"horse\"]\n",
    "\n",
    "In the cell below, apply .sort() and then .reverse() to animals. Print animals out between each step to see what happens.\n",
    "\n",
    "In general, if we're using lists IN PARALLEL and their order is important to us, we don't want to sort or reverse them this way, because the parallelism will be lost forever. That's also why as we go on, we'll start using multi-dimensional data structures like matrices, dicts, and lists of tuples."
   ]
  },
  {
   "cell_type": "code",
   "execution_count": null,
   "metadata": {},
   "outputs": [],
   "source": []
  },
  {
   "cell_type": "markdown",
   "metadata": {},
   "source": [
    "# Using lists reversed or sorted without changing them #\n",
    "\n",
    "We can also use the functions reversed() or sorted() when we access lists. These functions do not change the lists.\n",
    "\n",
    "To see what I mean, start with the code in the cell below and see what it prints out. You'll see that the list is accessed in sorted order, but it's not changed. \n",
    "\n",
    "In the cells below, try the same with reversed(animals) and sorted(reversed(animals))."
   ]
  },
  {
   "cell_type": "code",
   "execution_count": null,
   "metadata": {},
   "outputs": [],
   "source": [
    "animals = [\"monkey\",\"dog\",\"cat\",\"cow\",\"rabbit\",\"horse\"]\n",
    "for animal in sorted(animals):\n",
    "    print(animal)\n",
    "print(animals)"
   ]
  },
  {
   "cell_type": "code",
   "execution_count": null,
   "metadata": {},
   "outputs": [],
   "source": []
  },
  {
   "cell_type": "markdown",
   "metadata": {},
   "source": [
    "# Using a list comprehension #\n",
    "\n",
    "A list comprehension is essentially a compressed for loop. Its components are [transformation, iteration, filter].\n",
    "\n",
    "list2 = [i for i in list1] #base comprehension syntax -- returns a copy of list 1. Only the iteration is used.\n",
    "list2 = [i+5 for i in list1] #has a transformation at the beginning. Each i in list 1 has 5 added to it.\n",
    "list2 = [i+5 for i in list1 if i > 5] has a transformation, an iteration and a filter (if statement)\n",
    "\n",
    "In class last time I also showed you an example of a list comprehension for adding a newline to every string in a list while using .writelines to write to a file:\n",
    "\n",
    "fo.writelines([\"%s\\n\" % i for i in alpha_list])\n",
    "\n",
    "Adding the newline is the transformation; i for i is the iteration. There is no filter in this comprehension.\n",
    "\n",
    "In the cell below, take alpha_list = \"ABCDEFGHIJKLMNOPQRSTUVWXYZ\" and transform its letters to lowercase letters, using a list comprehension."
   ]
  },
  {
   "cell_type": "code",
   "execution_count": null,
   "metadata": {},
   "outputs": [],
   "source": []
  },
  {
   "cell_type": "markdown",
   "metadata": {},
   "source": [
    "# Using a list comprehension to get parts of strings #\n",
    "\n",
    "DNAseqs = [\"AATTAATTAATT\",\"ATTAATTAATTA\",\"CCCCTTTTCCCC\",\"GGTTGGTTGGTT\",\"ACACACACACAC\"]\n",
    "\n",
    "In the cell below, use a comprehension to get seq[0:3] for seq in DNASeqs."
   ]
  },
  {
   "cell_type": "code",
   "execution_count": null,
   "metadata": {},
   "outputs": [],
   "source": []
  },
  {
   "cell_type": "markdown",
   "metadata": {},
   "source": [
    "# Turning file elements into lists #\n",
    "\n",
    "I can also use a comprehension if I'm reading a file. Let's say I have list of lines (which is just what .readlines turns a file into) with the format:\n",
    "\n",
    "```lines =\n",
    "[\"SNPid, genotype, pattern\", \"SNPid2, genotype2, pattern\", \"SNPid3, genotype3, pattern\", \"SNPid4, genotype4, pattern2\", \"SNPid5, genotype5, pattern2\",]```\n",
    "\n",
    "A comprehension could get just the first part of the line if the transformation included a .split() method.\n",
    "\n",
    "If I use the comprehension:\n",
    "\n",
    "```snpids = [line.split()[0] for line in lines]```\n",
    "\n",
    "I get the result:\n",
    "\n",
    "```snpids = ['SNPid,', 'SNPid2,', 'SNPid3,', 'SNPid4,', 'SNPid5,']```\n",
    "\n",
    "In the cell below, add the comprehension statement that will get the second field (genotype) in the line."
   ]
  },
  {
   "cell_type": "code",
   "execution_count": null,
   "metadata": {},
   "outputs": [],
   "source": [
    "lines =\n",
    "[\"SNPid, genotype, pattern\", \"SNPid2, genotype2, pattern\", \"SNPid3, genotype3, pattern\", \"SNPid4, genotype4, pattern2\", \"SNPid5, genotype5, pattern2\",]"
   ]
  },
  {
   "cell_type": "markdown",
   "metadata": {},
   "source": [
    "For a reference list of list functions and methods, you can always go back here:\n",
    "\n",
    "https://www.tutorialspoint.com/python/python_lists.htm\n"
   ]
  }
 ],
 "metadata": {
  "kernelspec": {
   "display_name": "Python 3",
   "language": "python",
   "name": "python3"
  },
  "language_info": {
   "codemirror_mode": {
    "name": "ipython",
    "version": 3
   },
   "file_extension": ".py",
   "mimetype": "text/x-python",
   "name": "python",
   "nbconvert_exporter": "python",
   "pygments_lexer": "ipython3",
   "version": "3.7.4"
  }
 },
 "nbformat": 4,
 "nbformat_minor": 2
}
