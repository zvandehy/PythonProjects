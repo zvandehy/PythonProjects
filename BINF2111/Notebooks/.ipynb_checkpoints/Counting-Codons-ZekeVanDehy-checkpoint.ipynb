{
 "cells": [
  {
   "cell_type": "code",
   "execution_count": 1,
   "metadata": {},
   "outputs": [],
   "source": [
    "#Counting Codons Lab Sept. 19 Submission\n",
    "#Oct 8 2020\n",
    "#Zeke Van Dehy"
   ]
  },
  {
   "cell_type": "markdown",
   "metadata": {},
   "source": [
    "# Using multiple loops #\n",
    "\n",
    "What we want to do in this problem is take a DNA sequence and count up how many types of codons are used.\n",
    "\n",
    "The first thing we need is to generate a list that will give us a *reference* list for all the codons. We need that so that we can tell the .count() statement what to count.\n",
    "\n",
    "We did this problem once already to show how loops could nest. You need an outer loop that steps through A,T,G,C to get the first nucleotide, and then an inner loop that does the same thing to get the second nucleotide, and then a further inner loop that gets the third nucleotide.\n",
    "\n",
    "```for i in [A,T,G,C]:\n",
    "    for j in [A,T,G,C]:\n",
    "        for k in [A,T,G,C]:\n",
    "            print(i + j + k)```\n",
    "\n",
    "Modify this code so that:\n",
    "- it's in a function\n",
    "- the codons get appended to a list instead of printed\n",
    "- the function returns the list of codons"
   ]
  },
  {
   "cell_type": "code",
   "execution_count": 5,
   "metadata": {},
   "outputs": [
    {
     "name": "stdout",
     "output_type": "stream",
     "text": [
      "['AAA', 'AAT', 'AAG', 'AAC', 'ATA', 'ATT', 'ATG', 'ATC', 'AGA', 'AGT', 'AGG', 'AGC', 'ACA', 'ACT', 'ACG', 'ACC', 'TAA', 'TAT', 'TAG', 'TAC', 'TTA', 'TTT', 'TTG', 'TTC', 'TGA', 'TGT', 'TGG', 'TGC', 'TCA', 'TCT', 'TCG', 'TCC', 'GAA', 'GAT', 'GAG', 'GAC', 'GTA', 'GTT', 'GTG', 'GTC', 'GGA', 'GGT', 'GGG', 'GGC', 'GCA', 'GCT', 'GCG', 'GCC', 'CAA', 'CAT', 'CAG', 'CAC', 'CTA', 'CTT', 'CTG', 'CTC', 'CGA', 'CGT', 'CGG', 'CGC', 'CCA', 'CCT', 'CCG', 'CCC']\n"
     ]
    }
   ],
   "source": [
    "def getCodons():\n",
    "    codons = []\n",
    "    for i in ['A','T','G','C']:\n",
    "        for j in ['A','T','G','C']:\n",
    "            for k in ['A','T','G','C']:\n",
    "                codons.append(i+j+k)\n",
    "    return codons\n",
    "print(getCodons())"
   ]
  },
  {
   "cell_type": "markdown",
   "metadata": {},
   "source": [
    "# Extracting the codons in one frame #\n",
    "\n",
    "If we just straight up used .count() to count each of our types of codons, that wouldn't quite get us what we want. Gene sequences are read in READING FRAMES, and the codon frequencies that matter are the ones in the encoded genes, not the more random codons in the frames that don't get read. So what we'd really want to do is count only the codons in frame 1, only the codons in frame 2, etc.\n",
    "\n",
    "Let's just start by counting the codons in frame 1. That means we assume that the very first character of the sequence, [0], is also the start of the gene. \n",
    "\n",
    "You'll remember in slice notation, that we can ask for a slice that has *steps*, [start:stop:step], so that we'd only get every third character, or whatever we specified as the step. And if we put -1 in the step field [::-1], we get the whole sequence in reverse.\n",
    "\n",
    "Range can also use a step. Run the cell below to see how it works."
   ]
  },
  {
   "cell_type": "code",
   "execution_count": 55,
   "metadata": {},
   "outputs": [
    {
     "name": "stdout",
     "output_type": "stream",
     "text": [
      "olle\n",
      "0\n",
      "5\n",
      "10\n",
      "15\n",
      "20\n",
      "25\n",
      "30\n",
      "35\n",
      "40\n",
      "45\n",
      "50\n",
      "55\n",
      "60\n",
      "65\n",
      "70\n",
      "75\n",
      "80\n",
      "85\n",
      "90\n",
      "95\n"
     ]
    }
   ],
   "source": [
    "string = \"12345\"\n",
    "print(string[5:0:-1])\n",
    "\n",
    "for i in range(0,100,5):\n",
    "    print(i)"
   ]
  },
  {
   "cell_type": "code",
   "execution_count": 7,
   "metadata": {},
   "outputs": [],
   "source": [
    "TetW = \"\"\"ATGAAAATAATCAATATTGGAATTCTTGCCCATGTAGACGCTGGAAAGACGACCTTGACGGAGAGCCTGC\n",
    "TATATGCCAGCGGAGCCATTTCAGAACCGGGGAGCGTCAAAAAAGGGACAACGAGGACGGACACCATGTT\n",
    "TTTGGAGCGGCAGCGTGGGATTACCATTCAAGCGGCAGTCACTTCCTTCCAGTGGCACAGATGTAAAGTC\n",
    "AACATTGTGGATACGCCCGGCCACATGGATTTTTTGGCGGAGGTGTACCGCTCTTTGGCTGTTTTAGATG\n",
    "GGGCCATCTTGGTGATCTCCGCTAAAGATGGCGTGCAGGCCCAGACCCGTATTCTGTTCCATGCCCTGCG\n",
    "GAAAATGAACATTCCCACCGTTATCTTTATCAACAAGATCGACCAGGCTGGCGTTGATTTGCAGAGCGTG\n",
    "GTTCAGTCTGTTCGGGATAAGCTCTCCGCCGATATTATCATCAAGCAGACGGTGTCGCTGTCCCCGGAAA\n",
    "TAGTCCTGGAGGAAAATACCGACATAGAAGCATGGGATGCGGTCATCGAAAATAACGATAAATTATTGGA\n",
    "AAAGTATATCGCAGGAGAACCAATCAGCCGGGAAAAACTTGTGCGGGAGGAACAGCGGCGGGTTCAAGAC\n",
    "GCCTCCCTGTTCCCGGTCTATTATGGCAGCGCCAAAAAGGGCCTTGGCATTCAACCGTTGATGGATGCGG\n",
    "TGACAGGGCTGTTCCAACCGATTGGGGAACAGGGGAGCGCCGCCCTATGCGGCAGCGTTTTCAAGGTGGA\n",
    "GTATACAGATTGCGGCCAGCGGCGTGTCTATCTACGGCTATACAGCGGAACGCTGCGCCTGCGGGATACG\n",
    "GTGGCCCTGGCCGGGAGAGAAAAGCTGAAAATCACAGAGATGCGTATTCCATCCAAAGGGGAAATTGTTC\n",
    "GGACAGACACCGCTTATCCGGGTGAAATTGTTATCCTTCCCAGCGACAGCGTGAGGTTAAACGATGTATT\n",
    "AGGGGACCCAACCCGGCTCCCTCGTAAAAGGTGGCGTGAGGACCCCCTCCCCATGCTGCGGACGTCGATT\n",
    "GCGCCGAAAACGGCAGCGCAAAGAGAACGGCTGCTGGACGCTCTTACGCAACTTGCGGATACTGACCCGC\n",
    "TTTTGCGCTGCGAGGTGGATTCCATCACCCATGAGATCATTCTTTCTTTTTTGGGCCGGGTGCAGTTGGA\n",
    "GGTTGTTTCCGCTTTGCTGTCGGAAAAATACAAGCTTGAAACAGTGGTAAAGGAACCCACCGTCATTTAT\n",
    "ATGGAGCGGCCGCTCAAAGCAGCCAGCCACACCATCCATATCGAGGTGCCGCCCAACCCGTTTTGGGCAT\n",
    "CCATCGGACTGTCTGTTACACCACTCCCGCTTGGCTCCGGTGTACAATACGAGAGCCGGGTTTCGCTGGG\n",
    "ATACTTGAACCAGAGTTTTCAAAACGCTGTCAGGGATGGTATCCGTTACGGGCTGGAGCAGGGCTTGTTC\n",
    "GGCTGGAACGTAACGGACTGTAAGATTTGCTTTGAATACGGGCTTTATTACAGTCCGGTCAGCACGCCGG\n",
    "CGGACTTCCGCTCATTGGCCCCGATTGTATTGGAACAGGCATTGAAGGAATCAGGGACGCAACTGCTGGA\n",
    "ACCTTATCTCTCCTTCACCCTCTATGCGCCCCGGGAATATCTTTCCAGGGCTTATCATGATGCACCGAAA\n",
    "TACTGTGCCACCATCGAAACGGTCCAGGTAAAAAAGGATGAAGTTGTCTTTACTGGCGAGATTCCCGCCC\n",
    "GCTGTATACAGGCATACCGTACTGATCTGGCCTCTTACACCAACGGGCAGAGCGTATGCCTTACAGAACT\n",
    "GAAAGGGTATCAGGCCGCTGTCGGCAAGCCAGTCATCCAGCCCCGCCGTCCAAACAGCCGCCTGGACAAG\n",
    "GTGCGCTATATGTTTCAGAAGATAATGTAA\"\"\"\n",
    "Tetlist = TetW.split()\n",
    "TetW = \"\".join(Tetlist)"
   ]
  },
  {
   "cell_type": "markdown",
   "metadata": {},
   "source": [
    "# Combine range with step and slicing #\n",
    "\n",
    "The sequence above, which has been assigned to the variable name TetW for your convenience, is a bacterial antibiotic resistance gene that is acquired by bacteria as part of a plasmid. It is a single-exon gene, and obeys the typical genetic code shown in the slides. In the first cell below, calculate the length of TetW and find out whether it is divisible by 3.\n",
    "\n",
    "Then consider how you would combine the range with step and taking a slice of the sequence to break out each codon as an individual item. \n",
    "\n",
    "- the range counter is going to be a part of the slice equation so that the slice changes as it increments up\n",
    "- remember to define empty lists you need outside the loop, and .append() inside the loop\n",
    "\n",
    "In the second cell below, write a for loop that steps through the codons in a sequence in one frame and adds them to a list."
   ]
  },
  {
   "cell_type": "code",
   "execution_count": 10,
   "metadata": {
    "scrolled": true
   },
   "outputs": [
    {
     "name": "stdout",
     "output_type": "stream",
     "text": [
      "Divisible by 3\n"
     ]
    }
   ],
   "source": [
    "if(len(TetW) % 3 == 0):\n",
    "    print(\"Divisible by 3\")\n",
    "else:\n",
    "    print(\"Not divisible by 3\")"
   ]
  },
  {
   "cell_type": "code",
   "execution_count": 14,
   "metadata": {},
   "outputs": [
    {
     "name": "stdout",
     "output_type": "stream",
     "text": [
      "640\n",
      "640\n"
     ]
    }
   ],
   "source": [
    "codons = []\n",
    "for i in range(0,len(TetW),3):\n",
    "    codons.append(TetW[i:i+3])\n",
    "print(len(codons))\n",
    "print(len(TetW)//3) #should be the same\n",
    "    "
   ]
  },
  {
   "cell_type": "markdown",
   "metadata": {},
   "source": [
    "# Extracting the codons in all the frames #\n",
    "\n",
    "This is the hard part. There are six \"frames\" in which a strand of DNA could theoretically be read. You could label them 1, 2, 3, -1, -2, -3. Can you design a loop that will extract the codons from each frame in this list?  It would probably help to use an if/else loop where you did one thing if the frame index was negative, and another thing if it was positive.\n",
    "\n",
    "This is the hardest part of the assignment, and it's hard because of slice math. See, if you try to slice things or find a range index that are outside of the length of the string, you'll create an error. So you have to do some complicated string math to get the loop to stop looping where it should.\n",
    "\n",
    "Let's see what happens with a bad ranged loop with a slice that reaches beyond the end of the string. The last two pieces aren't full codons, right? Plus, the length of the string might not even be divisible by 3. Check that in the cell below."
   ]
  },
  {
   "cell_type": "code",
   "execution_count": 15,
   "metadata": {},
   "outputs": [
    {
     "name": "stdout",
     "output_type": "stream",
     "text": [
      "ABC\n",
      "DEF\n",
      "GHI\n",
      "JKL\n",
      "MNO\n",
      "PQR\n",
      "STU\n",
      "VWX\n"
     ]
    }
   ],
   "source": [
    "string = \"ABCDEFGHIJKLMNOPQRSTUVWXYZ\"\n",
    "for i in range(0,len(string) - 2,3):\n",
    "    codon = string[i:i+3]\n",
    "    print(codon)"
   ]
  },
  {
   "cell_type": "markdown",
   "metadata": {},
   "source": [
    "So we need to get loop delimiters for each frame and they're going to be a little different depending on where the frame starts and ends within the sequence you have.\n",
    "\n",
    "To solve this, I had to use:\n",
    "- math\n",
    "- floor division to make sure all the length cases were handled\n",
    "- because zero can't be in the list of frames (it can't have both a positive and negative value) I had to remember to shift the frame index to [0,1,2] once I was doing the math\n",
    "- I had to reverse the string for the negative cases\n",
    "- I had to use abs() on the frame index once I was inside the else block\n",
    "\n",
    "I'm going to show you a partially worked through solution for this. I don't want to give you the whole answer, obviously, but this for loop produces a range start and end for each frame and also creates the reversed DNASeq. \n",
    "\n",
    "The values that are printed at the end could easily be appended to 3 lists instead, and you could iterate over those to get your codons for each frame (which will themselves be a list, and individual codons will need to be counted with .count())\n",
    "\n",
    "You can work on this in here, or you can take it out to a separate script in BBEdit, as I showed you in class. It's probably a good idea to start getting the feel for working outside of Jupyter now as the lab problems will get bigger.\n",
    "\n",
    "```for frame in frames:\n",
    "\tseqlist = []\n",
    "\tframeslist = []\n",
    "\tframeelist = []\n",
    "\tif frame > 0:\n",
    "\t\tstart = frame - 1\n",
    "\t\tend = (((len(DNASeq) - start) // 3) * 3) - (2 - start)\n",
    "\t\tprint(DNASeq[0:10], start, end)\n",
    "\telse:\n",
    "\t\tframe = abs(frame)\n",
    "\t\trevDNASeq = DNASeq[::-1]\n",
    "\t\tstart = frame - 1\n",
    "\t\tend = (((len(revDNASeq) - start) // 3) * 3) - (2 - start)\n",
    "\t\tprint(revDNASeq[0:10], start, end)```"
   ]
  },
  {
   "cell_type": "code",
   "execution_count": 45,
   "metadata": {},
   "outputs": [],
   "source": [
    "def readFrames(DNASeq):\n",
    "    frames = [1,2,3,-1,-2,-3]\n",
    "    frameslist = [] #will be a list of seqlists\n",
    "    for frame in frames:\n",
    "        seqlist = []\n",
    "        if frame > 0:\n",
    "            start = frame - 1\n",
    "            end = (((len(DNASeq) - start) // 3) * 3) - (2 - start)\n",
    "            for i in range(start,end,3):\n",
    "                seqlist.append(TetW[i:i+3])\n",
    "            frameslist.append(seqlist)\n",
    "            print(frame, \" \"+DNASeq[0:10], start, end)\n",
    "        else:\n",
    "            frame = abs(frame)\n",
    "            revDNASeq = DNASeq[::-1]\n",
    "            start = frame - 1\n",
    "            end = (((len(revDNASeq) - start) // 3) * 3) - (2 - start)\n",
    "            for i in range(start,end,3):\n",
    "                seqlist.append(TetW[i:i+3])\n",
    "            frameslist.append(seqlist)\n",
    "            print(-1*frame, revDNASeq[0:10], start, end)\n",
    "    print(len(frameslist))\n",
    "    for f in range(len(frameslist)):\n",
    "            print(frames[f], frameslist[f][0:10])"
   ]
  },
  {
   "cell_type": "code",
   "execution_count": 46,
   "metadata": {},
   "outputs": [
    {
     "name": "stdout",
     "output_type": "stream",
     "text": [
      "1  ATGAAAATAA 0 1918\n",
      "2  ATGAAAATAA 1 1916\n",
      "3  ATGAAAATAA 2 1917\n",
      "-1 AATGTAATAG 0 1918\n",
      "-2 AATGTAATAG 1 1916\n",
      "-3 AATGTAATAG 2 1917\n",
      "6\n",
      "1 ['ATG', 'AAA', 'ATA', 'ATC', 'AAT', 'ATT', 'GGA', 'ATT', 'CTT', 'GCC']\n",
      "2 ['TGA', 'AAA', 'TAA', 'TCA', 'ATA', 'TTG', 'GAA', 'TTC', 'TTG', 'CCC']\n",
      "3 ['GAA', 'AAT', 'AAT', 'CAA', 'TAT', 'TGG', 'AAT', 'TCT', 'TGC', 'CCA']\n",
      "-1 ['ATG', 'AAA', 'ATA', 'ATC', 'AAT', 'ATT', 'GGA', 'ATT', 'CTT', 'GCC']\n",
      "-2 ['TGA', 'AAA', 'TAA', 'TCA', 'ATA', 'TTG', 'GAA', 'TTC', 'TTG', 'CCC']\n",
      "-3 ['GAA', 'AAT', 'AAT', 'CAA', 'TAT', 'TGG', 'AAT', 'TCT', 'TGC', 'CCA']\n"
     ]
    }
   ],
   "source": [
    "readFrames(TetW)"
   ]
  },
  {
   "cell_type": "markdown",
   "metadata": {},
   "source": [
    "# Which frame has the most stop codons? #\n",
    "\n",
    "Once you have a list of start and stop and the DNASeq that goes with each, you can extract codons for any frame in the DNA sequence by passing those values to a function that uses them, which will just be a slight modification of your codon counting one-off above. \n",
    "\n",
    "The stop codon stops translation of a DNA sequence. TAA, TAG, or TGA are the typical stop codons. Now that you've counted the codons in each frame of this gene, which frame is the least broken up by stop codons? For bacteria, this is a primitive method of identifying where functional genes exist in the genome -- it's called identifying Open Reading Frames, and it is a first step in the pipeline of bacterial genefinding."
   ]
  },
  {
   "cell_type": "markdown",
   "metadata": {},
   "source": [
    "You can use this markdown cell to give me your answer to the question."
   ]
  }
 ],
 "metadata": {
  "kernelspec": {
   "display_name": "Python 3",
   "language": "python",
   "name": "python3"
  },
  "language_info": {
   "codemirror_mode": {
    "name": "ipython",
    "version": 3
   },
   "file_extension": ".py",
   "mimetype": "text/x-python",
   "name": "python",
   "nbconvert_exporter": "python",
   "pygments_lexer": "ipython3",
   "version": "3.9.0"
  }
 },
 "nbformat": 4,
 "nbformat_minor": 4
}
