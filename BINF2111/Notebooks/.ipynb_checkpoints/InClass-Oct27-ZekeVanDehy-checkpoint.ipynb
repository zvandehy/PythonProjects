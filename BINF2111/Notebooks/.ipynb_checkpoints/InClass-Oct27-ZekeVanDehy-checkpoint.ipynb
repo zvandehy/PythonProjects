{
 "cells": [
  {
   "cell_type": "code",
   "execution_count": null,
   "metadata": {},
   "outputs": [],
   "source": [
    "# Lists, Matrices, Tuples -- In Class Oct 10\n",
    "# Zeke Van Dehy\n",
    "# Oct 27, 2020"
   ]
  },
  {
   "cell_type": "markdown",
   "metadata": {},
   "source": [
    "# Getting data into a structure #\n",
    "\n",
    "We've already covered how to make lists many times.\n",
    "\n",
    "We've also seen tuples as the return values of functions, or as the outcome of zipping together individual lists. Let's try a few more operations of this kind with a little file of amino acid molecular weights, aamw.txt.\n",
    "\n",
    "aamw.txt has 22 lines. The top two lines are comments. It is formatted in two columns separated by whitespace. I included it for you on the Canvas -- open it up and see.\n",
    "\n",
    "For this file, what would we need to do to read the lines and return the values as two lists? Put your code in a function, and have it return the two lists. Show how you'd call the function to get the two lists as separate objects."
   ]
  },
  {
   "cell_type": "code",
   "execution_count": 10,
   "metadata": {},
   "outputs": [
    {
     "name": "stdout",
     "output_type": "stream",
     "text": [
      "I 131.1736\n",
      "L 131.1736\n",
      "K 146.1882\n",
      "M 149.2124\n",
      "F 165.19\n",
      "T 119.1197\n",
      "W 204.2262\n",
      "V 117.1469\n",
      "R 174.2017\n",
      "H 155.1552\n",
      "A 89.0935\n",
      "N 132.1184\n",
      "D 133.1032\n",
      "C 121.159\n",
      "E 147.1299\n",
      "Q 146.1451\n",
      "G 75.0669\n",
      "P 115.131\n",
      "S 105.093\n",
      "Y 181.1894\n"
     ]
    }
   ],
   "source": [
    "def myFunction():\n",
    "    weights = []\n",
    "    aas = []\n",
    "    with open(\"aamw.txt\") as molweights:\n",
    "        for line in molweights.readlines():\n",
    "            if(line[0] != \"#\"):\n",
    "                mw = line.split()\n",
    "                aas.append(mw[0])\n",
    "                weights.append(float(mw[1]))\n",
    "    return aas, weights\n",
    "\n",
    "aas, weights = myFunction()\n",
    "for i, weight in enumerate(weights):\n",
    "    print(aas[i],weight)\n",
    "    \n"
   ]
  },
  {
   "cell_type": "markdown",
   "metadata": {},
   "source": [
    "# Getting it back out again #\n",
    "\n",
    "Now, what would we need to do to get the molecular weight of an amino acid in the second list out, based on the position of its code in the first list? Use .index(). We first learned this on Oct. 3."
   ]
  },
  {
   "cell_type": "code",
   "execution_count": 11,
   "metadata": {},
   "outputs": [
    {
     "data": {
      "text/plain": [
       "204.2262"
      ]
     },
     "execution_count": 11,
     "metadata": {},
     "output_type": "execute_result"
    }
   ],
   "source": [
    "def getWeight(aa):\n",
    "    aas, weights = myFunction()\n",
    "    return weights[aas.index(aa)]\n",
    "getWeight(\"W\")"
   ]
  },
  {
   "cell_type": "markdown",
   "metadata": {},
   "source": [
    "# What if we zip the lists together? #\n",
    "\n",
    "Now create some code that zips the two lists you make above together into a list of tuples. Put your code in a function, and have it return the list of tuples.\n",
    "\n",
    "The list of tuples should look like this:\n",
    "\n",
    "```[('I', '131.1736'), ('L', '131.1736'), ('K', '146.1882'), ('M', '149.2124'), ('F', '165.1900'), ('T', '119.1197'), ('W', '204.2262'), ('V', '117.1469'), ('R', '174.2017'), ('H', '155.1552'), ('A', '89.0935'), ('N', '132.1184'), ('D', '133.1032'), ('C', '121.1590'), ('E', '147.1299'), ('Q', '146.1451'), ('G', '75.0669'), ('P', '115.1310'), ('S', '105.0930'), ('Y', '181.1894')]```"
   ]
  },
  {
   "cell_type": "code",
   "execution_count": 14,
   "metadata": {},
   "outputs": [
    {
     "name": "stdout",
     "output_type": "stream",
     "text": [
      "[('I', 131.1736), ('L', 131.1736), ('K', 146.1882), ('M', 149.2124), ('F', 165.19), ('T', 119.1197), ('W', 204.2262), ('V', 117.1469), ('R', 174.2017), ('H', 155.1552), ('A', 89.0935), ('N', 132.1184), ('D', 133.1032), ('C', 121.159), ('E', 147.1299), ('Q', 146.1451), ('G', 75.0669), ('P', 115.131), ('S', 105.093), ('Y', 181.1894)]\n"
     ]
    }
   ],
   "source": [
    "def myTuplesFunction():\n",
    "    aas, weights = myFunction()\n",
    "    return list(zip(aas, weights))\n",
    "print(myTuplesFunction())\n",
    "    "
   ]
  },
  {
   "cell_type": "markdown",
   "metadata": {},
   "source": [
    "# How do we get values back out of a list of tuples? #\n",
    "\n",
    "To get an individual value back out of a list of tuples, we have to set our conditions such that we look at the content of a specific slice of the tuple. We can't .index() based on a slice, so we have to do this another way.\n",
    "\n",
    "In the amino acid molecular weight list of tuples above, I could get the index of an specific element (tuple) in the list, based on whether it matches a particular amino acid code, by writing:\n",
    "\n",
    "```next(i for i,aa in enumerate(molweights) if aa[0] = \"C\").``` \n",
    "\n",
    "# Generator expressions and the next keyword #\n",
    "\n",
    "Notice that this expression looks almost exactly like a list comprehension, which we saw last week. But it's called a \"generator expression\" -- basically a list comprehension without the [] and with a *next* keyword to get the value from the generator. We can use these when we don't want to store another list in memory and/or we don't need to use a list method or slice operator on the result. \n",
    "\n",
    "This recipe will work to look up individual values as long as there are not multiple pairs that have \"C\" in position [0] in the tuple. (This is the same as having to have a unique key in a dictionary for those who already know what that is).\n",
    "\n",
    "How would I get the *molecular weight* value that corresponds to a particular amino acid here? Try your code and make sure that it works (by checking the file to make sure you get the right value). We'll use this statement in the next problem, so if you can't get it to work, ask."
   ]
  },
  {
   "cell_type": "code",
   "execution_count": 27,
   "metadata": {},
   "outputs": [
    {
     "name": "stdout",
     "output_type": "stream",
     "text": [
      "121.159\n"
     ]
    }
   ],
   "source": [
    "molweights = myTuplesFunction()\n",
    "# print(molweights)\n",
    "\n",
    "# aa = input(\"Which amino acid? \")\n",
    "aa = \"C\"\n",
    "\n",
    "\n",
    "print(next(tup[1] for i, tup in enumerate(molweights) if tup[0] == aa))\n"
   ]
  },
  {
   "cell_type": "markdown",
   "metadata": {},
   "source": [
    "# Use this in a calculation #\n",
    "\n",
    "Say I have the tuple of molecular weights that we created above, and I have a protein sequence string,  \"MALWMRLLPLLALLALWGPDPAAAFVNQHLCGSHLVEALYLVCGERGFFYTPKTRREAEDLQVGQVELGGGPGAGSLQPLALEGSLQKRGIVEQCCTSICSLYQLENYCN\" (our old friend human insulin). \n",
    "\n",
    "For each character in this sequence, get the value of the molecular weight that corresponds to the character. Append it to a list. Sum the list to get the total molecular weight of the protein."
   ]
  },
  {
   "cell_type": "code",
   "execution_count": 43,
   "metadata": {},
   "outputs": [
    {
     "name": "stdout",
     "output_type": "stream",
     "text": [
      "13944.519099999992\n"
     ]
    }
   ],
   "source": [
    "protein = \"MALWMRLLPLLALLALWGPDPAAAFVNQHLCGSHLVEALYLVCGERGFFYTPKTRREAEDLQVGQVELGGGPGAGSLQPLALEGSLQKRGIVEQCCTSICSLYQLENYCN\"\n",
    "molweights = myTuplesFunction()\n",
    "\n",
    "def getWeight(sequence):\n",
    "    allWeights = []\n",
    "    for p in sequence:\n",
    "        weight = next(tup[1] for i, tup in enumerate(molweights) if tup[0] == p)\n",
    "        allWeights.append(weight)\n",
    "    return sum(allWeights)\n",
    "\n",
    "\n",
    "print(getWeight(protein))"
   ]
  },
  {
   "cell_type": "markdown",
   "metadata": {},
   "source": [
    "# Use this with map() #\n",
    "\n",
    "Now, let's scale it up. The file mockfaa.txt, which you have seen before, has multiple proteins in it. We can get them out and into a list, using the fasta parser that we've seen before in class. Make the molecular weight calculator into a function and use map() to get a result for each of the sequences in the mockfaa.txt file.\n",
    "\n",
    "*DO WE NEED TO GO OVER THE FASTA PARSER?*"
   ]
  },
  {
   "cell_type": "code",
   "execution_count": 45,
   "metadata": {},
   "outputs": [
    {
     "name": "stdout",
     "output_type": "stream",
     "text": [
      ">gi|544163660|ref|YP_008563067.1| ribosomal protein S12 (chloroplast) [Solanum lycopersicum]\n",
      "\n",
      "15935.872599999988\n",
      "-----\n",
      ">gi|544163593|ref|YP_008563068.1| photosystem II protein D1 (chloroplast) [Solanum lycopersicum]\n",
      "\n",
      "45291.684000000045\n",
      "-----\n",
      ">gi|544163594|ref|YP_008563069.1| maturase K (chloroplast) [Solanum lycopersicum]\n",
      "\n",
      "69127.50150000004\n",
      "-----\n",
      ">gi|544163595|ref|YP_008563070.1| ribosomal protein S16 (chloroplast) [Solanum lycopersicum]\n",
      "\n",
      "11947.497799999997\n",
      "-----\n",
      ">gi|544163596|ref|YP_008563071.1| photosystem II protein K (chloroplast) [Solanum lycopersicum]\n",
      "\n",
      "8011.152799999998\n",
      "-----\n",
      ">gi|544163597|ref|YP_008563072.1| photosystem II protein I (chloroplast) [Solanum lycopersicum]\n",
      "\n",
      "4798.424099999999\n",
      "-----\n",
      ">gi|544163598|ref|YP_008563073.1| ATP synthase CF1 alpha subunit (chloroplast) [Solanum lycopersicum]\n",
      "\n",
      "64526.667400000144\n",
      "-----\n",
      ">gi|544163599|ref|YP_008563074.1| ATP synthase CF0 subunit I (chloroplast) [Solanum lycopersicum]\n",
      "\n",
      "24168.386099999985\n",
      "-----\n",
      ">gi|544163600|ref|YP_008563075.1| ATP synthase CF0 subunit III (chloroplast) [Solanum lycopersicum]\n",
      "\n",
      "9431.607599999998\n",
      "-----\n",
      ">gi|544163601|ref|YP_008563076.1| ATP synthase CF0 subunit IV (chloroplast) [Solanum lycopersicum]\n",
      "\n",
      "31462.287599999945\n",
      "-----\n"
     ]
    }
   ],
   "source": [
    "def read_FASTA(file):\n",
    "    contents = [] #list of tuples (desc,seq)\n",
    "    desc = \"\"\n",
    "    seq = \"\"\n",
    "    for line in file.readlines():\n",
    "        if line[0] == \">\": #if description\n",
    "            if desc != \"\" and seq != \"\": #if not the first line\n",
    "                contents.append((desc,seq.replace(\"\\n\",\"\"))) #save the last line's contents\n",
    "                seq = \"\" #reset seq\n",
    "            desc = line #(re)set desc to new description\n",
    "        else:\n",
    "            seq += line #append this line to seq (if first line of seq, will append to \"\")\n",
    "    return contents #return list of tuples\n",
    "\n",
    "with open(\"InClass-Files-Oct20/mockfaa.txt\") as mockfaaFile:\n",
    "    for (desc, sequence) in read_FASTA(mockfaaFile):\n",
    "        print(desc)\n",
    "        print(getWeight(sequence))\n",
    "        print(\"-----\")\n",
    "    "
   ]
  },
  {
   "cell_type": "markdown",
   "metadata": {},
   "source": [
    "# Fastq sorting -- basic -- values into lists #\n",
    "\n",
    "Below we've got an example of the simple fastq code. This one isn't a function or a generator or anything fancy. It's a simple loop inside a with block. Think about this code and do two things with it.\n",
    "\n",
    "1) Change the code so that it uses enumerate() and still gets the correct lines into the correct variables\n",
    "2) Fill in the blank at the bottom to get the values into lists."
   ]
  },
  {
   "cell_type": "code",
   "execution_count": 7,
   "metadata": {},
   "outputs": [
    {
     "name": "stdout",
     "output_type": "stream",
     "text": [
      "['@SRR1391072.1 HISEQ:120:D1GR1ACXX:5:1101:1563:1989 length=100\\n',\n",
      " '@SRR1391072.2 HISEQ:120:D1GR1ACXX:5:1101:2058:1997 length=100\\n',\n",
      " '@SRR1391072.3 HISEQ:120:D1GR1ACXX:5:1101:2679:1989 length=100\\n',\n",
      " '@SRR1391072.4 HISEQ:120:D1GR1ACXX:5:1101:4135:1999 length=100\\n',\n",
      " '@SRR1391072.5 HISEQ:120:D1GR1ACXX:5:1101:4181:1999 length=100\\n',\n",
      " '@SRR1391072.6 HISEQ:120:D1GR1ACXX:5:1101:4788:1996 length=100\\n',\n",
      " '@SRR1391072.7 HISEQ:120:D1GR1ACXX:5:1101:5911:1991 length=100\\n',\n",
      " '@SRR1391072.8 HISEQ:120:D1GR1ACXX:5:1101:6379:1991 length=100\\n',\n",
      " '@SRR1391072.9 HISEQ:120:D1GR1ACXX:5:1101:6269:1993 length=100\\n',\n",
      " '@SRR1391072.10 HISEQ:120:D1GR1ACXX:5:1101:6745:1989 length=100\\n']\n",
      "['ACATGTTGCCGTNATTAAGGTTCCTAAAGGACAGCTAATTGCTTCCGCGATTCATGAAGATCTATACGNNNNCATNAACGAGGNNNNNNAANANNNNNNACGACAA\\n',\n",
      " 'CTTGTACGGCGATTTAAGCAATGAACTGTGTGACACCATTGGTGAGTACCAAGTGGATTTCCGGGTGTGNNNCCATCACCAAGATNTTTGGAGNANNCTGCTCTCT\\n',\n",
      " 'GCCAATAATCAGNTGCGGCTCTTGCGGTCAATGTCGGGCATTTTGATGATCCTATCGAACGAGAAGGTNNNNCCCNTTATCTTNNNNNNATNCNNNNNNTGGGGAC\\n',\n",
      " 'GATCAGAGGATGGTTACTACTAAGGAAGGCAATGGACACCTCTGGATGAGGCAAGGACTGAACATCAGGNNNATGTCAGGGCCACNGCTCAGGNANNAAGTGATGT\\n',\n",
      " 'TAGCTTTACCTACTGGGCCCTGTGGGCGGTGGTAAATCGTCGCTGGCAGAAAAGCTCAAAGCATTAATGNNNCAAATGCCGATTTNCGTGCTCNCNNCCAACGGGA\\n',\n",
      " 'TGACCAACATCCAGTAACAGTTGGACACTGTATACATTTGGCGAGAACCCACGGAAGGCAGATAACTTANNNAAGNGTTTTTTTGNTNNCTTTNTNNTATTATCAA\\n',\n",
      " 'TTAGGCACAGGTGTTAACTTAGGTATCTTTGGTGCATCGAAAGTAAACCAAGAAATGACTGGTGCGTCANNNGGTNTCTTCAACNNGNNTANTNNNNANACCACAG\\n',\n",
      " 'ACATGTATGCCCGCACTGGTGATTTCACCACTTACTACTTCCCAAAACCGGGCCAAACCACCCCCCTACNNNAGTNGAGTTACTNNANNTTNANNNNGNAGTGGGA\\n',\n",
      " 'TGACCAATACTGCATACAAAAGGTGGAGAAGCCGATATGTCACTGGGAAGTGTATTACATAAAGGCGAANNNGAANATGAACTTNNGNNACTTNNNNANCTTACTG\\n',\n",
      " 'TTAGGCGACAGGNACAAAGCCTAAAGGATTGGGTATCTTCAGGATGAAGATTTGATAACTTAGGATGANNNNTCANCAAGGACNNNNNNCTNTNNNNNNGAGTTAC\\n']\n",
      "['BBBBBBBBCFFD#2ADHHHJHHGIJJIJIJJJIJJJJJJJEGGIHJJJIIIJJJJJIIJJJJJJJJJJ####,,;#,;?ABBB#######################\\n',\n",
      " '@@@@@@@@@DDADDBH?CDB?<FFDBED?H???C?F1?DFA>F;<??DD@B9B*??B==B.B(5;;>EE#####################################\\n',\n",
      " 'CCCCCCCCCFFF#2CFHHHJJJJJJJJFIJJJFHIJJJJJJJJJGHIIJIJIJJJJJHHHFFFDDEDC######################################\\n',\n",
      " '@@@@@@@@@:B3AADFBH>CBEGG@IHIGIEAHHIIGEBF>FDB>FGEEFAD0???DAD===)=884@######################################\\n',\n",
      " 'CCCCCCCCCFFFFFHHHHHJJJJJJJJJJIJJDBGIIJJJJGIEIHHHHFFF@AEEEEEDDDDDDDDED###,,8?BDDDD@BDB#+8?BDDD#+##+2<<BDBBB\\n',\n",
      " 'CCCCCCCCCFFFFFHHHHHJJJJJJJJJJJIJJJJJJJJIJJJJJJJJJJIJJJJJJJJJJJFHHHHHH###,5;#,5=@B@DDB#+##+2<?#+##++8@BDCCA\\n',\n",
      " '@@@@@@@@@FFBDDDHFFHIJJJDHIIIIIIJH=HHGIIJJJB?FFHEHIJIGGDHEGGEGIIGGE;A<###--;#,5;?ACCC######################\\n',\n",
      " 'CCCCCCCCCFFFFFHHHHHFHIJJIIJIJJIJJIIIIIIIGJIJIFIGIIHIIIIIGIHFHFFFBBDDD###,,8#+2<?BCCC######################\\n',\n",
      " '111111111442222ABAFGI>?<A1A@?C+C;?)))000??################################################################\\n',\n",
      " 'CCCCCCCCCFFF#2AFHHHJJJJJJJJHIIJJJFHIIJJJICHIJJJJJIJJJIJJJJJJJJGIIIJJ####--;#-;BEFEC#######################\\n']\n"
     ]
    }
   ],
   "source": [
    "import pprint\n",
    "pp = pprint.PrettyPrinter()\n",
    "with open(\"sequences.fastq\") as fastq:\n",
    "    fqnames = []\n",
    "    fqseqs = []\n",
    "    fqquals = []\n",
    "    for i,line in enumerate(fastq.readlines()):\n",
    "        if i % 4 == 0:\n",
    "            fqname = line\n",
    "            fqnames.append(fqname)\n",
    "            i = i+1\n",
    "        elif i % 4 == 1:\n",
    "            fqseq = line\n",
    "            fqseqs.append(fqseq)\n",
    "            i = i+1\n",
    "        elif i % 4 == 2:\n",
    "            i = i+1 #ignore +\n",
    "        elif i % 4 == 3:\n",
    "            fqqual = line\n",
    "            fqquals.append(fqqual)\n",
    "    pp.pprint(fqnames[:10])\n",
    "    pp.pprint(fqseqs[:10])\n",
    "    pp.pprint(fqquals[:10])"
   ]
  },
  {
   "cell_type": "markdown",
   "metadata": {},
   "source": [
    "# Less basic -- do it in a function, and return a list of 3 part tuples #\n",
    "\n",
    "What do we really want out of this file?\n",
    "\n",
    "1) We want the comment string, sequence, and quality scores.\n",
    "2) We want the three items that pertain to each unique sequence to be linked together.\n",
    "3) In the Fastq Sorting problem, we want to be able to search based on whether there is a known barcode tag in the first 6 characters of the sequence.\n",
    "\n",
    "We solved the first part in the cell above. Solve the next part by changing the code. Make the existing code into a function that returns a list of three-part tuples."
   ]
  },
  {
   "cell_type": "code",
   "execution_count": 12,
   "metadata": {},
   "outputs": [
    {
     "name": "stdout",
     "output_type": "stream",
     "text": [
      "[('@SRR1391072.1 HISEQ:120:D1GR1ACXX:5:1101:1563:1989 length=100\\n',\n",
      "  'ACATGTTGCCGTNATTAAGGTTCCTAAAGGACAGCTAATTGCTTCCGCGATTCATGAAGATCTATACGNNNNCATNAACGAGGNNNNNNAANANNNNNNACGACAA\\n',\n",
      "  'BBBBBBBBCFFD#2ADHHHJHHGIJJIJIJJJIJJJJJJJEGGIHJJJIIIJJJJJIIJJJJJJJJJJ####,,;#,;?ABBB#######################\\n'),\n",
      " ('@SRR1391072.2 HISEQ:120:D1GR1ACXX:5:1101:2058:1997 length=100\\n',\n",
      "  'CTTGTACGGCGATTTAAGCAATGAACTGTGTGACACCATTGGTGAGTACCAAGTGGATTTCCGGGTGTGNNNCCATCACCAAGATNTTTGGAGNANNCTGCTCTCT\\n',\n",
      "  '@@@@@@@@@DDADDBH?CDB?<FFDBED?H???C?F1?DFA>F;<??DD@B9B*??B==B.B(5;;>EE#####################################\\n'),\n",
      " ('@SRR1391072.3 HISEQ:120:D1GR1ACXX:5:1101:2679:1989 length=100\\n',\n",
      "  'GCCAATAATCAGNTGCGGCTCTTGCGGTCAATGTCGGGCATTTTGATGATCCTATCGAACGAGAAGGTNNNNCCCNTTATCTTNNNNNNATNCNNNNNNTGGGGAC\\n',\n",
      "  'CCCCCCCCCFFF#2CFHHHJJJJJJJJFIJJJFHIJJJJJJJJJGHIIJIJIJJJJJHHHFFFDDEDC######################################\\n'),\n",
      " ('@SRR1391072.4 HISEQ:120:D1GR1ACXX:5:1101:4135:1999 length=100\\n',\n",
      "  'GATCAGAGGATGGTTACTACTAAGGAAGGCAATGGACACCTCTGGATGAGGCAAGGACTGAACATCAGGNNNATGTCAGGGCCACNGCTCAGGNANNAAGTGATGT\\n',\n",
      "  '@@@@@@@@@:B3AADFBH>CBEGG@IHIGIEAHHIIGEBF>FDB>FGEEFAD0???DAD===)=884@######################################\\n'),\n",
      " ('@SRR1391072.5 HISEQ:120:D1GR1ACXX:5:1101:4181:1999 length=100\\n',\n",
      "  'TAGCTTTACCTACTGGGCCCTGTGGGCGGTGGTAAATCGTCGCTGGCAGAAAAGCTCAAAGCATTAATGNNNCAAATGCCGATTTNCGTGCTCNCNNCCAACGGGA\\n',\n",
      "  'CCCCCCCCCFFFFFHHHHHJJJJJJJJJJIJJDBGIIJJJJGIEIHHHHFFF@AEEEEEDDDDDDDDED###,,8?BDDDD@BDB#+8?BDDD#+##+2<<BDBBB\\n'),\n",
      " ('@SRR1391072.6 HISEQ:120:D1GR1ACXX:5:1101:4788:1996 length=100\\n',\n",
      "  'TGACCAACATCCAGTAACAGTTGGACACTGTATACATTTGGCGAGAACCCACGGAAGGCAGATAACTTANNNAAGNGTTTTTTTGNTNNCTTTNTNNTATTATCAA\\n',\n",
      "  'CCCCCCCCCFFFFFHHHHHJJJJJJJJJJJIJJJJJJJJIJJJJJJJJJJIJJJJJJJJJJJFHHHHHH###,5;#,5=@B@DDB#+##+2<?#+##++8@BDCCA\\n'),\n",
      " ('@SRR1391072.7 HISEQ:120:D1GR1ACXX:5:1101:5911:1991 length=100\\n',\n",
      "  'TTAGGCACAGGTGTTAACTTAGGTATCTTTGGTGCATCGAAAGTAAACCAAGAAATGACTGGTGCGTCANNNGGTNTCTTCAACNNGNNTANTNNNNANACCACAG\\n',\n",
      "  '@@@@@@@@@FFBDDDHFFHIJJJDHIIIIIIJH=HHGIIJJJB?FFHEHIJIGGDHEGGEGIIGGE;A<###--;#,5;?ACCC######################\\n'),\n",
      " ('@SRR1391072.8 HISEQ:120:D1GR1ACXX:5:1101:6379:1991 length=100\\n',\n",
      "  'ACATGTATGCCCGCACTGGTGATTTCACCACTTACTACTTCCCAAAACCGGGCCAAACCACCCCCCTACNNNAGTNGAGTTACTNNANNTTNANNNNGNAGTGGGA\\n',\n",
      "  'CCCCCCCCCFFFFFHHHHHFHIJJIIJIJJIJJIIIIIIIGJIJIFIGIIHIIIIIGIHFHFFFBBDDD###,,8#+2<?BCCC######################\\n'),\n",
      " ('@SRR1391072.9 HISEQ:120:D1GR1ACXX:5:1101:6269:1993 length=100\\n',\n",
      "  'TGACCAATACTGCATACAAAAGGTGGAGAAGCCGATATGTCACTGGGAAGTGTATTACATAAAGGCGAANNNGAANATGAACTTNNGNNACTTNNNNANCTTACTG\\n',\n",
      "  '111111111442222ABAFGI>?<A1A@?C+C;?)))000??################################################################\\n'),\n",
      " ('@SRR1391072.10 HISEQ:120:D1GR1ACXX:5:1101:6745:1989 length=100\\n',\n",
      "  'TTAGGCGACAGGNACAAAGCCTAAAGGATTGGGTATCTTCAGGATGAAGATTTGATAACTTAGGATGANNNNTCANCAAGGACNNNNNNCTNTNNNNNNGAGTTAC\\n',\n",
      "  'CCCCCCCCCFFF#2AFHHHJJJJJJJJHIIJJJFHIIJJJICHIJJJJJIJJJIJJJJJJJJGIIIJJ####--;#-;BEFEC#######################\\n')]\n"
     ]
    }
   ],
   "source": [
    "with open(\"sequences.fastq\") as fastq:\n",
    "    threeParts = [] #list of tuples (fqname, fqseq, fqqual)\n",
    "    fqname = \"\"\n",
    "    fqseq = \"\"\n",
    "    fqqual = \"\"\n",
    "    for i,line in enumerate(fastq.readlines()):\n",
    "        if i % 4 == 0:\n",
    "            fqname = line\n",
    "            i = i+1\n",
    "        elif i % 4 == 1:\n",
    "            fqseq = line\n",
    "            i = i+1\n",
    "        elif i % 4 == 2:\n",
    "            i = i+1 #ignore +\n",
    "        elif i % 4 == 3:\n",
    "            fqqual = line\n",
    "            threeParts.append((fqname, fqseq, fqqual))\n",
    "    pp.pprint(threeParts[:10])\n",
    "        "
   ]
  },
  {
   "cell_type": "markdown",
   "metadata": {},
   "source": [
    "# Now, search the tuples for the sequences you want #\n",
    "\n",
    "Our goal in the first version of the FastqSorting exercise was just to find out:\n",
    "\n",
    "1) how often did each barcode tag occur\n",
    "2) in sequences that were long enough (>= 80)\n",
    "\n",
    "One way to go about this would be to make a list of matches for each barcode, and then just get the length of each list with len. Because you want to make a list and use len() rather than get a value on the fly, in this case you'll use a comprehension placed in square brackets [] instead of a generator expression inside a next(). Otherwise, the statement syntax is the same. Think about:\n",
    "\n",
    "- What are you iterating over? (the iteration)\n",
    "- What do you want to get back from what you're iterating over? (the transformation)\n",
    "- When do you want to get that item or items back? (the filter)"
   ]
  },
  {
   "cell_type": "code",
   "execution_count": 25,
   "metadata": {},
   "outputs": [
    {
     "name": "stdout",
     "output_type": "stream",
     "text": [
      "['ATCACG', 'CGATGT', 'TTAGGC', 'TGACCA', 'ACATGT', 'GCCAAT', 'CAGATC', 'ACTTGA', 'GATCAG', 'TAGCTT', 'GGCTAG', 'CTTGTA']\n",
      "[81, 73, 85, 78, 71, 83, 55, 64, 76, 75, 81, 84]\n"
     ]
    }
   ],
   "source": [
    "barcodes = ['ATCACG','CGATGT','TTAGGC','TGACCA','ACATGT','GCCAAT','CAGATC','ACTTGA','GATCAG','TAGCTT','GGCTAG','CTTGTA']\n",
    "#threeParts is the list of tuples found in the fastq file from the previous cell\n",
    "bCounts = []\n",
    "for barcode in barcodes:\n",
    "    desired = [(i, parts[1]) for i, parts in enumerate(threeParts) if len(parts[1]) >= 80 and parts[1].startswith(barcode)]\n",
    "    count = len(desired)\n",
    "    bCounts.append(count)\n",
    "    #I am not sure why, but I get one more \"TTAGGC\" than I do in the previous lab...\n",
    "#     if barcode == \"TTAGGC\":\n",
    "#         pp.pprint(desired)\n",
    "print(barcodes)\n",
    "print(bCounts)"
   ]
  },
  {
   "cell_type": "markdown",
   "metadata": {},
   "source": [
    "# Matrices are lists of lists #\n",
    "\n",
    "What could we do if we wanted to associate a list of sequence entries with each specific barcode?\n",
    "\n",
    "- we could make a list of tuples\n",
    "- we could make a list of lists\n",
    "\n",
    "Let's look at lists of lists. In practical terms, they're not much different to use than lists of tuples.\n",
    "\n",
    "The syntax for a list of lists is matrix = [[]]\n",
    "\n",
    "A comprehension that would populate this matrix is:\n",
    "\n",
    "```[[i + \",\" + j for i in [\"A\",\"a\"] for j in [\"A\",\"a\"]]]```\n",
    "\n",
    "How would you make a multiplication table using a comprehension and the range() function?        "
   ]
  },
  {
   "cell_type": "code",
   "execution_count": 37,
   "metadata": {},
   "outputs": [
    {
     "name": "stdout",
     "output_type": "stream",
     "text": [
      "[['A,A'], ['A,a'], ['a,A'], ['a,a']]\n",
      "[[1, 2, 3, 4, 5, 6, 7, 8, 9],\n",
      " [2, 4, 6, 8, 10, 12, 14, 16, 18],\n",
      " [3, 6, 9, 12, 15, 18, 21, 24, 27],\n",
      " [4, 8, 12, 16, 20, 24, 28, 32, 36],\n",
      " [5, 10, 15, 20, 25, 30, 35, 40, 45],\n",
      " [6, 12, 18, 24, 30, 36, 42, 48, 54],\n",
      " [7, 14, 21, 28, 35, 42, 49, 56, 63],\n",
      " [8, 16, 24, 32, 40, 48, 56, 64, 72],\n",
      " [9, 18, 27, 36, 45, 54, 63, 72, 81]]\n"
     ]
    }
   ],
   "source": [
    "example = [[i + \",\" + j] for i in [\"A\",\"a\"] for j in [\"A\",\"a\"]]\n",
    "print(example)\n",
    "mTable = [[i*j for i in range(1,10)] for j in range(1,10)]\n",
    "pp.pprint(mTable)"
   ]
  },
  {
   "cell_type": "code",
   "execution_count": null,
   "metadata": {},
   "outputs": [],
   "source": [
    "import random\n",
    "i = random.randint(0, 99999)\n",
    "print(f'{i:05d}')"
   ]
  },
  {
   "cell_type": "markdown",
   "metadata": {},
   "source": [
    "# Retrieval from Matrices #\n",
    "\n",
    "In the first cell below, set up a comprehension that would populate a 5*5 matrix with random integers.\n",
    "\n",
    "Now, to get a cell out of a matrix, you simply call mat[i][j]. If you have a pre-built matrix (say, populated by zeroes) you can also use this syntax to set or change a value.\n",
    "\n",
    "In the second cell, write a nested loop that takes your 5*5 random matrix, and retrieves each value. Print out the i and j index along with the value held at that position.\n",
    "\n",
    "We'll do more with matrices next week."
   ]
  },
  {
   "cell_type": "code",
   "execution_count": null,
   "metadata": {},
   "outputs": [],
   "source": []
  },
  {
   "cell_type": "code",
   "execution_count": null,
   "metadata": {},
   "outputs": [],
   "source": []
  }
 ],
 "metadata": {
  "kernelspec": {
   "display_name": "Python 3",
   "language": "python",
   "name": "python3"
  },
  "language_info": {
   "codemirror_mode": {
    "name": "ipython",
    "version": 3
   },
   "file_extension": ".py",
   "mimetype": "text/x-python",
   "name": "python",
   "nbconvert_exporter": "python",
   "pygments_lexer": "ipython3",
   "version": "3.9.0"
  }
 },
 "nbformat": 4,
 "nbformat_minor": 4
}
