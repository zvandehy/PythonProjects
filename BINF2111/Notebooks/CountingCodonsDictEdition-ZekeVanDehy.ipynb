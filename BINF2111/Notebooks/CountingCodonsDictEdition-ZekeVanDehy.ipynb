{
 "cells": [
  {
   "cell_type": "code",
   "execution_count": null,
   "metadata": {},
   "outputs": [],
   "source": [
    "#Counting Codons Lab Oct. 17 Submission\n",
    "#Nov 5, 2020\n",
    "#Zeke Van Dehy"
   ]
  },
  {
   "cell_type": "markdown",
   "metadata": {},
   "source": [
    "# Codon Count Dictionary #\n",
    "\n",
    "We first saw the codon counting problem back when we first learned to use loops. The purpose is to count how many times different codons are used in coding gene sequences. Knowing codon frequencies is the basis of some pattern recognition methods, that are used to predict whether there is a previously  unknown gene in a DNA sequence.\n",
    "\n",
    "The first thing we need is to generate a list that will give us a *reference* list for all the codons. We need that so that we can tell the .count() statement what to count when we get to counting the codons in an actual sequence.\n",
    "\n",
    "We did this problem once already to show how loops could nest. You need an outer loop that steps through A,T,G,C to get the first nucleotide, and then an inner loop that does the same thing to get the second nucleotide, and then a further inner loop that gets the third nucleotide.\n",
    "\n",
    "Create a function called ref_codons that loops through and makes a list of all the possible codons, then returns the list."
   ]
  },
  {
   "cell_type": "code",
   "execution_count": 3,
   "metadata": {},
   "outputs": [
    {
     "name": "stdout",
     "output_type": "stream",
     "text": [
      "['AAA', 'AAT', 'AAG', 'AAC', 'ATA', 'ATT', 'ATG', 'ATC', 'AGA', 'AGT', 'AGG', 'AGC', 'ACA', 'ACT', 'ACG', 'ACC', 'TAA', 'TAT', 'TAG', 'TAC', 'TTA', 'TTT', 'TTG', 'TTC', 'TGA', 'TGT', 'TGG', 'TGC', 'TCA', 'TCT', 'TCG', 'TCC', 'GAA', 'GAT', 'GAG', 'GAC', 'GTA', 'GTT', 'GTG', 'GTC', 'GGA', 'GGT', 'GGG', 'GGC', 'GCA', 'GCT', 'GCG', 'GCC', 'CAA', 'CAT', 'CAG', 'CAC', 'CTA', 'CTT', 'CTG', 'CTC', 'CGA', 'CGT', 'CGG', 'CGC', 'CCA', 'CCT', 'CCG', 'CCC']\n"
     ]
    }
   ],
   "source": [
    "def ref_codons():\n",
    "    codons = []\n",
    "    for base1 in [\"A\",\"T\",\"G\",\"C\"]:\n",
    "        for base2 in [\"A\",\"T\",\"G\",\"C\"]:\n",
    "            for base3 in [\"A\",\"T\",\"G\",\"C\"]:\n",
    "                codons.append(base1+base2+base3)\n",
    "    return codons\n",
    "print(ref_codons())"
   ]
  },
  {
   "cell_type": "markdown",
   "metadata": {},
   "source": [
    "# Extracting codons from a gene sequence #\n",
    "\n",
    "If we just straight up used .count() on the sequence to count each of our types of codons, that wouldn't quite get us what we want. We need to count only the codons in the reading frame of the gene.\n",
    "\n",
    "For this version of the problem, assume that the gene starts where the sequence starts and that your gene codes in reading frame 1.  \n",
    "\n",
    "To make a list of the reading frame codons, you'll need to use a range with step.  \n",
    "\n",
    "Reminder: here's how you can use a range with step:\n",
    "\n",
    "```for i in range(0,100,5):\n",
    "    print(i)```\n",
    "    \n",
    "Reminder: here's how you can make a slice based on an index:\n",
    "\n",
    "```for i in range(0,len(mystring),5):\n",
    "    print(mystring[i:i+5])```\n",
    "    \n",
    "Create a function that steps through the sequence and takes a 3-letter slice of the sequence every 3 characters. Append that slice to a list of codons and return the list at the end. Be sure that you end your range before the sequence ends so that you don't try to take a slice that goes outside the length of the string."
   ]
  },
  {
   "cell_type": "code",
   "execution_count": 4,
   "metadata": {},
   "outputs": [
    {
     "name": "stdout",
     "output_type": "stream",
     "text": [
      "['AAA', 'CCC', 'BBB', 'TTT', 'AAA', 'CCC', 'BBB', 'A']\n"
     ]
    }
   ],
   "source": [
    "def getCodons(sequence):\n",
    "    codons = []\n",
    "    for i in range(0,len(sequence),3):\n",
    "        codons.append(sequence[i:i+3])\n",
    "    return codons\n",
    "print(getCodons(\"AAACCCBBBTTTAAACCCBBBA\"))"
   ]
  },
  {
   "cell_type": "markdown",
   "metadata": {},
   "source": [
    "# Counting the codons in the list #\n",
    "\n",
    "Now you need a function that will take the list of codons created by the slicing function, and actually make a count of each type of codon. To do this, you can loop through the reference codon list and count each kind.\n",
    "\n",
    "The last time we did this, we didn't know any data structures to put the codons and the counts in, so we only counted stop codons and incremented a counter if the codon matched a stop codon pattern. \n",
    "\n",
    "This time, we know about dictionaries and have a way to save the count of each type of codon.\n",
    "\n",
    "Create a function that steps through each possible codon type, and adds the codon and the number of times it occurs to a dictionary as a key-value pair.\n",
    "\n",
    "Remember, you add a key-value pair to a dictionary with an assignment statement, like codoncounts[codon] = count."
   ]
  },
  {
   "cell_type": "code",
   "execution_count": 5,
   "metadata": {},
   "outputs": [
    {
     "name": "stdout",
     "output_type": "stream",
     "text": [
      "{'AAA': 2, 'GGG': 2, 'CCC': 1}\n"
     ]
    }
   ],
   "source": [
    "def countCodons(sequence):\n",
    "    codon_counts = {}\n",
    "    seq_codons = getCodons(sequence)\n",
    "    for codon in ref_codons():\n",
    "        count = seq_codons.count(codon)\n",
    "        if  count != 0:\n",
    "            codon_counts[codon] = seq_codons.count(codon)\n",
    "    return codon_counts\n",
    "\n",
    "print(countCodons(\"AAAGGGCCCGGGAAA\"))\n",
    "    \n",
    "    "
   ]
  },
  {
   "cell_type": "markdown",
   "metadata": {},
   "source": [
    "# Counting codons in a collection of sequences #\n",
    "\n",
    "There are two genome files, genomeA.fna and genomeB.fna, that go along with this exercise. There's also a smaller file, test.fna, that you can use to try out your script.\n",
    "\n",
    "The files are in FASTA format:\n",
    "\n",
    "```> description line\n",
    "SEQUENCESEQQUENCESEQUENCE\n",
    "SEQUENCESEQQUENCESEQUENCE\n",
    "SEQUENCESEQQUENCESEQUENCE```\n",
    "\n",
    "To read this file, we need to re-create the FASTA file parser that we used before. The parser uses the trigger of reaching a '>' when a variable 'name' already has a value, to move its current values to a data structure and get a new set of values. Let's re-create that function again."
   ]
  },
  {
   "cell_type": "code",
   "execution_count": 19,
   "metadata": {},
   "outputs": [
    {
     "name": "stdout",
     "output_type": "stream",
     "text": [
      "ATGAATACTA\n",
      "ATGAATATTT\n",
      "ATGGTTATAT\n",
      "ATGAATAATT\n",
      "ATGAATTTCA\n",
      "ATGTTTAAAT\n",
      "ATGCTAAATG\n",
      "ATGATTATTA\n",
      "ATGATAGGAA\n",
      "ATGAATTTAT\n"
     ]
    }
   ],
   "source": [
    "# todo: don't read between sequences, separate them into lists\n",
    "def genomic_fasta(genomeFile):\n",
    "    \"\"\"genomic_fasta: parses the sequence lines out of a genomic DNA FASTA file\n",
    "    parameters: expects an open file object\n",
    "    return: a single DNA sequence string\n",
    "    \"\"\"\n",
    "    DNASeqs = [] #list for dna sequences\n",
    "    currentSeq = [] # list for storing one seq\n",
    "    newSeq = False #tracks if sequence is different\n",
    "    \n",
    "    for line in genomeFile.readlines():\n",
    "        \n",
    "        if line[0] != \">\": # filters out the header line that starts with >\n",
    "            \n",
    "            #if true, store the previous seq and start over with current. if false, keep adding to current\n",
    "            if newSeq:\n",
    "                DNASeqs.append(''.join(currentSeq))\n",
    "                currentSeq = []\n",
    "                newSeq = False\n",
    "                \n",
    "            currentSeq.append(line.strip(\"\\n\")) # appends the remaining lines to the empty list after stripping\n",
    "            \n",
    "        else: #if there's a header, then there is a new Sequence\n",
    "            newSeq = True\n",
    "\n",
    "    return DNASeqs[1:] #returns list of DNA sequences\n",
    "\n",
    "DNAFile = open(\"genomeB.fna\") # creates a file object from a stored file\n",
    "DNASeqs = genomic_fasta(DNAFile) # passes the file object to the fasta parser function\n",
    "DNAFile.close() # closes the file object\n",
    "\n",
    "for seq in DNASeqs[:10]:\n",
    "    print(seq[:10])"
   ]
  },
  {
   "cell_type": "markdown",
   "metadata": {},
   "source": [
    "# Frequencies #\n",
    "\n",
    "When you're trying to represent a distribution and especially when you're going to compare two distributions, it is more useful to express the values as frequencies rather than as simple counts.\n",
    "\n",
    "A frequency could be expressed as count_of_this_codon/total_number_codons.\n",
    "\n",
    "Modify your codon dictionary builder so it stores codon:frequency instead of codon:count. Store the frequencies rounded to four significant figures using round(number,figs)"
   ]
  },
  {
   "cell_type": "code",
   "execution_count": 25,
   "metadata": {},
   "outputs": [
    {
     "name": "stdout",
     "output_type": "stream",
     "text": [
      "{'AAA': 0.5, 'GGG': 0.5}\n",
      "{'AAA': 0.3333, 'TTT': 0.3333, 'GGG': 0.3333}\n",
      "{'AAA': 0.5, 'TTT': 0.1667, 'GGG': 0.1667, 'CCC': 0.1667}\n"
     ]
    }
   ],
   "source": [
    "def getFrequency(seq_codons):\n",
    "    codon_freq = {}\n",
    "    for codon in ref_codons():\n",
    "        freq = seq_codons.count(codon)/(len(seq_codons))\n",
    "        if  freq != 0:\n",
    "            codon_freq[codon] = round(freq,4)\n",
    "    return codon_freq\n",
    "\n",
    "print(getFrequency(getCodons(\"AAAGGGAAAGGG\")))\n",
    "print(getFrequency(getCodons(\"AAAGGGAAAGGGTTTTTT\")))\n",
    "print(getFrequency(getCodons(\"AAACCCAAAGGGAAATTT\")))"
   ]
  },
  {
   "cell_type": "markdown",
   "metadata": {},
   "source": [
    "# Now you have everything you need #\n",
    "\n",
    "In the main body of your code, open the genome A file and make a frequency dictionary for it. Then do the same for genome B.\n",
    "\n",
    "To get frequencies for the whole genome, you will need to add together all the codon lists from each of the sequences BEFORE you get the counts and frequencies.  Since lists can be added together with +=, you could do this as you loop over the collection of sequences.\n",
    "\n",
    "# Extract some values #\n",
    "\n",
    "For each genome, get the codon with the highest frequency value and the lowest frequency value from each genome (use min() and max() on the values, and then use the value to find the key (or keys), as we did in the examples earlier."
   ]
  },
  {
   "cell_type": "code",
   "execution_count": 41,
   "metadata": {},
   "outputs": [],
   "source": [
    "def getGenomeFreq(fileName):\n",
    "    with open(fileName) as fo:\n",
    "        genome_codons = []\n",
    "        for seq in genomic_fasta(fo):\n",
    "            genome_codons += getCodons(seq)\n",
    "        return getFrequency(genome_codons)\n",
    "\n",
    "def getMinAndMax(genome_freq):\n",
    "        maxFreq = max(genome_freq.values())\n",
    "        minFreq = min(genome_freq.values())\n",
    "        maxCodon = \"\"\n",
    "        minCodon = \"\"\n",
    "        for codon,freq in genome_freq.items():\n",
    "            if freq == maxFreq:\n",
    "                maxCodon = codon\n",
    "            if freq == minFreq:\n",
    "                minCodon = codon\n",
    "        print(\"max:\", maxCodon, maxFreq)\n",
    "        print(\"min:\", minCodon, minFreq)\n",
    "        return {\"max\":(maxCodon,maxFreq), \"min\":(minCodon,minFreq)}\n"
   ]
  },
  {
   "cell_type": "code",
   "execution_count": 43,
   "metadata": {},
   "outputs": [
    {
     "name": "stdout",
     "output_type": "stream",
     "text": [
      "genomeA\n",
      "max: GAA 0.0401\n",
      "min: TGA 0.0005\n",
      "genomeB\n",
      "max: AAA 0.1412\n",
      "min: CGC 0.0\n"
     ]
    },
    {
     "data": {
      "text/plain": [
       "{'max': ('AAA', 0.1412), 'min': ('CGC', 0.0)}"
      ]
     },
     "execution_count": 43,
     "metadata": {},
     "output_type": "execute_result"
    }
   ],
   "source": [
    "aDict = getGenomeFreq(\"genomeA.fna\")\n",
    "bDict = getGenomeFreq(\"genomeB.fna\")\n",
    "print(\"genomeA\")\n",
    "getMinAndMax(aDict)\n",
    "print(\"genomeB\")\n",
    "getMinAndMax(bDict)"
   ]
  },
  {
   "cell_type": "markdown",
   "metadata": {},
   "source": [
    "# Compare some values #\n",
    "\n",
    "Iterate over the keys of one of the dictionaries. Since they have the same keys, you can use the codon keys to get the corresponding values from both dictionaries. Which codon has the biggest change in frequency from genome A to genome B? delta_freq = abs(freq_a - freq_b)."
   ]
  },
  {
   "cell_type": "code",
   "execution_count": 48,
   "metadata": {},
   "outputs": [
    {
     "name": "stdout",
     "output_type": "stream",
     "text": [
      "AAA 0.1053\n",
      "genomeA genomeB\n",
      "0.0359 0.1412\n"
     ]
    }
   ],
   "source": [
    "maxChangeCodon = \"\"\n",
    "maxChange = \"\"\n",
    "for key in aDict.keys():\n",
    "    freq_a = aDict[key]\n",
    "    freq_b = bDict[key]\n",
    "    delta_freq = round(abs(freq_a - freq_b),4)\n",
    "    if maxChange == \"\" or delta_freq > maxChange:\n",
    "        maxChange = delta_freq\n",
    "        maxChangeCodon = key\n",
    "print(maxChangeCodon, maxChange)\n",
    "print(\"genomeA\",\"genomeB\")\n",
    "print(aDict[maxChangeCodon], bDict[maxChangeCodon])"
   ]
  },
  {
   "cell_type": "code",
   "execution_count": null,
   "metadata": {},
   "outputs": [],
   "source": []
  }
 ],
 "metadata": {
  "kernelspec": {
   "display_name": "Python 3",
   "language": "python",
   "name": "python3"
  },
  "language_info": {
   "codemirror_mode": {
    "name": "ipython",
    "version": 3
   },
   "file_extension": ".py",
   "mimetype": "text/x-python",
   "name": "python",
   "nbconvert_exporter": "python",
   "pygments_lexer": "ipython3",
   "version": "3.9.0"
  }
 },
 "nbformat": 4,
 "nbformat_minor": 4
}
