{
 "cells": [
  {
   "cell_type": "markdown",
   "metadata": {},
   "source": [
    "# Generate your own random DNA sequences #\n",
    "\n",
    "Let's do some math and make some random strings. It's often useful to have some random DNA sequences around where you know their characteristics because you generated them that way. This is a problem you can actually solve with just the things we've learned so far (although there are other, better ways to solve it with python modules). We'll also the new built-ins we just learned for numbers -- round() and abs(). \n",
    "\n",
    "- To solve this, I used:\n",
    "- importing a module\n",
    "- input statements (assigned their values to variables)\n",
    "- math -- multiplication, division, abs(), switching from fractions to percentages, round()\n",
    "- string concatenation and string multiplication\n",
    "- converting a string to a list\n",
    "- shuffling a list in place with random.shuffle()\n",
    "- joining a sequence with .join()\n",
    "- and of course, the major elements of a function: def line with arguments, return line with one value, and a function call\n",
    "\n",
    "In the first cell below, write this as a function that takes two parameters (desired_length,desired_gc) and returns the randomized sequence. In the second cell, collect the user input and call the function on it. In the third cell, use your GC function (from in-class) to check your results."
   ]
  },
  {
   "cell_type": "code",
   "execution_count": 3,
   "metadata": {},
   "outputs": [],
   "source": [
    "# your functions here\n",
    "import random\n",
    "\n",
    "def randomDNA(desired_length, desired_gc):\n",
    "    numGC = round(desired_length * (desired_gc/100))\n",
    "    g = random.randint(0,numGC)\n",
    "    c = numGC - g\n",
    "    numAT = desired_length - numGC\n",
    "    a = random.randint(0,numAT)\n",
    "    t = numAT - a\n",
    "    dna = \"G\"*g + \"C\"*c + \"A\"*a + \"T\"*t\n",
    "    dna_list = list(dna)\n",
    "    random.shuffle(dna_list)\n",
    "    dna = \"\".join(dna_list)\n",
    "    return dna\n",
    "def gc_content(dna):\n",
    "    dec = (dna.count(\"C\")+dna.count(\"G\")) / len(dna)\n",
    "    percent = round((dec) * 100)\n",
    "    return percent"
   ]
  },
  {
   "cell_type": "code",
   "execution_count": 4,
   "metadata": {},
   "outputs": [
    {
     "name": "stdin",
     "output_type": "stream",
     "text": [
      "Enter length:  100\n",
      "Enter gc percent (0-100):  50\n"
     ]
    }
   ],
   "source": [
    "# get user input\n",
    "length = int(input(\"Enter length: \"))\n",
    "gcPercent = int(input(\"Enter gc percent (0-100): \"))\n",
    "seq = randomDNA(length, gcPercent)"
   ]
  },
  {
   "cell_type": "code",
   "execution_count": 5,
   "metadata": {},
   "outputs": [
    {
     "name": "stdout",
     "output_type": "stream",
     "text": [
      "AGGGGCAGAGTGAAGAACGAGAGAGAGCACGAATCAACCAAGGTGAAGCGGAATGAAGGAATGGGCCATGCGAAGGGAGAGAAAATCTCGAGTACATTGA\n",
      "50 %\n",
      "len: 100\n"
     ]
    }
   ],
   "source": [
    "# check gc\n",
    "print(seq)\n",
    "print(gc_content(seq),\"%\")\n",
    "print(\"len:\",len(seq))"
   ]
  },
  {
   "cell_type": "markdown",
   "metadata": {},
   "source": [
    "# Restriction Enzymes #\n",
    "\n",
    "In this exercise, we'll take a large DNA sequence string and cut it with restriction enzymes, then slice out the pieces and append them to a a list of fragments.\n",
    "\n",
    "The very first cell below is pre-filled with some code that opens and interprets the sequence file I distributed along with this exercise. Download that file into the same directory where you are running jupyter, and then run the first cell. For now, just take a look at the code and the explanation, we'll learn to do this soon enough.\n",
    "\n",
    "At the end, the file contents will be stored as one big long sequence string in the variable DNASeq. You can print them out if you like just to be sure."
   ]
  },
  {
   "cell_type": "code",
   "execution_count": 6,
   "metadata": {},
   "outputs": [],
   "source": [
    "def genomic_fasta(genome):\n",
    "    \"\"\"genomic_fasta: parses the sequence lines out of a genomic DNA FASTA file\n",
    "    parameters: expects an open file object\n",
    "    return: a single DNA sequence string\n",
    "    \"\"\"\n",
    "    lines = genome.readlines() # converts the open file object to a list\n",
    "    DNASeq = [] # creates a new empty list\n",
    "    for i in range (0, len(lines)): # iterates over the lines from the file\n",
    "        if lines[i][0:1] != \">\": # filters out the header line that starts with >\n",
    "            DNASeq.append(lines[i].strip(\"\\n\")) # appends the remaining lines to the empty list after stripping\n",
    "        \n",
    "    return ''.join(DNASeq)    # joins and returns the DNA sequence lines\n",
    "\n",
    "DNAFile = open(\"NC_007898.fasta\") # creates a file object from a stored file\n",
    "DNASeq = genomic_fasta(DNAFile) # passes the file object to the fasta parser function\n",
    "DNAFile.close() # closes the file object"
   ]
  },
  {
   "cell_type": "markdown",
   "metadata": {},
   "source": [
    "# The Pst1 Restriction Enzyme #\n",
    "\n",
    "If you remember what restriction enzymes do, they bind to the DNA double helix and cut at a specific, palindromic sequence of DNA.\n",
    "\n",
    "The Pst1 enzyme recognizes the DNA sequence CTGCAG. It cuts leaving an overhanging single strand.  So on the 5' strand that you read in a DNA sequence file, the cut happens at 5'...CTGCA^G...3'. If you're cutting DNA on this site, every fragment should end with CTGCA, and start with G.\n",
    "\n",
    "What we want to do is cut the string that is stored in DNASeq at this restriction enzyme cut site, and save a list that contains the correct fragments, along with a second list of coordinates for where the fragment begins in the original sequence.\n",
    "\n",
    "First try counting instances of the pattern to see what information that gives you about this genome."
   ]
  },
  {
   "cell_type": "code",
   "execution_count": 7,
   "metadata": {},
   "outputs": [
    {
     "data": {
      "text/plain": [
       "15"
      ]
     },
     "execution_count": 7,
     "metadata": {},
     "output_type": "execute_result"
    }
   ],
   "source": [
    "DNASeq.count(\"CTGCAG\")"
   ]
  },
  {
   "cell_type": "markdown",
   "metadata": {},
   "source": [
    "In the cell below, try cutting the sequence on the pattern using .split() and see if that gives you enough information and if it gives you correct sequences (remember they have to start and end with fragments of the restriction pattern)."
   ]
  },
  {
   "cell_type": "code",
   "execution_count": 8,
   "metadata": {},
   "outputs": [
    {
     "name": "stdout",
     "output_type": "stream",
     "text": [
      "16\n",
      "TGGGCGAACGACGGGAATTGAACCCGCGCATGGTGGATTCACAATCCACTGCCTTGATCCACTTGGCTACATCCGCCCCCTCGCCTACTTACATTCCATTTTTACATTATTTAAATTAGAAAACAAAAGATTCAAGTTCGAATATTTCTCTTCTTTCTTAGTTCAATGATATTATTATTTTGATTATTATTTCAAAAATAAGAATATGAAGTCAAAATTTTATTTTTTGTGAAATGAAATAAAAAAGATATAGTAACATTAGTAACAAGAGGAACACGTTATATTTCTACAATTTTCAATAAATAGAAAATAAAACATAGAATACTCAATCATGAATAAATATCATGAATAAATGCAAGCAAATACCCTCTCTTTCTTTTTCGATAATGTAAACAAAAAAGTCTATGTCAGTAAAATACTAGGAAATTAGTAAAGAAAAAAAAAAAAAGAAAGGAGCAATAGCACCCTCTTGACAGAACAAGAAAATGATTATTGCTCCTTTCTTTTCAAAACCTCCTATAGACTAGGCTAGGATCTTATCCATTTGTAGATGGAGCTTCGATAGCAGCTAGGTCTAGAGGGAAGTTATGAGCATTACGTTCATGCATAACTTCCATACCAAGGTTAGCACGGTTGATGATATCAGCCCAAGTGTTAATTACACGACCCTGACTGTCAACTACAGATTGGTTGAAATTGAAACCATTTAGGTTGAAAGCCATAGTGCTGATACCTAAAGCGGTAAACCAGATACCTACTACAGGCCAAGCAGCTAGGAAGAAGTGTAACGAACGAGAGTTGTTGAAACTAGCATATTGGAAGATCAATCGGCCAAAATAACCATGAGCGGCTACGATATTATAAGTTTCTTCCTCTTGACCGAATCTGTAACCTTCATTAGCAGATTCATTTTCTGTGGTTTCCCTGATCAAACTAGAAGTTACCAAGGAACCATGCATAGCACTGAATAGGGAGCCGCCGAATACCCCAGCTACGCCTAACATGTGAAATGGGTGCATAAGGATGTTGTGTTCAGCCTGGAATACAATCATGAAATTGAAAGTACCAGAGATTCCTAGAGGCATACCATCAGAAAAACTTCCTTGACCGATTGGGTAGATCAAGAAAACTGCGGTAGCAGCTGCAACAGGAGCTGAATATGCAACAGCAATCCAAGGTCGCATACCCAGACGGAAGCTAAGCTCCCACTCACGACCCATGTAACAAGCTACGCCAAGTAAGAAGTGTAGAACAATTAGTTCATAAGGACCACCGTTGTATAACCATTCATCAACGGATGCCGCTTCCCAGATTGGGTAAAAATGTAAACCTATAG\n"
     ]
    }
   ],
   "source": [
    "cuts = DNASeq.split(\"CTGCAG\")\n",
    "print(len(cuts))\n",
    "print(cuts[0])"
   ]
  },
  {
   "cell_type": "markdown",
   "metadata": {},
   "source": [
    "The challenge is that the .split() method will completely remove the nucleotides in the CTGCAG pattern if you split on that pattern, leaving the sequences incorrect, and it won't give you coordinates. \n",
    "\n",
    "Try using the .find() method and see what information it gives you about the sequence:"
   ]
  },
  {
   "cell_type": "code",
   "execution_count": 9,
   "metadata": {},
   "outputs": [
    {
     "data": {
      "text/plain": [
       "1336"
      ]
     },
     "execution_count": 9,
     "metadata": {},
     "output_type": "execute_result"
    }
   ],
   "source": [
    "DNASeq.find(\"CTGCAG\")"
   ]
  },
  {
   "cell_type": "markdown",
   "metadata": {},
   "source": [
    "On the other hand, the .find() method would find you the coordinates of a pattern, but only the first instance, so you might have to use it iteratively, or find some other tricksy way to use it. I can think of a few. \n",
    "\n",
    "Finally, the DNA we give you comes from a linearized circular chromosome, so the first and last fragment will have to be combined into single fragment in the correct order.\n",
    "\n",
    "Put on your python thinking hat, and see if you can figure it out! You can solve this with only methods that we've learned so far. Use functions where you can, but don't stress about making absolutely everything into a function."
   ]
  },
  {
   "cell_type": "code",
   "execution_count": 22,
   "metadata": {},
   "outputs": [
    {
     "name": "stdout",
     "output_type": "stream",
     "text": [
      "155461\n",
      "155461\n",
      "indices:  [1336, 19876, 34954, 35941, 57409, 76539, 82565, 85455, 87034, 94652, 99163, 123165, 142168, 146679, 154297]\n",
      "len(indices):  15\n",
      "len(cuts):  16\n",
      "AATAATGGGC\n"
     ]
    }
   ],
   "source": [
    "index = 0\n",
    "cuts = []\n",
    "indices = []\n",
    "\n",
    "i = DNASeq.find(\"CTGCAG\",index)\n",
    "while (i != -1):\n",
    "    cuts.append(DNASeq[index:i+5])\n",
    "    indices.append(i)\n",
    "    index = i+5\n",
    "    i = DNASeq.find(\"CTGCAG\",index+1)\n",
    "\n",
    "cuts.append(DNASeq[index:])\n",
    "\n",
    "#Showing that all characters from DNASeq are in cuts\n",
    "l = 0\n",
    "for cut in cuts:\n",
    "    l += len(cut)\n",
    "print(l) #number of aa in cuts\n",
    "print(len(DNASeq)) #number of aa in DNASeq\n",
    "#cuts happen at these 15 indices\n",
    "print(\"indices: \", indices)\n",
    "print(\"len(indices): \", len(indices))\n",
    "#resulting in these 16 sub-sequences\n",
    "print(\"len(cuts): \", len(cuts))\n",
    "\n",
    "# circular fragment checks the last 5 --> first 5 amino acids\n",
    "circularFragment = DNASeq[-5:]+DNASeq[:5]\n",
    "print(circularFragment)\n",
    "i = circularFragment.find(\"CTGCAG\")\n",
    "if i != -1:\n",
    "    print(circularFragment[i:i+5])\n",
    "    indices.append(i)\n",
    "    cuts.append(circularFragment[i:i+5])\n"
   ]
  },
  {
   "cell_type": "code",
   "execution_count": null,
   "metadata": {},
   "outputs": [],
   "source": []
  }
 ],
 "metadata": {
  "kernelspec": {
   "display_name": "Python 3",
   "language": "python",
   "name": "python3"
  },
  "language_info": {
   "codemirror_mode": {
    "name": "ipython",
    "version": 3
   },
   "file_extension": ".py",
   "mimetype": "text/x-python",
   "name": "python",
   "nbconvert_exporter": "python",
   "pygments_lexer": "ipython3",
   "version": "3.9.0"
  }
 },
 "nbformat": 4,
 "nbformat_minor": 4
}
