{
 "cells": [
  {
   "cell_type": "code",
   "execution_count": 1,
   "metadata": {},
   "outputs": [],
   "source": [
    "# Practice Problems Nov. 12\n",
    "# Zeke Van Dehy\n",
    "# Nov 12, 2020"
   ]
  },
  {
   "cell_type": "markdown",
   "metadata": {},
   "source": [
    "# Practice Problems Nov. 12 #\n",
    "\n",
    "These problems are designed to make you practice working with files, looping, extracting values of interest from data, and putting values into different data structures. You should be able to solve all of them with techniques we have already learned. Take time to think about what it is you want out of the data."
   ]
  },
  {
   "cell_type": "markdown",
   "metadata": {},
   "source": [
    "# 1. Extract information from a GFF file #\n",
    "\n",
    "This is a new file format that we have not seen yet, but it is very straightforward.\n",
    "\n",
    "```NC_007898.3\tRefSeq\tCDS\t40319\t42571\t.\t-\t0\tID=cds21;Parent=gene37;Dbxref=Genbank:YP_008563088.1;Name=YP_008563088.1;gbkey=CDS;gene=psaA;product=photosystem I P700 apoprotein A1;protein_id=YP_008563088.1;transl_table=11```\n",
    "\n",
    "Each line is long and contains the following information:\n",
    "\n",
    "```\n",
    "[0] Database identifier\n",
    "[1] Database\n",
    "[2] Type of feature (in the example file these are all CDS, coding sequence)\n",
    "[3] Start coordinate\n",
    "[4] End coordinate\n",
    "[5] placeholder (.)\n",
    "[6] strandedness\n",
    "[7] phase (reading frame -- how many bases have to be removed to get to the start of the next codon)\n",
    "[8] information about the coding sequence```\n",
    "\n",
    "The start coordinate and end coordinate refer to the position of the gene in a genomic sequence file like NC_007898.fasta, which you worked with back in the restriction enzyme exercise.\n",
    "\n",
    "Your goal is to get enough information out of this file that you could use it to extract slices corresponding to gene locations from the .fasta file.\n",
    "\n",
    "First, just open the file and write a loop that will loop over the lines and will get out the four fields that describe the gene position -- the start, stop, direction and phase. Store those values in a tuple, so that the end result is a list of tuples."
   ]
  },
  {
   "cell_type": "code",
   "execution_count": 8,
   "metadata": {},
   "outputs": [
    {
     "name": "stdout",
     "output_type": "stream",
     "text": [
      "('start', 'stop', 'direction', 'phase')\n",
      "[(71636, 71749, '-', 0),\n",
      " (99801, 100032, '-', 0),\n",
      " (99239, 99264, '-', 2),\n",
      " (537, 1598, '-', 0),\n",
      " (2124, 3653, '-', 0),\n",
      " (6025, 6064, '-', 0),\n",
      " (4934, 5160, '-', 2),\n",
      " (7584, 7769, '+', 0),\n",
      " (8131, 8241, '+', 0),\n",
      " (10221, 11744, '-', 0)]\n"
     ]
    }
   ],
   "source": [
    "def getLocationInfo(filename):\n",
    "    with open(filename) as fo:\n",
    "        locationInfos = []\n",
    "        for line in fo.readlines():\n",
    "            line = line.strip()\n",
    "            row = line.split(\"\\t\")\n",
    "            start = int(row[3])\n",
    "            stop = int(row[4])\n",
    "            direction = row[6]\n",
    "            phase = int(row[7])\n",
    "            locationInfos.append((start,stop,direction,phase))\n",
    "    return locationInfos\n",
    "\n",
    "import pprint\n",
    "pp = pprint.PrettyPrinter()\n",
    "\n",
    "locations = getLocationInfo(\"NC_007898.cds.gff\")\n",
    "pp.pprint((\"start\",\"stop\",\"direction\",\"phase\"))\n",
    "pp.pprint(locations[:10])"
   ]
  },
  {
   "cell_type": "markdown",
   "metadata": {},
   "source": [
    "# 2. Use the coordinates from the GFF to extract sequence #\n",
    "\n",
    "Now we can use the coordinates from the GFF to extract sequence from the FASTA file.  There are going to be two major steps here:\n",
    "\n",
    "```1) open and read in the genomic FASTA file so that it's one big sequence```\n",
    "```2) iterate over the list of tuples you made above. For every pair of coordinates, extract the sequence between them from the genomic FASTA sequence```\n",
    "\n",
    "# Step 1 #\n",
    "\n",
    "In the restriction enzyme exercise we did a few weeks ago, I gave you the code that would extract a single long sequence from a genomic FASTA file. Go back, find the correct code, and make any modifications that you think you need so that it will work for this problem."
   ]
  },
  {
   "cell_type": "code",
   "execution_count": 14,
   "metadata": {},
   "outputs": [
    {
     "name": "stdout",
     "output_type": "stream",
     "text": [
      "TGGGCGAACGACGGGAATTGAACCCGCGCATGGTGGATTCACAATCCACTGCCTTGATCCACTTGGCTACATCCGCCCCCTCGCCTACTTACATTCCATT\n"
     ]
    }
   ],
   "source": [
    "def readFasta(filename):\n",
    "    seqs = {}\n",
    "    \n",
    "    with open(filename) as fo:\n",
    "        identifier = \"\"\n",
    "        dna = \"\"\n",
    "        for line in fo.readlines():\n",
    "            line = line.strip()\n",
    "            if line[0] == \">\":\n",
    "                identifier = line[1:]\n",
    "                dna = \"\"\n",
    "            else:\n",
    "                dna += line\n",
    "                seqs[identifier] = dna #would be more efficient to only do this when finish reading the sequence\n",
    "    return seqs\n",
    "DNASeq = readFasta(\"NC_007898.fasta\")[\"NC_007898.3\"]\n",
    "print(DNASeq[:100])"
   ]
  },
  {
   "cell_type": "markdown",
   "metadata": {},
   "source": [
    "# Step 2 #\n",
    "\n",
    "Extract sequence slices that correspond to the pairs of coordinates. For now, don't worry about strand and phase, you just want to get the basic loop working. \n",
    "\n",
    "Remember that when looping over a tuple of four items, you would need to write your loop in the form:\n",
    "\n",
    "```for a,b,c,d in listoftuples:```\n",
    "\n",
    "And then you could work with the four values that make up the tuple directly as a, b, c and d.\n",
    "\n",
    "Also remember that genomic coordinates start at 1, while string slices start at 0, so to get the correct coordinates you will need to offset the values."
   ]
  },
  {
   "cell_type": "code",
   "execution_count": 20,
   "metadata": {},
   "outputs": [
    {
     "name": "stdout",
     "output_type": "stream",
     "text": [
      "71636 71749\n",
      "ATACACCCTAGTACATGTTCCTCGACGCTGAGGGCACCCCCGAAGAGCGGGGGATTTCGTGACATTTCTGATTGGCTGTCTTGTATTTCTAATAAGTTGTTTAATAGTTGGCA\n",
      "113\n",
      "----------------\n",
      "99801 100032\n",
      "TAGAACGCCCTTGTTGACGATCCTTTACTCCGACAGCATCTAGGGTTCCTCGAACAATGTGATATCTCACACCGGGTAAATCCTTAACCCTTCCCCCTCTTACTAAGACTACAGAATGTTCTTGTGAATTATGGCCAATACCGGGTATATAAGCAGTGATTTCAAATCCAGAGGTTAATCGTACTCTGGCAACTTTACGTAAGGCAGAGTTTGGTTTTTTTGGGGTGATAG\n",
      "231\n",
      "----------------\n",
      "99239 99264\n",
      "TTATTTTGGCTTTTTTACCCCATAT\n",
      "25\n",
      "----------------\n",
      "537 1598\n",
      "TTATCCATTTGTAGATGGAGCTTCGATAGCAGCTAGGTCTAGAGGGAAGTTATGAGCATTACGTTCATGCATAACTTCCATACCAAGGTTAGCACGGTTGATGATATCAGCCCAAGTGTTAATTACACGACCCTGACTGTCAACTACAGATTGGTTGAAATTGAAACCATTTAGGTTGAAAGCCATAGTGCTGATACCTAAAGCGGTAAACCAGATACCTACTACAGGCCAAGCAGCTAGGAAGAAGTGTAACGAACGAGAGTTGTTGAAACTAGCATATTGGAAGATCAATCGGCCAAAATAACCATGAGCGGCTACGATATTATAAGTTTCTTCCTCTTGACCGAATCTGTAACCTTCATTAGCAGATTCATTTTCTGTGGTTTCCCTGATCAAACTAGAAGTTACCAAGGAACCATGCATAGCACTGAATAGGGAGCCGCCGAATACCCCAGCTACGCCTAACATGTGAAATGGGTGCATAAGGATGTTGTGTTCAGCCTGGAATACAATCATGAAATTGAAAGTACCAGAGATTCCTAGAGGCATACCATCAGAAAAACTTCCTTGACCGATTGGGTAGATCAAGAAAACTGCGGTAGCAGCTGCAACAGGAGCTGAATATGCAACAGCAATCCAAGGTCGCATACCCAGACGGAAGCTAAGCTCCCACTCACGACCCATGTAACAAGCTACGCCAAGTAAGAAGTGTAGAACAATTAGTTCATAAGGACCACCGTTGTATAACCATTCATCAACGGATGCCGCTTCCCAGATTGGGTAAAAATGTAAACCTATAGCTGCAGAAGTAGGAATAATGGCACCGGAAATAATGTTGTTTCCGTAAAGTAGAGACCCTGAAACAGGTTCACGAATACCATCAATGTCTACTGGAGGAGCAGCAATGAAGGCAATAATAAATACAGAAGTTGCCGTCAATAAGGTAGGGATCATCAAAACACCAAACCATCCAATGTAAAGACGGTTTTCAGTGCTAGTTATCCAGTTACAGAAGCGACCCCATAGGCTTTCGCTTTCGCGTCTCTCTAAAATTGCAGTCA\n",
      "1061\n",
      "----------------\n",
      "2124 3653\n",
      "TCATTGAGAATTCGCCAGATCATTGATACAAAAAATATCCAAATACCAAATCCGACTTCTATATACTCCCCACAAACTAGACGAAGCTCGTGGGAAGGTCAACGAAAGAACTTCTTCTTCCGACGTTAAGAATTCTTCCAATAATTCCGAGCCCGATCTTTTCAAAAAAGTGCGTACAGTACTTTTGTGTTTCCGAGCTAAAGTTCTAGCACAAGAAAGTCGAAGTATATACTTTATTCGATATAAAGTCTTTTTTTTGGAAGATCCACTATAATAATGAAAAAGATTTCTGCATATACGCCCAAATCGGTCAATAATATCAGAATCTGATAAATCGGACCAAACTGGTTTACTAATGGGATGCCCTAATCCGGTACAAAAGTGTGCTTTAGCTAATGATCCAATCAAAGGAATAATTGGAACAAGGGTATCGAACTTCTTAATTGGATTATTGATTAGAAATGAATTTTCTAACATTTGACTACGTACCATTGAATGATTTAGTCGCACACTTGAAAGATAGCCCATAAAGTCACGGGAATGGTTGGATAATTGGTTTATATGGATCCTTCCTGTGTTAAAGTACATAGAAAAATGACATTGCCAAAAATTGACAAGGTAAAATTTCCATTTATTCATCCAAGGAAACGTCCCTTTTGAAGCCAGAATTGATTTTCCTTCATACCTAACATAATGCATGACAGGATCCTTGAATAACCATAGGGTAACCTGAAAATCCTTAGCAAAGGCTTCTACAAGACGTTCTATTTTTCCATAGAAATATATTCGTTCAAGAAGGGCTCCAAAAGATGTTGATCGTAAATGAGAAGATTGGTTCCGTAGAAAGACGAAAGTGGATTCGCATTCATATACATAAGAATTATATAAGAAGAAGAAGAATCTTTGATTTTTTTTTGAAAAGGAGTAACCGGGCTTCTTTGAAGTAATAAGACTATTCAAATTACAATATTCGTGGAGAAAGAATCGTAATAAATGTAAAGAAGAGGCATCTTTTACCCAATAGCGAAGAGTTTGAACCAAGATTTCCAGATGAACGGGGTAGGGTATTAGTATATCTAATACATAATTTAGATGTGAAAAATTGTCCTCTAAAAAAGGAAATGTTGAATGAATTGATCGTAAATTATGAGATTTGAAAATCTTTTTGCCTTCGAAAGAAGATAAAGAAGATATTAATCGTATAGAAAACGGAATTTCTACAATACATGCAAATCCCTCTGATATCATTTGAGAATACAAACTCTTGTTGCACCCCAAAAACGGATTTTTGTTAGAATCATTAGTAGAAATAATCAAATGATTCTGTTGATCCATTCGAGTAATTAACCGTTTCACAATTAGGAAACTAAATTTATTGTTATAACCTGAATTTTCCAACAAAATCGACCTATTTCTATTTAAACCATGATCCTGAGCAAGTGCATAAATATACTCCTGAAAGATAAGTGGATATAGGAAGTTGTGTTGTTGCGAGCTATCCGGCTGTAAATATCTGTGGATTTCTTCCA\n",
      "1529\n",
      "----------------\n",
      "6025 6064\n",
      "GTTGCTTTCTACCACATCGTTTCAAACGAAGTTTTACCA\n",
      "39\n",
      "----------------\n",
      "4934 5160\n",
      "TTAATTGAATTTCGGTTGATTAAGACGAAGTTCCTTAAAAACCTCTGCCTTCTTTAAAATATCCTGAACAGTTTCTGTAGGTTGAGCCCCTTTTTCAAGGAAATATAAAATAGCAGGAACATTTAAATAAGTTTGATTCTTTATCGGATCATAAAAACCCACTTTCTGAAGATCTTTTCCTTCTCTTCGGGATCGAACATCAATTGCAACGATTCGATAGACGGCT\n",
      "226\n",
      "----------------\n",
      "7584 7769\n",
      "ATGCTTAATACCTTTAGTTTGATCGGTATCTGTCTTAATTCGACCCTTTATTCGAGTAGTTTTTTCTTCGGCAAATTGCCCGAGGCCTATGCTTTTTTGAATCCAATCGTAGATATTATGCCAGTCATACCTCTGTTCTTTTTTCTCTTAGCCTTTGTTTGGCAAGCTGCTGTAAGTTTTCGATG\n",
      "185\n",
      "----------------\n",
      "8131 8241\n",
      "ATGCTTACTCTCAAACTCTTCGTTTACACAGTAGTGATATTTTTTGTTTCTCTCTTCATCTTTGGATTCCTATCTAATGATCCCGGACGTAATCCTGGACGTGAAGAATA\n",
      "110\n",
      "----------------\n",
      "10221 11744\n",
      "TTATGCTTGTTCCTGAAGTATAAAACGATCCATTTGTTCCTGAATAGCTTCCTTCAAAAGGGCTTCTGCTTCCTCGGTAAATGTCTTGGTAGAAGATATGATTTCTTGGAACTGAGGTTTAGTAGTTTTTAAGTAAGTACGTAGCTCAACAAGAAATTTCCTTACCTGTCCAACTTCTAATGAATCAAGATAGCCGTTTGTTCCGGTATAAATAGTCATTATCTGCTCTTCTACCGTGAGAGGGGCTGATTGGGATTGTTTAAGCAATTCACGTAATCGTTGACCTCTTGCCAATTGATTCTGAGTAGCTTTATCGAGATCAGAAGCAAATTGTGCAAAGGCTTCTAATTCTGCGAATTGCGCTAGTTCTAATTTTAATTTACCAGCTACCTGTTTCATGGCTTTTATTTGAGCTGCGGACCCCACTCTGGAAACGGAGATACCCACATTAATAGCAGGTCTGATTCCAGAATTGAATAGGTCGGCGGATAAGAAGATTTGTCCATCAGTAATGGAAATTACATTAGTAGGAATATAAGCCGAAACATCTCCGGATTGAGTTTCAACTATTGGTAAGGCAGTCATACTTCCTTCACCTAAACTCGAACTTAATTTAGCGGCTCTTTCCAAAAGGCGTGAATGCAAATAAAAAACATCTCCTGGATAAGCTTCACGACCGGGCGGTCTTCGTAATAGAAGAGACATTTGGCGATAAGCTTGCGCTTGTTTGGAGAGATCATCATAAATGATTAAAGTGTGTCGTTCACGATACATAAAATATTCAGCCAGAGCTGCTCCTGTATAAGGAGCAAGGTATTGTAATGTAGCAGGGGAATCCGCCGTTTCGGCTACCACAATAGTGTATTCCATCGCTCCCCTTTCCTGTAAAGTAGTTACTACCTGGGCCACAGAAGACGCTTTTTGCCCAATAGCTACATAAACACATATTACATTTTGACCTTGTTGATTGAGAATCGTATCTGTGGCTACTGCTGTTTTACCGGTCTGTCTGTCCCCAATAATTAATTCTCGTTGACCACGTCCTATAGGGATCATCGAATCAATAGCAATAAGTCCGGTTTGAAGAGGCTCATATACGGAACGGCGCGAAATAATACCGGGGGCGGCAGATTCAATTAATCGAAATTCAGAAGCTGAAATTTCACCTCTACCATCAATAGGTTTAGCCAGGGCATTTACAACACGACCCAAATAAGCCTCACTCACGGGTATCTGAGCAATTCTTCCCGTTGCTTTTACAGAACTTCCTTCTTGTATCAACAAACCGTCGCCCATTAATACAACACCAACATTATTTGATTCCAAATTCAGAGCAATGCCTATTGTACCCTCTTCAAATTCTACTAATTCACCCGCCATTACTTCATCAAGACCGTGAATACGAGCAATGCCATCGCCTACTTGAAGTACGGTACCTGTATTTACAATCTTTACTTCTCTATTATATTGTTCAATACGTTCACGGATAATATTACTAATTTCGTCAGCTCGAATGGTTACCA\n",
      "1523\n",
      "----------------\n"
     ]
    }
   ],
   "source": [
    "\n",
    "for (start,stop,direction,phase) in locations[:10]:\n",
    "    print(start,stop)\n",
    "    geneSeq = DNASeq[start-1:stop-1]\n",
    "    print(geneSeq)\n",
    "    print(len(geneSeq))\n",
    "    print(\"----------------\")"
   ]
  },
  {
   "cell_type": "markdown",
   "metadata": {},
   "source": [
    "# 3. Now, refine your solution #\n",
    "\n",
    "If you've gotten this far, you've established that you can get a range of genomic DNA out of a file using coordinates extracted from a GFF file.\n",
    "\n",
    "This is a very common bioinformatics task. NCBI Genbank distributes genomic sequence as a DNA fasta file + separate GFF file as one of its standard downloadable formats of genome information.\n",
    "\n",
    "Ideally, you would like to get that sequence out and into more usable format, so you need to go back and add some refinements to your basic script.\n",
    "\n",
    "# Extract more information about each gene #\n",
    "\n",
    "Assume your end goal is to write out the individual sequences you extract into another standard bioinformatics format, like a multi-entry FASTA file. One thing you're going to need for that is an information line that tells something about what the sequence is. In the GFF file, that information is stored in the big information field at the end of the line. \n",
    "\n",
    "```NC_007898.3\tRefSeq\tCDS\t40319\t42571\t.\t-\t0\tID=cds21;Parent=gene37;Dbxref=Genbank:YP_008563088.1;Name=YP_008563088.1;gbkey=CDS;gene=psaA;product=photosystem I P700 apoprotein A1;protein_id=YP_008563088.1;transl_table=11```\n",
    "\n",
    "One of the subfields that you can extract starts with Dbxref=. This gives a Genbank database identifier for the particular gene. That would let a user cross-reference the sequence with other information. Another useful field that you can easily extract would be the one that starts with gene=. This gives a gene code that may be recognizable to the user. **If you do your line-splitting operations in the right order**, you could also extract the product= subfield, which has even more description about what the gene does.\n",
    "\n",
    "Once you have gene=genename, you probably want to split it by the \"=\" so that you store only the actual gene name (or whatever) and not the generic label and equals sign. So that's a lot of line splits to practice.\n",
    "\n",
    "Go back to the first loop you wrote that extracts the GFF information, and modify it so that you can extract these three fields **in addition** to the coordinates, strand and phase. \n",
    "\n",
    "Store these items in a dictionary, where the key is the unique Genbank identifier, and the value is a tuple of the rest of the information."
   ]
  },
  {
   "cell_type": "code",
   "execution_count": 84,
   "metadata": {},
   "outputs": [],
   "source": [
    "def getGeneInfo(filename):\n",
    "    with open(filename) as fo:\n",
    "        geneInfos = {}\n",
    "        for line in fo.readlines():\n",
    "            line = line.strip()\n",
    "            row = line.split(\"\\t\")\n",
    "            start = int(row[3])\n",
    "            stop = int(row[4])\n",
    "            direction = row[6]\n",
    "            phase = int(row[7])\n",
    "            db = \"\"\n",
    "            gene = \"\"\n",
    "            product = \"\"\n",
    "            for chunk in row[8].split(\";\"):\n",
    "                parts = chunk.split(\"=\")\n",
    "                if parts[0] == \"Dbxref\":\n",
    "                    db = parts[1]\n",
    "                if parts[0] == \"gene\":\n",
    "                    gene = parts[1]\n",
    "                if parts[0] == \"product\":\n",
    "                    product = parts[1]\n",
    "            if not db in geneInfos: \n",
    "                geneInfos[db] = (start,stop,direction,phase,gene,product)\n",
    "#                 print(db, geneInfos[db])\n",
    "    return geneInfos\n",
    "\n",
    "geneInfos = getGeneInfo(\"NC_007898.cds.gff\")\n",
    "\n",
    "# pp.pprint(geneInfos)\n"
   ]
  },
  {
   "cell_type": "markdown",
   "metadata": {},
   "source": [
    "# 4. Now go back and extract the sequences again #\n",
    "\n",
    "Loop over the dictionary you made and go back to get the gene coordinates. Use the following method for your loop:\n",
    "\n",
    "- Loop over sorted(dict.keys()) # this will sort the keys in order of Genbank ID\n",
    "- For each key, use dict.get() to get the value\n",
    "- Access the parts of the value tuple you need with their indexes\n",
    "\n",
    "(You could do this several other ways, and if you like one of them a lot better for some reason, go ahead and solve it the way that works best for you.)\n",
    "\n",
    "Once you can get the coordinates and other information from the value tuple, we can consider how we'd like to store the end result."
   ]
  },
  {
   "cell_type": "code",
   "execution_count": 85,
   "metadata": {},
   "outputs": [],
   "source": [
    "DNASeq = readFasta(\"NC_007898.fasta\")[\"NC_007898.3\"]\n",
    "geneInfos = getGeneInfo(\"NC_007898.cds.gff\")\n",
    "\n",
    "def reverseComp(s):\n",
    "    swaptable = str.maketrans(\"GCTA\", \"CGAT\")\n",
    "    return s.translate(swaptable)[::-1]\n",
    "\n",
    "for key in sorted(geneInfos.keys()):\n",
    "#     print(key)\n",
    "    info = geneInfos.get(key)\n",
    "    start,stop,direction,phase,gene,product = info\n",
    "    \n",
    "    geneSeq = DNASeq[start-1:stop-1]\n",
    "    \n",
    "    if direction == \"-\":\n",
    "        geneSeq = reverseComp(geneSeq)\n",
    "    geneSeq = geneSeq[phase:]\n",
    "    \n",
    "#     print(geneSeq)\n",
    "    \n",
    "    "
   ]
  },
  {
   "cell_type": "markdown",
   "metadata": {},
   "source": [
    "# 5. Make the results more useful #\n",
    "\n",
    "The end result that you want to have is a pair of items. A \"name\" that is made up of the descriptive information about the gene (Genbank ID, gene and product), and a \"seq\" that is made of the sequence saved **in the correct direction and phase**. \n",
    "\n",
    "Remember that if we have a gene sequence that is on the - strand of a genome, we really want its reverse and complement. So **if** strand == \"-\", you can use functions that we have made before to reverse and complement it. Similarly, **if** phase != 0, you need to slice off the first 1 or 2 (depending on the value of phase) sequence positions to get to the first codon.\n",
    "\n",
    "\"Name\" should look something like Dbxref + \" \" + gene + \" \" + product, and seq should be a DNA sequence. Store these in a list of tuple pairs."
   ]
  },
  {
   "cell_type": "code",
   "execution_count": 86,
   "metadata": {},
   "outputs": [
    {
     "name": "stdout",
     "output_type": "stream",
     "text": [
      "['Genbank:YP_008563067.1 rps12 ribosomal protein S12 '\n",
      " 'TGCCAACTATTAAACAACTTATTAGAAATACAAGACAGCCAATCAGAAATGTCACGAAATCCCCCGCTCTTCGGGGGTGCCCTCAGCGTCGAGGAACATGTACTAGGGTGTAT',\n",
      " 'Genbank:YP_008563068.1 psbA photosystem II protein D1 '\n",
      " 'TGACTGCAATTTTAGAGAGACGCGAAAGCGAAAGCCTATGGGGTCGCTTCTGTAACTGGATAACTAGCACTGAAAACCGTCTTTACATTGGATGGTTTGGTGTTTTGATGATCCCTACCTTATTGACGGCAACTTCTGTATTTATTATTGCCTTCATTGCTGCTCCTCCAGTAGACATTGATGGTATTCGTGAACCTGTTTCAGGGTCTCTACTTTACGGAAACAACATTATTTCCGGTGCCATTATTCCTACTTCTGCAGCTATAGGTTTACATTTTTACCCAATCTGGGAAGCGGCATCCGTTGATGAATGGTTATACAACGGTGGTCCTTATGAACTAATTGTTCTACACTTCTTACTTGGCGTAGCTTGTTACATGGGTCGTGAGTGGGAGCTTAGCTTCCGTCTGGGTATGCGACCTTGGATTGCTGTTGCATATTCAGCTCCTGTTGCAGCTGCTACCGCAGTTTTCTTGATCTACCCAATCGGTCAAGGAAGTTTTTCTGATGGTATGCCTCTAGGAATCTCTGGTACTTTCAATTTCATGATTGTATTCCAGGCTGAACACAACATCCTTATGCACCCATTTCACATGTTAGGCGTAGCTGGGGTATTCGGCGGCTCCCTATTCAGTGCTATGCATGGTTCCTTGGTAACTTCTAGTTTGATCAGGGAAACCACAGAAAATGAATCTGCTAATGAAGGTTACAGATTCGGTCAAGAGGAAGAAACTTATAATATCGTAGCCGCTCATGGTTATTTTGGCCGATTGATCTTCCAATATGCTAGTTTCAACAACTCTCGTTCGTTACACTTCTTCCTAGCTGCTTGGCCTGTAGTAGGTATCTGGTTTACCGCTTTAGGTATCAGCACTATGGCTTTCAACCTAAATGGTTTCAATTTCAACCAATCTGTAGTTGACAGTCAGGGTCGTGTAATTAACACTTGGGCTGATATCATCAACCGTGCTAACCTTGGTATGGAAGTTATGCATGAACGTAATGCTCATAACTTCCCTCTAGACCTAGCTGCTATCGAAGCTCCATCTACAAATGGATAA',\n",
      " 'Genbank:YP_008563069.1 matK maturase K '\n",
      " 'TGGAAGAAATCCACAGATATTTACAGCCGGATAGCTCGCAACAACACAACTTCCTATATCCACTTATCTTTCAGGAGTATATTTATGCACTTGCTCAGGATCATGGTTTAAATAGAAATAGGTCGATTTTGTTGGAAAATTCAGGTTATAACAATAAATTTAGTTTCCTAATTGTGAAACGGTTAATTACTCGAATGGATCAACAGAATCATTTGATTATTTCTACTAATGATTCTAACAAAAATCCGTTTTTGGGGTGCAACAAGAGTTTGTATTCTCAAATGATATCAGAGGGATTTGCATGTATTGTAGAAATTCCGTTTTCTATACGATTAATATCTTCTTTATCTTCTTTCGAAGGCAAAAAGATTTTCAAATCTCATAATTTACGATCAATTCATTCAACATTTCCTTTTTTAGAGGACAATTTTTCACATCTAAATTATGTATTAGATATACTAATACCCTACCCCGTTCATCTGGAAATCTTGGTTCAAACTCTTCGCTATTGGGTAAAAGATGCCTCTTCTTTACATTTATTACGATTCTTTCTCCACGAATATTGTAATTTGAATAGTCTTATTACTTCAAAGAAGCCCGGTTACTCCTTTTCAAAAAAAAATCAAAGATTCTTCTTCTTCTTATATAATTCTTATGTATATGAATGCGAATCCACTTTCGTCTTTCTACGGAACCAATCTTCTCATTTACGATCAACATCTTTTGGAGCCCTTCTTGAACGAATATATTTCTATGGAAAAATAGAACGTCTTGTAGAAGCCTTTGCTAAGGATTTTCAGGTTACCCTATGGTTATTCAAGGATCCTGTCATGCATTATGTTAGGTATGAAGGAAAATCAATTCTGGCTTCAAAAGGGACGTTTCCTTGGATGAATAAATGGAAATTTTACCTTGTCAATTTTTGGCAATGTCATTTTTCTATGTACTTTAACACAGGAAGGATCCATATAAACCAATTATCCAACCATTCCCGTGACTTTATGGGCTATCTTTCAAGTGTGCGACTAAATCATTCAATGGTACGTAGTCAAATGTTAGAAAATTCATTTCTAATCAATAATCCAATTAAGAAGTTCGATACCCTTGTTCCAATTATTCCTTTGATTGGATCATTAGCTAAAGCACACTTTTGTACCGGATTAGGGCATCCCATTAGTAAACCAGTTTGGTCCGATTTATCAGATTCTGATATTATTGACCGATTTGGGCGTATATGCAGAAATCTTTTTCATTATTATAGTGGATCTTCCAAAAAAAAGACTTTATATCGAATAAAGTATATACTTCGACTTTCTTGTGCTAGAACTTTAGCTCGGAAACACAAAAGTACTGTACGCACTTTTTTGAAAAGATCGGGCTCGGAATTATTGGAAGAATTCTTAACGTCGGAAGAAGAAGTTCTTTCGTTGACCTTCCCACGAGCTTCGTCTAGTTTGTGGGGAGTATATAGAAGTCGGATTTGGTATTTGGATATTTTTTGTATCAATGATCTGGCGAATTCTCAATGA',\n",
      " 'Genbank:YP_008563070.1 rps16 ribosomal protein S16 '\n",
      " 'TGGTAAAACTTCGTTTGAAACGATGTGGTAGAAAGCAAC',\n",
      " 'Genbank:YP_008563071.1 psbK photosystem II protein K '\n",
      " 'ATGCTTAATACCTTTAGTTTGATCGGTATCTGTCTTAATTCGACCCTTTATTCGAGTAGTTTTTTCTTCGGCAAATTGCCCGAGGCCTATGCTTTTTTGAATCCAATCGTAGATATTATGCCAGTCATACCTCTGTTCTTTTTTCTCTTAGCCTTTGTTTGGCAAGCTGCTGTAAGTTTTCGATG']\n"
     ]
    }
   ],
   "source": [
    "DNASeq = readFasta(\"NC_007898.fasta\")[\"NC_007898.3\"]\n",
    "geneInfos = getGeneInfo(\"NC_007898.cds.gff\")\n",
    "result = []\n",
    "for key in sorted(geneInfos.keys()):\n",
    "    info = geneInfos.get(key)\n",
    "    start,stop,direction,phase,gene,product = info\n",
    "    \n",
    "    geneSeq = DNASeq[start-1:stop-1]\n",
    "    \n",
    "    if direction == \"-\":\n",
    "        geneSeq = reverseComp(geneSeq)\n",
    "    geneSeq = geneSeq[phase:]\n",
    "    \n",
    "    result.append((key+\" \"+gene+\" \"+product+\" \"+geneSeq))\n",
    "    \n",
    "pp.pprint(result[:5])"
   ]
  },
  {
   "cell_type": "markdown",
   "metadata": {},
   "source": [
    "# OPTIONAL / BROWNIE POINTS: Translate the DNA sequence to protein before storing #\n",
    "\n",
    "We just did this with a dictionary. Can you include your translation routine in the script and make it work?\n",
    "\n",
    "**Warning: this might tell you something about whether you really have your sequence in the correct reading frame. What result would you see that would make you need to go back and correct your reading frame slice calculations?**"
   ]
  },
  {
   "cell_type": "code",
   "execution_count": 87,
   "metadata": {},
   "outputs": [],
   "source": [
    "def getTranslation(filename):\n",
    "    codons = {}\n",
    "    with open(filename) as fo:\n",
    "        temp = {}\n",
    "        for line in fo.readlines():\n",
    "            line = line.strip()\n",
    "            row = line.split(\"=\")\n",
    "            row[0] = row[0].strip()\n",
    "            row[1] = row[1].strip()\n",
    "            temp[row[0]] = row[1]\n",
    "        \n",
    "        for i, aa in enumerate(temp[\"AAs\"]):\n",
    "            c = temp[\"Base1\"][i] + temp[\"Base2\"][i] + temp[\"Base3\"][i]\n",
    "            codons[c] = aa\n",
    "    return codons\n",
    "\n",
    "def translateDNA(dna, translation):\n",
    "    aalist = []\n",
    "    for i in range(0,len(dna)-2,3):\n",
    "        codon = dna[i:i+3]\n",
    "        aalist.append(translation.get(codon,\"\"))\n",
    "    return \"\".join(aalist)\n",
    "\n",
    "def generateProteinFasta(dnaFilename, aaFilename, codonFilename):\n",
    "    tt = readCodonFile(codonFilename)\n",
    "    dnaSeqs = readFasta(dnaFilename)\n",
    "    toWrite = \"\"\n",
    "    for identifier, dna in dnaSeqs.items():\n",
    "        toWrite += \">\"+identifier+\"\\n\"\n",
    "        toWrite += translateDNA(dna,tt)+\"\\n\"\n",
    "    f = open(aaFilename, \"w\")\n",
    "    f.write(toWrite)\n",
    "    f.close()"
   ]
  },
  {
   "cell_type": "code",
   "execution_count": 92,
   "metadata": {},
   "outputs": [
    {
     "name": "stdout",
     "output_type": "stream",
     "text": [
      "[ 'Genbank:YP_008563067.1 rps12 ribosomal protein S12 '\n",
      "  'MPTIKQLIRNTRQPIRNVTKSPALRGCPQRRGTCTRVY',\n",
      "  'Genbank:YP_008563068.1 psbA photosystem II protein D1 '\n",
      "  'MTAILERRESESLWGRFCNWITSTENRLYIGWFGVLMIPTLLTATSVFIIAFIAAPPVDIDGIREPVSGSLLYGNNIISGAIIPTSAAIGLHFYPIWEAASVDEWLYNGGPYELIVLHFLLGVACYMGREWELSFRLGMRPWIAVAYSAPVAAATAVFLIYPIGQGSFSDGMPLGISGTFNFMIVFQAEHNILMHPFHMLGVAGVFGGSLFSAMHGSLVTSSLIRETTENESANEGYRFGQEEETYNIVAAHGYFGRLIFQYASFNNSRSLHFFLAAWPVVGIWFTALGISTMAFNLNGFNFNQSVVDSQGRVINTWADIINRANLGMEVMHERNAHNFPLDLAAIEAPSTNG*',\n",
      "  'Genbank:YP_008563069.1 matK maturase K '\n",
      "  'MEEIHRYLQPDSSQQHNFLYPLIFQEYIYALAQDHGLNRNRSILLENSGYNNKFSFLIVKRLITRMDQQNHLIISTNDSNKNPFLGCNKSLYSQMISEGFACIVEIPFSIRLISSLSSFEGKKIFKSHNLRSIHSTFPFLEDNFSHLNYVLDILIPYPVHLEILVQTLRYWVKDASSLHLLRFFLHEYCNLNSLITSKKPGYSFSKKNQRFFFFLYNSYVYECESTFVFLRNQSSHLRSTSFGALLERIYFYGKIERLVEAFAKDFQVTLWLFKDPVMHYVRYEGKSILASKGTFPWMNKWKFYLVNFWQCHFSMYFNTGRIHINQLSNHSRDFMGYLSSVRLNHSMVRSQMLENSFLINNPIKKFDTLVPIIPLIGSLAKAHFCTGLGHPISKPVWSDLSDSDIIDRFGRICRNLFHYYSGSSKKKTLYRIKYILRLSCARTLARKHKSTVRTFLKRSGSELLEEFLTSEEEVLSLTFPRASSSLWGVYRSRIWYLDIFCINDLANSQ*',\n",
      "  'Genbank:YP_008563070.1 rps16 ribosomal protein S16 MVKLRLKRCGRKQ',\n",
      "  'Genbank:YP_008563071.1 psbK photosystem II protein K '\n",
      "  'MLNTFSLIGICLNSTLYSSSFFFGKLPEAYAFLNPIVDIMPVIPLFFFLLAFVWQAAVSFR*']\n"
     ]
    }
   ],
   "source": [
    "pp = pprint.PrettyPrinter(2)\n",
    "DNASeq = readFasta(\"NC_007898.fasta\")[\"NC_007898.3\"]\n",
    "geneInfos = getGeneInfo(\"NC_007898.cds.gff\")\n",
    "\n",
    "transTable = getTranslation(\"bacterialcode.txt\") #NCBI Trans Table 11\n",
    "\n",
    "result = []\n",
    "\n",
    "for key in sorted(geneInfos.keys()):\n",
    "    \n",
    "    info = geneInfos.get(key)\n",
    "    start,stop,direction,phase,gene,product = info\n",
    "    \n",
    "    geneSeq = DNASeq[start-1:stop]\n",
    "    \n",
    "    if direction == \"-\":\n",
    "        geneSeq = reverseComp(geneSeq)\n",
    "    geneSeq = geneSeq[phase:]\n",
    "    \n",
    "    protein = translateDNA(geneSeq,transTable)\n",
    "    \n",
    "    result.append((key+\" \"+gene+\" \"+product+\" \"+protein))\n",
    "    \n",
    "pp.pprint(result[:5])"
   ]
  },
  {
   "cell_type": "markdown",
   "metadata": {},
   "source": [
    "# OPTIONAL / BROWNIE POINTS: Write the names and seqs out to a FASTA format file #\n",
    "\n",
    "A FASTA file looks like:\n",
    "\n",
    "> name\n",
    "SEQSEQSEQSEQSEQSEQetc\n",
    "\n",
    "Loop over your list of tuples and write your sequences out to a FASTA format file. The sequence lines can be however long they are.\n",
    "\n"
   ]
  },
  {
   "cell_type": "code",
   "execution_count": 98,
   "metadata": {},
   "outputs": [],
   "source": [
    "DNASeq = readFasta(\"NC_007898.fasta\")[\"NC_007898.3\"]\n",
    "geneInfos = getGeneInfo(\"NC_007898.cds.gff\")\n",
    "result = \"\"\n",
    "for key in sorted(geneInfos.keys()):\n",
    "    info = geneInfos.get(key)\n",
    "    start,stop,direction,phase,gene,product = info\n",
    "    \n",
    "    geneSeq = DNASeq[start-1:stop-1]\n",
    "    \n",
    "    if direction == \"-\":\n",
    "        geneSeq = reverseComp(geneSeq)\n",
    "    geneSeq = geneSeq[phase:]\n",
    "    \n",
    "    result += \">\"+str(key)+\"\\n\"\n",
    "    result += geneSeq+\"\\n\"\n",
    "    \n",
    "with open(\"practice.fasta\",\"w\") as fo:\n",
    "    fo.write(result)"
   ]
  },
  {
   "cell_type": "markdown",
   "metadata": {},
   "source": [
    "# OPTIONAL / BROWNIE POINTS: Write the sequence in 80 character lines #\n",
    "\n",
    "A really standard FASTA format breaks the sequence up into 80 character lines, for legacy reasons that have to do with how old-school programming languages like FORTRAN work. You can do this using a range with a step looping over the sequence...see if you can figure it out. I'll show you how next week."
   ]
  },
  {
   "cell_type": "code",
   "execution_count": 100,
   "metadata": {},
   "outputs": [],
   "source": [
    "DNASeq = readFasta(\"NC_007898.fasta\")[\"NC_007898.3\"]\n",
    "geneInfos = getGeneInfo(\"NC_007898.cds.gff\")\n",
    "result = \"\"\n",
    "for key in sorted(geneInfos.keys()):\n",
    "    info = geneInfos.get(key)\n",
    "    start,stop,direction,phase,gene,product = info\n",
    "    \n",
    "    geneSeq = DNASeq[start-1:stop-1]\n",
    "    \n",
    "    if direction == \"-\":\n",
    "        geneSeq = reverseComp(geneSeq)\n",
    "    geneSeq = geneSeq[phase:]\n",
    "    \n",
    "    result += \">\"+str(key)+\"\\n\"\n",
    "    for i in range(0,len(geneSeq),80):\n",
    "        result += geneSeq[i:i+80]+\"\\n\"\n",
    "    \n",
    "with open(\"practice80.fasta\",\"w\") as fo:\n",
    "    fo.write(result)"
   ]
  },
  {
   "cell_type": "code",
   "execution_count": null,
   "metadata": {},
   "outputs": [],
   "source": []
  }
 ],
 "metadata": {
  "kernelspec": {
   "display_name": "Python 3",
   "language": "python",
   "name": "python3"
  },
  "language_info": {
   "codemirror_mode": {
    "name": "ipython",
    "version": 3
   },
   "file_extension": ".py",
   "mimetype": "text/x-python",
   "name": "python",
   "nbconvert_exporter": "python",
   "pygments_lexer": "ipython3",
   "version": "3.9.0"
  }
 },
 "nbformat": 4,
 "nbformat_minor": 4
}
